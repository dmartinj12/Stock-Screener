{
 "cells": [
  {
   "cell_type": "code",
   "execution_count": 1,
   "id": "55802633-4c20-4d30-9cee-add7b30f8e00",
   "metadata": {},
   "outputs": [
    {
     "name": "stdout",
     "output_type": "stream",
     "text": [
      "ct0fm0pr01qkfpo5njo0ct0fm0pr01qkfpo5njog\n"
     ]
    }
   ],
   "source": [
    "import yfinance as yf\n",
    "import pandas as pd\n",
    "import talib\n",
    "from config import api_key\n",
    "import requests\n",
    "import time\n",
    "print(api_key)"
   ]
  },
  {
   "cell_type": "code",
   "execution_count": null,
   "id": "1db299a4-8b9a-4b59-8433-efd9812b6575",
   "metadata": {},
   "outputs": [],
   "source": [
    "themes_df = pd.read_csv(\"../Resources/themes.csv\")\n"
   ]
  },
  {
   "cell_type": "code",
   "execution_count": 5,
   "id": "4851c47c-2f82-4c81-9856-907b3fcb9355",
   "metadata": {},
   "outputs": [
    {
     "name": "stdout",
     "output_type": "stream",
     "text": [
      "{}\n",
      "Failed to fetch market data.\n"
     ]
    }
   ],
   "source": [
    "import requests\n",
    "import pandas as pd\n",
    "\n",
    "# Fetch top gainers and losers (proxy for volatility)\n",
    "def fetch_market_movers():\n",
    "    url = f\"https://finnhub.io/api/v1/scan/technical-indicators\"\n",
    "    params = {\n",
    "        \"exchange\": \"US\",\n",
    "        \"indicator\": \"rsi\",\n",
    "        \"token\": api_key,\n",
    "    }\n",
    "    response = requests.get(url, params=params)\n",
    "    print(response.json())\n",
    "\n",
    "# Process and rank by volume and volatility\n",
    "def process_data(data):\n",
    "    stocks = []\n",
    "    for stock in data.get(\"data\", []):\n",
    "        stocks.append({\n",
    "            \"ticker\": stock[\"ticker\"],\n",
    "            \"volume\": stock.get(\"volume\", 0),\n",
    "            \"percent_change\": stock.get(\"percent_change\", 0),\n",
    "        })\n",
    "    df = pd.DataFrame(stocks)\n",
    "    df[\"volatility_score\"] = df[\"percent_change\"] * df[\"volume\"]\n",
    "    return df.sort_values(by=\"volatility_score\", ascending=False).head(10)\n",
    "\n",
    "# Main workflow\n",
    "data = fetch_market_movers()\n",
    "if data:\n",
    "    top_stocks = process_data(data)\n",
    "    print(top_stocks)\n",
    "else:\n",
    "    print(\"Failed to fetch market data.\")\n"
   ]
  },
  {
   "cell_type": "code",
   "execution_count": 3,
   "id": "329b8d41-d14c-484e-8bdd-06e7d6aebf06",
   "metadata": {},
   "outputs": [
    {
     "ename": "NameError",
     "evalue": "name 'response' is not defined",
     "output_type": "error",
     "traceback": [
      "\u001b[1;31m---------------------------------------------------------------------------\u001b[0m",
      "\u001b[1;31mNameError\u001b[0m                                 Traceback (most recent call last)",
      "Cell \u001b[1;32mIn[3], line 1\u001b[0m\n\u001b[1;32m----> 1\u001b[0m \u001b[38;5;28mprint\u001b[39m(\u001b[43mresponse\u001b[49m)\n",
      "\u001b[1;31mNameError\u001b[0m: name 'response' is not defined"
     ]
    }
   ],
   "source": []
  },
  {
   "cell_type": "code",
   "execution_count": null,
   "id": "74d6797f-e9dd-48c0-8408-4a1a6c3dca96",
   "metadata": {},
   "outputs": [],
   "source": []
  }
 ],
 "metadata": {
  "kernelspec": {
   "display_name": "dev",
   "language": "python",
   "name": "dev"
  },
  "language_info": {
   "codemirror_mode": {
    "name": "ipython",
    "version": 3
   },
   "file_extension": ".py",
   "mimetype": "text/x-python",
   "name": "python",
   "nbconvert_exporter": "python",
   "pygments_lexer": "ipython3",
   "version": "3.10.14"
  }
 },
 "nbformat": 4,
 "nbformat_minor": 5
}
