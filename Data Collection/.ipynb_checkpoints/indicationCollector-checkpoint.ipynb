{
 "cells": [
  {
   "cell_type": "code",
   "execution_count": 1,
   "id": "74b2b70d-59f5-4a82-8298-3f94af4d56e5",
   "metadata": {},
   "outputs": [],
   "source": [
    "# Import dependencies\n",
    "import pandas as pd\n",
    "pd.set_option('display.max_colwidth', None)\n",
    "import yfinance as yf\n",
    "import talib\n",
    "import re\n",
    "from datetime import datetime\n",
    "import numpy as np\n",
    "import re"
   ]
  },
  {
   "cell_type": "code",
   "execution_count": 2,
   "id": "71c09c89-db5f-4b0b-b768-6ab77281186a",
   "metadata": {},
   "outputs": [],
   "source": [
    "# Read in csv files\n",
    "screened_df = pd.read_csv('../Resources/filteredByLiquidity.csv')\n",
    "training_df = pd.read_csv(\"../Resources/forFurtherPurposes.csv\")\n"
   ]
  },
  {
   "cell_type": "code",
   "execution_count": 3,
   "id": "0e0800aa-5765-4201-b3c6-34f0c804e1b3",
   "metadata": {},
   "outputs": [
    {
     "data": {
      "text/plain": [
       "196"
      ]
     },
     "execution_count": 3,
     "metadata": {},
     "output_type": "execute_result"
    }
   ],
   "source": [
    "# Getting total count of tickers\n",
    "tickers = training_df[\"Ticker\"]\n",
    "len(tickers)"
   ]
  },
  {
   "cell_type": "code",
   "execution_count": 4,
   "id": "3b40b825-3b50-4ab5-b7ba-c00dc6a83907",
   "metadata": {},
   "outputs": [
    {
     "name": "stdout",
     "output_type": "stream",
     "text": [
      "Downloading data for VCIG...\n"
     ]
    },
    {
     "name": "stderr",
     "output_type": "stream",
     "text": [
      "[*********************100%***********************]  1 of 1 completed\n",
      "[*********************100%***********************]  1 of 1 completed\n",
      "[*********************100%***********************]  1 of 1 completed\n"
     ]
    },
    {
     "name": "stdout",
     "output_type": "stream",
     "text": [
      "Downloading data for NVDA...\n",
      "Downloading data for MARA...\n",
      "Downloading data for BBD...\n"
     ]
    },
    {
     "name": "stderr",
     "output_type": "stream",
     "text": [
      "[*********************100%***********************]  1 of 1 completed\n",
      "[*********************100%***********************]  1 of 1 completed\n",
      "[*********************100%***********************]  1 of 1 completed\n",
      "[*********************100%***********************]  1 of 1 completed\n",
      "[*********************100%***********************]  1 of 1 completed"
     ]
    },
    {
     "name": "stdout",
     "output_type": "stream",
     "text": [
      "Downloading data for SMCI...\n",
      "Downloading data for ACHR...\n",
      "Downloading data for RGTI...\n",
      "Downloading data for BITF...\n"
     ]
    },
    {
     "name": "stderr",
     "output_type": "stream",
     "text": [
      "\n",
      "[*********************100%***********************]  1 of 1 completed\n",
      "[*********************100%***********************]  1 of 1 completed\n"
     ]
    },
    {
     "name": "stdout",
     "output_type": "stream",
     "text": [
      "Downloading data for TSLA...\n",
      "Downloading data for UMAC...\n",
      "Downloading data for PLUG...\n"
     ]
    },
    {
     "name": "stderr",
     "output_type": "stream",
     "text": [
      "[*********************100%***********************]  1 of 1 completed\n",
      "[*********************100%***********************]  1 of 1 completed\n",
      "[*********************100%***********************]  1 of 1 completed\n",
      "[*********************100%***********************]  1 of 1 completed\n"
     ]
    },
    {
     "name": "stdout",
     "output_type": "stream",
     "text": [
      "Downloading data for INTC...\n",
      "Downloading data for LCID...\n",
      "Downloading data for PLTR...\n",
      "Downloading data for RIVN...\n"
     ]
    },
    {
     "name": "stderr",
     "output_type": "stream",
     "text": [
      "[*********************100%***********************]  1 of 1 completed\n",
      "[*********************100%***********************]  1 of 1 completed\n",
      "[*********************100%***********************]  1 of 1 completed\n",
      "[*********************100%***********************]  1 of 1 completed\n",
      "[*********************100%***********************]  1 of 1 completed"
     ]
    },
    {
     "name": "stdout",
     "output_type": "stream",
     "text": [
      "Downloading data for SOFI...\n",
      "Downloading data for QUBT...\n",
      "Downloading data for NIO...\n",
      "Downloading data for IREN...\n"
     ]
    },
    {
     "name": "stderr",
     "output_type": "stream",
     "text": [
      "\n",
      "[*********************100%***********************]  1 of 1 completed\n",
      "[*********************100%***********************]  1 of 1 completed\n"
     ]
    },
    {
     "name": "stdout",
     "output_type": "stream",
     "text": [
      "Downloading data for OPEN...\n",
      "Downloading data for DELL...\n",
      "Downloading data for ABEV...\n"
     ]
    },
    {
     "name": "stderr",
     "output_type": "stream",
     "text": [
      "[*********************100%***********************]  1 of 1 completed\n",
      "[*********************100%***********************]  1 of 1 completed\n",
      "[*********************100%***********************]  1 of 1 completed\n"
     ]
    },
    {
     "name": "stdout",
     "output_type": "stream",
     "text": [
      "Downloading data for GRAB...\n",
      "Downloading data for MSTR...\n",
      "Downloading data for ITUB...\n"
     ]
    },
    {
     "name": "stderr",
     "output_type": "stream",
     "text": [
      "[*********************100%***********************]  1 of 1 completed\n",
      "[*********************100%***********************]  1 of 1 completed\n",
      "[*********************100%***********************]  1 of 1 completed\n"
     ]
    },
    {
     "name": "stdout",
     "output_type": "stream",
     "text": [
      "Downloading data for CLSK...\n",
      "Downloading data for AAPL...\n",
      "Downloading data for T...\n"
     ]
    },
    {
     "name": "stderr",
     "output_type": "stream",
     "text": [
      "[*********************100%***********************]  1 of 1 completed\n",
      "[*********************100%***********************]  1 of 1 completed\n",
      "[*********************100%***********************]  1 of 1 completed\n",
      "[*********************100%***********************]  1 of 1 completed\n"
     ]
    },
    {
     "name": "stdout",
     "output_type": "stream",
     "text": [
      "Downloading data for SOUN...\n",
      "Downloading data for BTBT...\n",
      "Downloading data for NU...\n",
      "Downloading data for AMD...\n"
     ]
    },
    {
     "name": "stderr",
     "output_type": "stream",
     "text": [
      "[*********************100%***********************]  1 of 1 completed\n",
      "[*********************100%***********************]  1 of 1 completed\n",
      "[*********************100%***********************]  1 of 1 completed\n"
     ]
    },
    {
     "name": "stdout",
     "output_type": "stream",
     "text": [
      "Downloading data for CYCN...\n",
      "Downloading data for RIOT...\n",
      "Downloading data for F...\n"
     ]
    },
    {
     "name": "stderr",
     "output_type": "stream",
     "text": [
      "[*********************100%***********************]  1 of 1 completed\n",
      "[*********************100%***********************]  1 of 1 completed\n",
      "[*********************100%***********************]  1 of 1 completed\n"
     ]
    },
    {
     "name": "stdout",
     "output_type": "stream",
     "text": [
      "Downloading data for PFE...\n",
      "Downloading data for VALE...\n",
      "Downloading data for AMZN...\n"
     ]
    },
    {
     "name": "stderr",
     "output_type": "stream",
     "text": [
      "[*********************100%***********************]  1 of 1 completed\n",
      "[*********************100%***********************]  1 of 1 completed\n",
      "[*********************100%***********************]  1 of 1 completed\n"
     ]
    },
    {
     "name": "stdout",
     "output_type": "stream",
     "text": [
      "Downloading data for HPQ...\n",
      "Downloading data for IQ...\n",
      "Downloading data for RKLB...\n"
     ]
    },
    {
     "name": "stderr",
     "output_type": "stream",
     "text": [
      "[*********************100%***********************]  1 of 1 completed\n",
      "[*********************100%***********************]  1 of 1 completed\n",
      "[*********************100%***********************]  1 of 1 completed\n",
      "[*********************100%***********************]  1 of 1 completed"
     ]
    },
    {
     "name": "stdout",
     "output_type": "stream",
     "text": [
      "Downloading data for WBD...\n",
      "Downloading data for HIMS...\n",
      "Downloading data for IONQ...\n"
     ]
    },
    {
     "name": "stderr",
     "output_type": "stream",
     "text": [
      "\n",
      "[*********************100%***********************]  1 of 1 completed\n"
     ]
    },
    {
     "name": "stdout",
     "output_type": "stream",
     "text": [
      "Downloading data for BAC...\n",
      "Downloading data for KSS...\n"
     ]
    },
    {
     "name": "stderr",
     "output_type": "stream",
     "text": [
      "[*********************100%***********************]  1 of 1 completed\n",
      "[*********************100%***********************]  1 of 1 completed\n",
      "[*********************100%***********************]  1 of 1 completed"
     ]
    },
    {
     "name": "stdout",
     "output_type": "stream",
     "text": [
      "Downloading data for QBTS...\n",
      "Downloading data for ET...\n",
      "Downloading data for WULF...\n"
     ]
    },
    {
     "name": "stderr",
     "output_type": "stream",
     "text": [
      "\n",
      "[*********************100%***********************]  1 of 1 completed\n",
      "[*********************100%***********************]  1 of 1 completed\n",
      "[*********************100%***********************]  1 of 1 completed\n"
     ]
    },
    {
     "name": "stdout",
     "output_type": "stream",
     "text": [
      "Downloading data for LYFT...\n",
      "Downloading data for SYM...\n",
      "Downloading data for GOLD...\n"
     ]
    },
    {
     "name": "stderr",
     "output_type": "stream",
     "text": [
      "[*********************100%***********************]  1 of 1 completed\n",
      "[*********************100%***********************]  1 of 1 completed\n",
      "[*********************100%***********************]  1 of 1 completed"
     ]
    },
    {
     "name": "stdout",
     "output_type": "stream",
     "text": [
      "Downloading data for SAVA...\n",
      "Downloading data for WFC...\n"
     ]
    },
    {
     "name": "stderr",
     "output_type": "stream",
     "text": [
      "\n",
      "[*********************100%***********************]  1 of 1 completed\n",
      "[*********************100%***********************]  1 of 1 completed\n"
     ]
    },
    {
     "name": "stdout",
     "output_type": "stream",
     "text": [
      "Downloading data for AVGO...\n",
      "Downloading data for JOBY...\n",
      "Downloading data for AMCR...\n"
     ]
    },
    {
     "name": "stderr",
     "output_type": "stream",
     "text": [
      "[*********************100%***********************]  1 of 1 completed\n",
      "[*********************100%***********************]  1 of 1 completed\n",
      "[*********************100%***********************]  1 of 1 completed\n"
     ]
    },
    {
     "name": "stdout",
     "output_type": "stream",
     "text": [
      "Downloading data for DNN...\n",
      "Downloading data for GGB...\n",
      "Downloading data for MSFT...\n"
     ]
    },
    {
     "name": "stderr",
     "output_type": "stream",
     "text": [
      "[*********************100%***********************]  1 of 1 completed\n",
      "[*********************100%***********************]  1 of 1 completed\n",
      "[*********************100%***********************]  1 of 1 completed"
     ]
    },
    {
     "name": "stdout",
     "output_type": "stream",
     "text": [
      "Downloading data for TRNR...\n",
      "Downloading data for MU...\n",
      "Downloading data for AES...\n"
     ]
    },
    {
     "name": "stderr",
     "output_type": "stream",
     "text": [
      "\n",
      "[*********************100%***********************]  1 of 1 completed\n",
      "[*********************100%***********************]  1 of 1 completed\n",
      "[*********************100%***********************]  1 of 1 completed\n"
     ]
    },
    {
     "name": "stdout",
     "output_type": "stream",
     "text": [
      "Downloading data for BB...\n",
      "Downloading data for HPE...\n",
      "Downloading data for PBR...\n"
     ]
    },
    {
     "name": "stderr",
     "output_type": "stream",
     "text": [
      "[*********************100%***********************]  1 of 1 completed\n",
      "[*********************100%***********************]  1 of 1 completed\n",
      "[*********************100%***********************]  1 of 1 completed\n",
      "[*********************100%***********************]  1 of 1 completed"
     ]
    },
    {
     "name": "stdout",
     "output_type": "stream",
     "text": [
      "Downloading data for JD...\n",
      "Downloading data for APLT...\n",
      "Downloading data for HOOD...\n",
      "Downloading data for AMC...\n"
     ]
    },
    {
     "name": "stderr",
     "output_type": "stream",
     "text": [
      "\n",
      "[*********************100%***********************]  1 of 1 completed\n",
      "[*********************100%***********************]  1 of 1 completed\n",
      "[*********************100%***********************]  1 of 1 completed\n",
      "[*********************100%***********************]  1 of 1 completed\n"
     ]
    },
    {
     "name": "stdout",
     "output_type": "stream",
     "text": [
      "Downloading data for ASPI...\n",
      "Downloading data for XPEV...\n",
      "Downloading data for AAL...\n",
      "Downloading data for WMT...\n"
     ]
    },
    {
     "name": "stderr",
     "output_type": "stream",
     "text": [
      "[*********************100%***********************]  1 of 1 completed\n",
      "[*********************100%***********************]  1 of 1 completed\n",
      "[*********************100%***********************]  1 of 1 completed"
     ]
    },
    {
     "name": "stdout",
     "output_type": "stream",
     "text": [
      "Downloading data for SNAP...\n",
      "Downloading data for WDAY...\n",
      "Downloading data for WBA...\n"
     ]
    },
    {
     "name": "stderr",
     "output_type": "stream",
     "text": [
      "\n",
      "[*********************100%***********************]  1 of 1 completed\n",
      "[*********************100%***********************]  1 of 1 completed\n",
      "[*********************100%***********************]  1 of 1 completed\n"
     ]
    },
    {
     "name": "stdout",
     "output_type": "stream",
     "text": [
      "Downloading data for BABA...\n",
      "Downloading data for AU...\n",
      "Downloading data for COIN...\n"
     ]
    },
    {
     "name": "stderr",
     "output_type": "stream",
     "text": [
      "[*********************100%***********************]  1 of 1 completed\n",
      "[*********************100%***********************]  1 of 1 completed\n"
     ]
    },
    {
     "name": "stdout",
     "output_type": "stream",
     "text": [
      "Downloading data for KO...\n",
      "Downloading data for KGC...\n"
     ]
    },
    {
     "name": "stderr",
     "output_type": "stream",
     "text": [
      "[*********************100%***********************]  1 of 1 completed\n",
      "[*********************100%***********************]  1 of 1 completed\n",
      "[*********************100%***********************]  1 of 1 completed\n",
      "[*********************100%***********************]  1 of 1 completed"
     ]
    },
    {
     "name": "stdout",
     "output_type": "stream",
     "text": [
      "Downloading data for LX...\n",
      "Downloading data for IFBD...\n",
      "Downloading data for UBER...\n",
      "Downloading data for NOK...\n"
     ]
    },
    {
     "name": "stderr",
     "output_type": "stream",
     "text": [
      "\n",
      "[*********************100%***********************]  1 of 1 completed\n",
      "[*********************100%***********************]  1 of 1 completed\n",
      "[*********************100%***********************]  1 of 1 completed\n"
     ]
    },
    {
     "name": "stdout",
     "output_type": "stream",
     "text": [
      "Downloading data for GME...\n",
      "Downloading data for RIG...\n",
      "Downloading data for CSCO...\n"
     ]
    },
    {
     "name": "stderr",
     "output_type": "stream",
     "text": [
      "[*********************100%***********************]  1 of 1 completed\n",
      "[*********************100%***********************]  1 of 1 completed\n",
      "[*********************100%***********************]  1 of 1 completed\n"
     ]
    },
    {
     "name": "stdout",
     "output_type": "stream",
     "text": [
      "Downloading data for BZ...\n",
      "Downloading data for GOOG...\n",
      "Downloading data for VZ...\n"
     ]
    },
    {
     "name": "stderr",
     "output_type": "stream",
     "text": [
      "[*********************100%***********************]  1 of 1 completed\n",
      "[*********************100%***********************]  1 of 1 completed\n",
      "[*********************100%***********************]  1 of 1 completed\n"
     ]
    },
    {
     "name": "stdout",
     "output_type": "stream",
     "text": [
      "Downloading data for HUT...\n",
      "Downloading data for AGNC...\n",
      "Downloading data for BE...\n"
     ]
    },
    {
     "name": "stderr",
     "output_type": "stream",
     "text": [
      "[*********************100%***********************]  1 of 1 completed\n",
      "[*********************100%***********************]  1 of 1 completed\n",
      "[*********************100%***********************]  1 of 1 completed\n",
      "[*********************100%***********************]  1 of 1 completed\n"
     ]
    },
    {
     "name": "stdout",
     "output_type": "stream",
     "text": [
      "Downloading data for YMM...\n",
      "Downloading data for KVUE...\n",
      "Downloading data for BTG...\n",
      "Downloading data for LUNR...\n"
     ]
    },
    {
     "name": "stderr",
     "output_type": "stream",
     "text": [
      "[*********************100%***********************]  1 of 1 completed\n",
      "[*********************100%***********************]  1 of 1 completed\n",
      "[*********************100%***********************]  1 of 1 completed\n",
      "[*********************100%***********************]  1 of 1 completed"
     ]
    },
    {
     "name": "stdout",
     "output_type": "stream",
     "text": [
      "Downloading data for GM...\n",
      "Downloading data for RXRX...\n",
      "Downloading data for PARA...\n"
     ]
    },
    {
     "name": "stderr",
     "output_type": "stream",
     "text": [
      "\n",
      "[*********************100%***********************]  1 of 1 completed\n",
      "[*********************100%***********************]  1 of 1 completed"
     ]
    },
    {
     "name": "stdout",
     "output_type": "stream",
     "text": [
      "Downloading data for XOM...\n",
      "Downloading data for SMR...\n",
      "Downloading data for CRWD...\n"
     ]
    },
    {
     "name": "stderr",
     "output_type": "stream",
     "text": [
      "\n",
      "[*********************100%***********************]  1 of 1 completed\n",
      "[*********************100%***********************]  1 of 1 completed\n",
      "[*********************100%***********************]  1 of 1 completed\n"
     ]
    },
    {
     "name": "stdout",
     "output_type": "stream",
     "text": [
      "Downloading data for APLD...\n",
      "Downloading data for WDC...\n",
      "Downloading data for HL...\n"
     ]
    },
    {
     "name": "stderr",
     "output_type": "stream",
     "text": [
      "[*********************100%***********************]  1 of 1 completed\n",
      "[*********************100%***********************]  1 of 1 completed\n",
      "[*********************100%***********************]  1 of 1 completed"
     ]
    },
    {
     "name": "stdout",
     "output_type": "stream",
     "text": [
      "Downloading data for ZIM...\n",
      "Downloading data for BTE...\n",
      "Downloading data for LUMN...\n"
     ]
    },
    {
     "name": "stderr",
     "output_type": "stream",
     "text": [
      "\n",
      "[*********************100%***********************]  1 of 1 completed\n",
      "[*********************100%***********************]  1 of 1 completed\n",
      "[*********************100%***********************]  1 of 1 completed"
     ]
    },
    {
     "name": "stdout",
     "output_type": "stream",
     "text": [
      "Downloading data for PTON...\n",
      "Downloading data for MAC...\n",
      "Downloading data for TSM...\n"
     ]
    },
    {
     "name": "stderr",
     "output_type": "stream",
     "text": [
      "\n",
      "[*********************100%***********************]  1 of 1 completed\n",
      "[*********************100%***********************]  1 of 1 completed\n"
     ]
    },
    {
     "name": "stdout",
     "output_type": "stream",
     "text": [
      "Downloading data for MRK...\n",
      "Downloading data for C...\n"
     ]
    },
    {
     "name": "stderr",
     "output_type": "stream",
     "text": [
      "[*********************100%***********************]  1 of 1 completed\n",
      "[*********************100%***********************]  1 of 1 completed\n",
      "[*********************100%***********************]  1 of 1 completed"
     ]
    },
    {
     "name": "stdout",
     "output_type": "stream",
     "text": [
      "Downloading data for TEVA...\n",
      "Downloading data for CNH...\n"
     ]
    },
    {
     "name": "stderr",
     "output_type": "stream",
     "text": [
      "\n",
      "[*********************100%***********************]  1 of 1 completed\n",
      "[*********************100%***********************]  1 of 1 completed\n",
      "[*********************100%***********************]  1 of 1 completed"
     ]
    },
    {
     "name": "stdout",
     "output_type": "stream",
     "text": [
      "Downloading data for WOLF...\n",
      "Downloading data for JBLU...\n",
      "Downloading data for CIFR...\n",
      "Downloading data for PDD...\n"
     ]
    },
    {
     "name": "stderr",
     "output_type": "stream",
     "text": [
      "\n",
      "[*********************100%***********************]  1 of 1 completed\n",
      "[*********************100%***********************]  1 of 1 completed\n",
      "[*********************100%***********************]  1 of 1 completed\n",
      "[*********************100%***********************]  1 of 1 completed\n"
     ]
    },
    {
     "name": "stdout",
     "output_type": "stream",
     "text": [
      "Downloading data for LYG...\n",
      "Downloading data for OWL...\n",
      "Downloading data for NOVA...\n"
     ]
    },
    {
     "name": "stderr",
     "output_type": "stream",
     "text": [
      "[*********************100%***********************]  1 of 1 completed\n"
     ]
    },
    {
     "name": "stdout",
     "output_type": "stream",
     "text": [
      "Downloading data for INFY...\n",
      "Downloading data for CCL...\n"
     ]
    },
    {
     "name": "stderr",
     "output_type": "stream",
     "text": [
      "[*********************100%***********************]  1 of 1 completed\n",
      "[*********************100%***********************]  1 of 1 completed\n",
      "[*********************100%***********************]  1 of 1 completed"
     ]
    },
    {
     "name": "stdout",
     "output_type": "stream",
     "text": [
      "Downloading data for XP...\n",
      "Downloading data for MPW...\n",
      "Downloading data for BBAI...\n"
     ]
    },
    {
     "name": "stderr",
     "output_type": "stream",
     "text": [
      "\n",
      "[*********************100%***********************]  1 of 1 completed\n",
      "[*********************100%***********************]  1 of 1 completed\n",
      "[*********************100%***********************]  1 of 1 completed"
     ]
    },
    {
     "name": "stdout",
     "output_type": "stream",
     "text": [
      "Downloading data for UMC...\n",
      "Downloading data for HBAN...\n",
      "Downloading data for HSAI...\n"
     ]
    },
    {
     "name": "stderr",
     "output_type": "stream",
     "text": [
      "\n",
      "[*********************100%***********************]  1 of 1 completed\n",
      "[*********************100%***********************]  1 of 1 completed\n",
      "[*********************100%***********************]  1 of 1 completed\n"
     ]
    },
    {
     "name": "stdout",
     "output_type": "stream",
     "text": [
      "Downloading data for LESL...\n",
      "Downloading data for MRVL...\n",
      "Downloading data for PCG...\n"
     ]
    },
    {
     "name": "stderr",
     "output_type": "stream",
     "text": [
      "[*********************100%***********************]  1 of 1 completed\n",
      "[*********************100%***********************]  1 of 1 completed\n",
      "[*********************100%***********************]  1 of 1 completed\n"
     ]
    },
    {
     "name": "stdout",
     "output_type": "stream",
     "text": [
      "Downloading data for PAGS...\n",
      "Downloading data for NKE...\n",
      "Downloading data for NEE...\n"
     ]
    },
    {
     "name": "stderr",
     "output_type": "stream",
     "text": [
      "[*********************100%***********************]  1 of 1 completed\n",
      "[*********************100%***********************]  1 of 1 completed\n",
      "[*********************100%***********************]  1 of 1 completed"
     ]
    },
    {
     "name": "stdout",
     "output_type": "stream",
     "text": [
      "Downloading data for TNYA...\n",
      "Downloading data for CLF...\n",
      "Downloading data for AG...\n"
     ]
    },
    {
     "name": "stderr",
     "output_type": "stream",
     "text": [
      "\n",
      "[*********************100%***********************]  1 of 1 completed\n",
      "[*********************100%***********************]  1 of 1 completed\n",
      "[*********************100%***********************]  1 of 1 completed\n"
     ]
    },
    {
     "name": "stdout",
     "output_type": "stream",
     "text": [
      "Downloading data for BCS...\n",
      "Downloading data for KDP...\n",
      "Downloading data for AUR...\n"
     ]
    },
    {
     "name": "stderr",
     "output_type": "stream",
     "text": [
      "[*********************100%***********************]  1 of 1 completed\n",
      "[*********************100%***********************]  1 of 1 completed\n",
      "[*********************100%***********************]  1 of 1 completed\n"
     ]
    },
    {
     "name": "stdout",
     "output_type": "stream",
     "text": [
      "Downloading data for ORCL...\n",
      "Downloading data for ZETA...\n",
      "Downloading data for SLB...\n"
     ]
    },
    {
     "name": "stderr",
     "output_type": "stream",
     "text": [
      "[*********************100%***********************]  1 of 1 completed\n",
      "[*********************100%***********************]  1 of 1 completed\n",
      "[*********************100%***********************]  1 of 1 completed\n"
     ]
    },
    {
     "name": "stdout",
     "output_type": "stream",
     "text": [
      "Downloading data for NGD...\n",
      "Downloading data for DJT...\n",
      "Downloading data for DIS...\n"
     ]
    },
    {
     "name": "stderr",
     "output_type": "stream",
     "text": [
      "[*********************100%***********************]  1 of 1 completed\n",
      "[*********************100%***********************]  1 of 1 completed\n",
      "[*********************100%***********************]  1 of 1 completed\n"
     ]
    },
    {
     "name": "stdout",
     "output_type": "stream",
     "text": [
      "Downloading data for KMI...\n",
      "Downloading data for URBN...\n",
      "Downloading data for SEDG...\n"
     ]
    },
    {
     "name": "stderr",
     "output_type": "stream",
     "text": [
      "[*********************100%***********************]  1 of 1 completed\n",
      "[*********************100%***********************]  1 of 1 completed\n"
     ]
    },
    {
     "name": "stdout",
     "output_type": "stream",
     "text": [
      "Downloading data for NFE...\n",
      "Downloading data for HAL...\n"
     ]
    },
    {
     "name": "stderr",
     "output_type": "stream",
     "text": [
      "[*********************100%***********************]  1 of 1 completed\n",
      "[*********************100%***********************]  1 of 1 completed\n",
      "[*********************100%***********************]  1 of 1 completed\n",
      "[*********************100%***********************]  1 of 1 completed\n"
     ]
    },
    {
     "name": "stdout",
     "output_type": "stream",
     "text": [
      "Downloading data for LRCX...\n",
      "Downloading data for OKLO...\n",
      "Downloading data for ERIC...\n",
      "Downloading data for NTNX...\n"
     ]
    },
    {
     "name": "stderr",
     "output_type": "stream",
     "text": [
      "[*********************100%***********************]  1 of 1 completed\n",
      "[*********************100%***********************]  1 of 1 completed\n"
     ]
    },
    {
     "name": "stdout",
     "output_type": "stream",
     "text": [
      "Downloading data for CVX...\n",
      "Downloading data for RUN...\n"
     ]
    },
    {
     "name": "stderr",
     "output_type": "stream",
     "text": [
      "[*********************100%***********************]  1 of 1 completed\n",
      "[*********************100%***********************]  1 of 1 completed\n",
      "[*********************100%***********************]  1 of 1 completed"
     ]
    },
    {
     "name": "stdout",
     "output_type": "stream",
     "text": [
      "Downloading data for JWN...\n",
      "Downloading data for HIVE...\n",
      "Downloading data for CVS...\n"
     ]
    },
    {
     "name": "stderr",
     "output_type": "stream",
     "text": [
      "\n",
      "[*********************100%***********************]  1 of 1 completed\n",
      "[*********************100%***********************]  1 of 1 completed\n",
      "[*********************100%***********************]  1 of 1 completed\n",
      "[*********************100%***********************]  1 of 1 completed\n"
     ]
    },
    {
     "name": "stdout",
     "output_type": "stream",
     "text": [
      "Downloading data for KODK...\n",
      "Downloading data for API...\n",
      "Downloading data for STNE...\n",
      "Downloading data for GAP...\n"
     ]
    },
    {
     "name": "stderr",
     "output_type": "stream",
     "text": [
      "[*********************100%***********************]  1 of 1 completed\n",
      "[*********************100%***********************]  1 of 1 completed\n",
      "[*********************100%***********************]  1 of 1 completed\n",
      "[*********************100%***********************]  1 of 1 completed\n"
     ]
    },
    {
     "name": "stdout",
     "output_type": "stream",
     "text": [
      "Downloading data for CRM...\n",
      "Downloading data for CDE...\n",
      "Downloading data for RCAT...\n",
      "Downloading data for VRT...\n"
     ]
    },
    {
     "name": "stderr",
     "output_type": "stream",
     "text": [
      "[*********************100%***********************]  1 of 1 completed\n",
      "[*********************100%***********************]  1 of 1 completed\n",
      "[*********************100%***********************]  1 of 1 completed\n",
      "[*********************100%***********************]  1 of 1 completed\n"
     ]
    },
    {
     "name": "stdout",
     "output_type": "stream",
     "text": [
      "Downloading data for CVE...\n",
      "Downloading data for BEKE...\n",
      "Downloading data for LI...\n",
      "Downloading data for META...\n"
     ]
    },
    {
     "name": "stderr",
     "output_type": "stream",
     "text": [
      "[*********************100%***********************]  1 of 1 completed\n",
      "[*********************100%***********************]  1 of 1 completed\n"
     ]
    },
    {
     "name": "stdout",
     "output_type": "stream",
     "text": [
      "Downloading data for VSH...\n",
      "Downloading data for BMY...\n"
     ]
    },
    {
     "name": "stderr",
     "output_type": "stream",
     "text": [
      "[*********************100%***********************]  1 of 1 completed\n",
      "[*********************100%***********************]  1 of 1 completed\n",
      "[*********************100%***********************]  1 of 1 completed"
     ]
    },
    {
     "name": "stdout",
     "output_type": "stream",
     "text": [
      "Downloading data for FCX...\n",
      "Downloading data for NEM...\n"
     ]
    },
    {
     "name": "stderr",
     "output_type": "stream",
     "text": [
      "\n",
      "[*********************100%***********************]  1 of 1 completed\n",
      "[*********************100%***********************]  1 of 1 completed"
     ]
    },
    {
     "name": "stdout",
     "output_type": "stream",
     "text": [
      "Downloading data for SNOW...\n",
      "Downloading data for ASTS...\n",
      "Downloading data for HST...\n"
     ]
    },
    {
     "name": "stderr",
     "output_type": "stream",
     "text": [
      "\n",
      "[*********************100%***********************]  1 of 1 completed\n",
      "[*********************100%***********************]  1 of 1 completed\n"
     ]
    },
    {
     "name": "stdout",
     "output_type": "stream",
     "text": [
      "Downloading data for BP...\n",
      "Downloading data for OXY...\n"
     ]
    },
    {
     "name": "stderr",
     "output_type": "stream",
     "text": [
      "[*********************100%***********************]  1 of 1 completed\n",
      "[*********************100%***********************]  1 of 1 completed\n",
      "[*********************100%***********************]  1 of 1 completed"
     ]
    },
    {
     "name": "stdout",
     "output_type": "stream",
     "text": [
      "Downloading data for IBN...\n",
      "Downloading data for AFRM...\n",
      "Downloading data for TGT...\n"
     ]
    },
    {
     "name": "stderr",
     "output_type": "stream",
     "text": [
      "\n",
      "[*********************100%***********************]  1 of 1 completed\n",
      "[*********************100%***********************]  1 of 1 completed\n",
      "[*********************100%***********************]  1 of 1 completed\n",
      "[*********************100%***********************]  1 of 1 completed\n"
     ]
    },
    {
     "name": "stdout",
     "output_type": "stream",
     "text": [
      "Downloading data for KHC...\n",
      "Downloading data for ARWR...\n",
      "Downloading data for SQ...\n",
      "Downloading data for ASX...\n"
     ]
    },
    {
     "name": "stderr",
     "output_type": "stream",
     "text": [
      "[*********************100%***********************]  1 of 1 completed\n",
      "[*********************100%***********************]  1 of 1 completed\n",
      "[*********************100%***********************]  1 of 1 completed\n"
     ]
    },
    {
     "name": "stdout",
     "output_type": "stream",
     "text": [
      "Downloading data for AMGN...\n",
      "Downloading data for TFC...\n",
      "Downloading data for FLNC...\n"
     ]
    },
    {
     "name": "stderr",
     "output_type": "stream",
     "text": [
      "[*********************100%***********************]  1 of 1 completed\n"
     ]
    }
   ],
   "source": [
    "data_frames = {}  # Dictionary to store valid DataFrames\n",
    "invalidTickers = []  # List to keep track of faulty tickers\n",
    "\n",
    "for ticker in tickers[:]:\n",
    "    try:\n",
    "        print(f\"Downloading data for {ticker}...\")\n",
    "        data = yf.download(ticker, period='6mo', interval='1d')\n",
    "        \n",
    "        # Check if data was successfully fetched\n",
    "        if data.empty:\n",
    "            invalid_tickers.append(ticker)\n",
    "        else:\n",
    "            data_frames[ticker] = data\n",
    "    # Exception handling \n",
    "    except Exception as e:\n",
    "        print(f\"Error downloading data for {ticker}: {e}\")\n",
    "        invalidTickers.append(ticker)\n",
    "\n",
    "# Remove invalid tickers from the list\n",
    "tickers = [ticker for ticker in tickers if ticker not in invalidTickers]"
   ]
  },
  {
   "cell_type": "code",
   "execution_count": 5,
   "id": "5953a184-8337-4247-9d79-edd34e665720",
   "metadata": {},
   "outputs": [
    {
     "data": {
      "text/plain": [
       "196"
      ]
     },
     "execution_count": 5,
     "metadata": {},
     "output_type": "execute_result"
    }
   ],
   "source": [
    "# Observing how many tickers were invalid\n",
    "len(tickers)"
   ]
  },
  {
   "cell_type": "code",
   "execution_count": 6,
   "id": "dc24b56e-36f6-44ba-84b2-c483de9b2187",
   "metadata": {},
   "outputs": [],
   "source": [
    "# Initialize lists to store calculated values\n",
    "VWAP = []\n",
    "trainingVWAP = []\n",
    "\n",
    "for ticker in tickers:\n",
    "    try:\n",
    "        # Access the DataFrame for the current ticker\n",
    "        df = data_frames[ticker]\n",
    "\n",
    "        # Calculate VWAP\n",
    "        df['VWAP'] = (df['Close'] * df['Volume']).cumsum() / df['Volume'].cumsum()\n",
    "\n",
    "        # Calculate previous day's VWAP\n",
    "        df['Training VWAP'] = df['VWAP'].shift(1)\n",
    "\n",
    "        # Append VWAP values to lists\n",
    "        VWAP.append(df['VWAP'].iloc[-1])\n",
    "        trainingVWAP.append(df['Training VWAP'].iloc[-1])\n",
    "        # Exception handling \n",
    "    except Exception as e:\n",
    "        print(f\"Error calculating VWAP for {ticker}: {e}\")\n",
    "        VWAP.append(None)\n",
    "        trainingVWAP.append(None)\n",
    "\n",
    "\n",
    "\n",
    "# Filter tickers by previously screened tickers\n",
    "filteredTickers = screened_df[\"Ticker\"]\n",
    "# Filter our data by previously screened tickers\n",
    "VWAP = [VWAP[tickers.index(ticker)] if ticker in tickers else None for ticker in filteredTickers]\n",
    "\n",
    "# Add data to our dataframe\n",
    "screened_df[\"VWAP\"] = VWAP\n",
    "# Add training data to our dataframe\n",
    "training_df[\"trainingVWAP\"] = trainingVWAP\n",
    "\n"
   ]
  },
  {
   "cell_type": "code",
   "execution_count": 7,
   "id": "cee464c0-de3c-4769-917b-c5a355f5566d",
   "metadata": {},
   "outputs": [],
   "source": [
    "# Initialize lists to store calculated values\n",
    "recentCloses = []\n",
    "trainingCloses = []\n",
    "percentageChange = []\n",
    "for ticker in tickers:\n",
    "    try:\n",
    "        # Access the DataFrame for the current ticker\n",
    "        df = data_frames[ticker]\n",
    "\n",
    "        # Get the two most recent closing price\n",
    "        recentClose = df['Close'].iloc[-1].values[0]\n",
    "        trainingClose = df['Close'].iloc[-2].values[0]\n",
    "        # Calculate percent change\n",
    "        percentChange = (recentClose / trainingClose) * 100\n",
    "        # Store values in our lists\n",
    "        percentageChange.append(percentChange)\n",
    "        recentCloses.append(recentClose)\n",
    "        trainingCloses.append(trainingClose)\n",
    "        # Exception handling \n",
    "    except Exception as e:\n",
    "        print(f\"Error getting recent close for {ticker}: {e}\")\n",
    "        recentCloses.append(None)\n",
    "        trainingCloses.append(None)\n",
    "        percentChange.append(None)\n",
    "\n",
    "# Filter our data by previously screened tickers\n",
    "recentCloses = [recentCloses[tickers.index(ticker)] if ticker in tickers else None for ticker in filteredTickers]\n",
    "\n",
    "# Add data to our dataframe\n",
    "screened_df[\"recentClose\"] = recentCloses\n",
    "# Add training data to our dataframe (percentageChange is target column)\n",
    "training_df[\"trainingClose\"] = trainingCloses\n",
    "training_df[\"percentageChange\"] = percentageChange\n"
   ]
  },
  {
   "cell_type": "code",
   "execution_count": 8,
   "id": "b2918d94-99bf-4a91-abc0-8a64ab47b359",
   "metadata": {},
   "outputs": [],
   "source": [
    "# Initialize lists to store calculated values\n",
    "momentum = []\n",
    "trainingMomentum = []\n",
    "# Iterate over dataframe to calculate momentum for training data\n",
    "for index, row in screened_df.iterrows():\n",
    "    ticker = row['Ticker']\n",
    "    recentClose = row['recentClose']\n",
    "    vwap = row['VWAP']\n",
    "    # Calculate momentum (percentage difference between recent close and VWAP)\n",
    "    if vwap != 0:\n",
    "        momentumValue = (recentClose - vwap) / vwap\n",
    "    else:\n",
    "        momentumValue = 0\n",
    "    momentumValue = momentumValue * 100\n",
    "    # Add data to our list\n",
    "    momentum.append(momentumValue)\n",
    "    \n",
    "\n",
    "\n",
    "# Iterate over training dataframe to calculate momentum for training data\n",
    "for index, row in training_df.iterrows():\n",
    "    trainingRecentClose = row[\"trainingClose\"]\n",
    "    trainingVWAP = row[\"trainingVWAP\"]\n",
    "    \n",
    "    # Calculate momentum (percentage difference between recent close and VWAP)\n",
    "    if trainingVWAP != 0:\n",
    "        trainingMomentumValue = (trainingRecentClose - trainingVWAP) / trainingVWAP\n",
    "\n",
    "    else:\n",
    "        trainingMomentumValue = 0\n",
    "    trainingMomentumValue = trainingMomentumValue * 100\n",
    "    # Add data to our list\n",
    "    trainingMomentum.append(trainingMomentumValue)\n",
    "\n",
    "\n",
    "\n",
    "# Add data to our dataframes\n",
    "screened_df['momentum (%)'] = momentum\n",
    "training_df['trainingMomentum (%)'] = trainingMomentum\n"
   ]
  },
  {
   "cell_type": "code",
   "execution_count": 9,
   "id": "c1fb3749-a85b-4792-b1bc-3aa854f367bf",
   "metadata": {},
   "outputs": [
    {
     "name": "stderr",
     "output_type": "stream",
     "text": [
      "C:\\Users\\marti\\AppData\\Local\\Temp\\ipykernel_11656\\89973294.py:48: FutureWarning: Series.__getitem__ treating keys as positions is deprecated. In a future version, integer keys will always be treated as labels (consistent with DataFrame behavior). To access a value by position, use `ser.iloc[pos]`\n",
      "  latestCrossover = latestCrossoverRow['Crossover'][0]\n",
      "C:\\Users\\marti\\AppData\\Local\\Temp\\ipykernel_11656\\89973294.py:55: FutureWarning: Series.__getitem__ treating keys as positions is deprecated. In a future version, integer keys will always be treated as labels (consistent with DataFrame behavior). To access a value by position, use `ser.iloc[pos]`\n",
      "  trainingCrossover = trainingCrossoverRow['Crossover'][0]\n",
      "C:\\Users\\marti\\AppData\\Local\\Temp\\ipykernel_11656\\89973294.py:48: FutureWarning: Series.__getitem__ treating keys as positions is deprecated. In a future version, integer keys will always be treated as labels (consistent with DataFrame behavior). To access a value by position, use `ser.iloc[pos]`\n",
      "  latestCrossover = latestCrossoverRow['Crossover'][0]\n",
      "C:\\Users\\marti\\AppData\\Local\\Temp\\ipykernel_11656\\89973294.py:55: FutureWarning: Series.__getitem__ treating keys as positions is deprecated. In a future version, integer keys will always be treated as labels (consistent with DataFrame behavior). To access a value by position, use `ser.iloc[pos]`\n",
      "  trainingCrossover = trainingCrossoverRow['Crossover'][0]\n",
      "C:\\Users\\marti\\AppData\\Local\\Temp\\ipykernel_11656\\89973294.py:48: FutureWarning: Series.__getitem__ treating keys as positions is deprecated. In a future version, integer keys will always be treated as labels (consistent with DataFrame behavior). To access a value by position, use `ser.iloc[pos]`\n",
      "  latestCrossover = latestCrossoverRow['Crossover'][0]\n",
      "C:\\Users\\marti\\AppData\\Local\\Temp\\ipykernel_11656\\89973294.py:55: FutureWarning: Series.__getitem__ treating keys as positions is deprecated. In a future version, integer keys will always be treated as labels (consistent with DataFrame behavior). To access a value by position, use `ser.iloc[pos]`\n",
      "  trainingCrossover = trainingCrossoverRow['Crossover'][0]\n",
      "C:\\Users\\marti\\AppData\\Local\\Temp\\ipykernel_11656\\89973294.py:48: FutureWarning: Series.__getitem__ treating keys as positions is deprecated. In a future version, integer keys will always be treated as labels (consistent with DataFrame behavior). To access a value by position, use `ser.iloc[pos]`\n",
      "  latestCrossover = latestCrossoverRow['Crossover'][0]\n",
      "C:\\Users\\marti\\AppData\\Local\\Temp\\ipykernel_11656\\89973294.py:55: FutureWarning: Series.__getitem__ treating keys as positions is deprecated. In a future version, integer keys will always be treated as labels (consistent with DataFrame behavior). To access a value by position, use `ser.iloc[pos]`\n",
      "  trainingCrossover = trainingCrossoverRow['Crossover'][0]\n",
      "C:\\Users\\marti\\AppData\\Local\\Temp\\ipykernel_11656\\89973294.py:48: FutureWarning: Series.__getitem__ treating keys as positions is deprecated. In a future version, integer keys will always be treated as labels (consistent with DataFrame behavior). To access a value by position, use `ser.iloc[pos]`\n",
      "  latestCrossover = latestCrossoverRow['Crossover'][0]\n",
      "C:\\Users\\marti\\AppData\\Local\\Temp\\ipykernel_11656\\89973294.py:55: FutureWarning: Series.__getitem__ treating keys as positions is deprecated. In a future version, integer keys will always be treated as labels (consistent with DataFrame behavior). To access a value by position, use `ser.iloc[pos]`\n",
      "  trainingCrossover = trainingCrossoverRow['Crossover'][0]\n",
      "C:\\Users\\marti\\AppData\\Local\\Temp\\ipykernel_11656\\89973294.py:48: FutureWarning: Series.__getitem__ treating keys as positions is deprecated. In a future version, integer keys will always be treated as labels (consistent with DataFrame behavior). To access a value by position, use `ser.iloc[pos]`\n",
      "  latestCrossover = latestCrossoverRow['Crossover'][0]\n",
      "C:\\Users\\marti\\AppData\\Local\\Temp\\ipykernel_11656\\89973294.py:55: FutureWarning: Series.__getitem__ treating keys as positions is deprecated. In a future version, integer keys will always be treated as labels (consistent with DataFrame behavior). To access a value by position, use `ser.iloc[pos]`\n",
      "  trainingCrossover = trainingCrossoverRow['Crossover'][0]\n",
      "C:\\Users\\marti\\AppData\\Local\\Temp\\ipykernel_11656\\89973294.py:48: FutureWarning: Series.__getitem__ treating keys as positions is deprecated. In a future version, integer keys will always be treated as labels (consistent with DataFrame behavior). To access a value by position, use `ser.iloc[pos]`\n",
      "  latestCrossover = latestCrossoverRow['Crossover'][0]\n",
      "C:\\Users\\marti\\AppData\\Local\\Temp\\ipykernel_11656\\89973294.py:55: FutureWarning: Series.__getitem__ treating keys as positions is deprecated. In a future version, integer keys will always be treated as labels (consistent with DataFrame behavior). To access a value by position, use `ser.iloc[pos]`\n",
      "  trainingCrossover = trainingCrossoverRow['Crossover'][0]\n",
      "C:\\Users\\marti\\AppData\\Local\\Temp\\ipykernel_11656\\89973294.py:48: FutureWarning: Series.__getitem__ treating keys as positions is deprecated. In a future version, integer keys will always be treated as labels (consistent with DataFrame behavior). To access a value by position, use `ser.iloc[pos]`\n",
      "  latestCrossover = latestCrossoverRow['Crossover'][0]\n",
      "C:\\Users\\marti\\AppData\\Local\\Temp\\ipykernel_11656\\89973294.py:55: FutureWarning: Series.__getitem__ treating keys as positions is deprecated. In a future version, integer keys will always be treated as labels (consistent with DataFrame behavior). To access a value by position, use `ser.iloc[pos]`\n",
      "  trainingCrossover = trainingCrossoverRow['Crossover'][0]\n",
      "C:\\Users\\marti\\AppData\\Local\\Temp\\ipykernel_11656\\89973294.py:48: FutureWarning: Series.__getitem__ treating keys as positions is deprecated. In a future version, integer keys will always be treated as labels (consistent with DataFrame behavior). To access a value by position, use `ser.iloc[pos]`\n",
      "  latestCrossover = latestCrossoverRow['Crossover'][0]\n",
      "C:\\Users\\marti\\AppData\\Local\\Temp\\ipykernel_11656\\89973294.py:55: FutureWarning: Series.__getitem__ treating keys as positions is deprecated. In a future version, integer keys will always be treated as labels (consistent with DataFrame behavior). To access a value by position, use `ser.iloc[pos]`\n",
      "  trainingCrossover = trainingCrossoverRow['Crossover'][0]\n",
      "C:\\Users\\marti\\AppData\\Local\\Temp\\ipykernel_11656\\89973294.py:48: FutureWarning: Series.__getitem__ treating keys as positions is deprecated. In a future version, integer keys will always be treated as labels (consistent with DataFrame behavior). To access a value by position, use `ser.iloc[pos]`\n",
      "  latestCrossover = latestCrossoverRow['Crossover'][0]\n",
      "C:\\Users\\marti\\AppData\\Local\\Temp\\ipykernel_11656\\89973294.py:55: FutureWarning: Series.__getitem__ treating keys as positions is deprecated. In a future version, integer keys will always be treated as labels (consistent with DataFrame behavior). To access a value by position, use `ser.iloc[pos]`\n",
      "  trainingCrossover = trainingCrossoverRow['Crossover'][0]\n",
      "C:\\Users\\marti\\AppData\\Local\\Temp\\ipykernel_11656\\89973294.py:48: FutureWarning: Series.__getitem__ treating keys as positions is deprecated. In a future version, integer keys will always be treated as labels (consistent with DataFrame behavior). To access a value by position, use `ser.iloc[pos]`\n",
      "  latestCrossover = latestCrossoverRow['Crossover'][0]\n",
      "C:\\Users\\marti\\AppData\\Local\\Temp\\ipykernel_11656\\89973294.py:55: FutureWarning: Series.__getitem__ treating keys as positions is deprecated. In a future version, integer keys will always be treated as labels (consistent with DataFrame behavior). To access a value by position, use `ser.iloc[pos]`\n",
      "  trainingCrossover = trainingCrossoverRow['Crossover'][0]\n",
      "C:\\Users\\marti\\AppData\\Local\\Temp\\ipykernel_11656\\89973294.py:48: FutureWarning: Series.__getitem__ treating keys as positions is deprecated. In a future version, integer keys will always be treated as labels (consistent with DataFrame behavior). To access a value by position, use `ser.iloc[pos]`\n",
      "  latestCrossover = latestCrossoverRow['Crossover'][0]\n",
      "C:\\Users\\marti\\AppData\\Local\\Temp\\ipykernel_11656\\89973294.py:55: FutureWarning: Series.__getitem__ treating keys as positions is deprecated. In a future version, integer keys will always be treated as labels (consistent with DataFrame behavior). To access a value by position, use `ser.iloc[pos]`\n",
      "  trainingCrossover = trainingCrossoverRow['Crossover'][0]\n",
      "C:\\Users\\marti\\AppData\\Local\\Temp\\ipykernel_11656\\89973294.py:48: FutureWarning: Series.__getitem__ treating keys as positions is deprecated. In a future version, integer keys will always be treated as labels (consistent with DataFrame behavior). To access a value by position, use `ser.iloc[pos]`\n",
      "  latestCrossover = latestCrossoverRow['Crossover'][0]\n",
      "C:\\Users\\marti\\AppData\\Local\\Temp\\ipykernel_11656\\89973294.py:55: FutureWarning: Series.__getitem__ treating keys as positions is deprecated. In a future version, integer keys will always be treated as labels (consistent with DataFrame behavior). To access a value by position, use `ser.iloc[pos]`\n",
      "  trainingCrossover = trainingCrossoverRow['Crossover'][0]\n",
      "C:\\Users\\marti\\AppData\\Local\\Temp\\ipykernel_11656\\89973294.py:48: FutureWarning: Series.__getitem__ treating keys as positions is deprecated. In a future version, integer keys will always be treated as labels (consistent with DataFrame behavior). To access a value by position, use `ser.iloc[pos]`\n",
      "  latestCrossover = latestCrossoverRow['Crossover'][0]\n",
      "C:\\Users\\marti\\AppData\\Local\\Temp\\ipykernel_11656\\89973294.py:55: FutureWarning: Series.__getitem__ treating keys as positions is deprecated. In a future version, integer keys will always be treated as labels (consistent with DataFrame behavior). To access a value by position, use `ser.iloc[pos]`\n",
      "  trainingCrossover = trainingCrossoverRow['Crossover'][0]\n",
      "C:\\Users\\marti\\AppData\\Local\\Temp\\ipykernel_11656\\89973294.py:48: FutureWarning: Series.__getitem__ treating keys as positions is deprecated. In a future version, integer keys will always be treated as labels (consistent with DataFrame behavior). To access a value by position, use `ser.iloc[pos]`\n",
      "  latestCrossover = latestCrossoverRow['Crossover'][0]\n",
      "C:\\Users\\marti\\AppData\\Local\\Temp\\ipykernel_11656\\89973294.py:55: FutureWarning: Series.__getitem__ treating keys as positions is deprecated. In a future version, integer keys will always be treated as labels (consistent with DataFrame behavior). To access a value by position, use `ser.iloc[pos]`\n",
      "  trainingCrossover = trainingCrossoverRow['Crossover'][0]\n",
      "C:\\Users\\marti\\AppData\\Local\\Temp\\ipykernel_11656\\89973294.py:48: FutureWarning: Series.__getitem__ treating keys as positions is deprecated. In a future version, integer keys will always be treated as labels (consistent with DataFrame behavior). To access a value by position, use `ser.iloc[pos]`\n",
      "  latestCrossover = latestCrossoverRow['Crossover'][0]\n",
      "C:\\Users\\marti\\AppData\\Local\\Temp\\ipykernel_11656\\89973294.py:55: FutureWarning: Series.__getitem__ treating keys as positions is deprecated. In a future version, integer keys will always be treated as labels (consistent with DataFrame behavior). To access a value by position, use `ser.iloc[pos]`\n",
      "  trainingCrossover = trainingCrossoverRow['Crossover'][0]\n",
      "C:\\Users\\marti\\AppData\\Local\\Temp\\ipykernel_11656\\89973294.py:48: FutureWarning: Series.__getitem__ treating keys as positions is deprecated. In a future version, integer keys will always be treated as labels (consistent with DataFrame behavior). To access a value by position, use `ser.iloc[pos]`\n",
      "  latestCrossover = latestCrossoverRow['Crossover'][0]\n",
      "C:\\Users\\marti\\AppData\\Local\\Temp\\ipykernel_11656\\89973294.py:55: FutureWarning: Series.__getitem__ treating keys as positions is deprecated. In a future version, integer keys will always be treated as labels (consistent with DataFrame behavior). To access a value by position, use `ser.iloc[pos]`\n",
      "  trainingCrossover = trainingCrossoverRow['Crossover'][0]\n",
      "C:\\Users\\marti\\AppData\\Local\\Temp\\ipykernel_11656\\89973294.py:48: FutureWarning: Series.__getitem__ treating keys as positions is deprecated. In a future version, integer keys will always be treated as labels (consistent with DataFrame behavior). To access a value by position, use `ser.iloc[pos]`\n",
      "  latestCrossover = latestCrossoverRow['Crossover'][0]\n",
      "C:\\Users\\marti\\AppData\\Local\\Temp\\ipykernel_11656\\89973294.py:55: FutureWarning: Series.__getitem__ treating keys as positions is deprecated. In a future version, integer keys will always be treated as labels (consistent with DataFrame behavior). To access a value by position, use `ser.iloc[pos]`\n",
      "  trainingCrossover = trainingCrossoverRow['Crossover'][0]\n",
      "C:\\Users\\marti\\AppData\\Local\\Temp\\ipykernel_11656\\89973294.py:48: FutureWarning: Series.__getitem__ treating keys as positions is deprecated. In a future version, integer keys will always be treated as labels (consistent with DataFrame behavior). To access a value by position, use `ser.iloc[pos]`\n",
      "  latestCrossover = latestCrossoverRow['Crossover'][0]\n",
      "C:\\Users\\marti\\AppData\\Local\\Temp\\ipykernel_11656\\89973294.py:55: FutureWarning: Series.__getitem__ treating keys as positions is deprecated. In a future version, integer keys will always be treated as labels (consistent with DataFrame behavior). To access a value by position, use `ser.iloc[pos]`\n",
      "  trainingCrossover = trainingCrossoverRow['Crossover'][0]\n",
      "C:\\Users\\marti\\AppData\\Local\\Temp\\ipykernel_11656\\89973294.py:48: FutureWarning: Series.__getitem__ treating keys as positions is deprecated. In a future version, integer keys will always be treated as labels (consistent with DataFrame behavior). To access a value by position, use `ser.iloc[pos]`\n",
      "  latestCrossover = latestCrossoverRow['Crossover'][0]\n",
      "C:\\Users\\marti\\AppData\\Local\\Temp\\ipykernel_11656\\89973294.py:55: FutureWarning: Series.__getitem__ treating keys as positions is deprecated. In a future version, integer keys will always be treated as labels (consistent with DataFrame behavior). To access a value by position, use `ser.iloc[pos]`\n",
      "  trainingCrossover = trainingCrossoverRow['Crossover'][0]\n",
      "C:\\Users\\marti\\AppData\\Local\\Temp\\ipykernel_11656\\89973294.py:48: FutureWarning: Series.__getitem__ treating keys as positions is deprecated. In a future version, integer keys will always be treated as labels (consistent with DataFrame behavior). To access a value by position, use `ser.iloc[pos]`\n",
      "  latestCrossover = latestCrossoverRow['Crossover'][0]\n",
      "C:\\Users\\marti\\AppData\\Local\\Temp\\ipykernel_11656\\89973294.py:55: FutureWarning: Series.__getitem__ treating keys as positions is deprecated. In a future version, integer keys will always be treated as labels (consistent with DataFrame behavior). To access a value by position, use `ser.iloc[pos]`\n",
      "  trainingCrossover = trainingCrossoverRow['Crossover'][0]\n",
      "C:\\Users\\marti\\AppData\\Local\\Temp\\ipykernel_11656\\89973294.py:48: FutureWarning: Series.__getitem__ treating keys as positions is deprecated. In a future version, integer keys will always be treated as labels (consistent with DataFrame behavior). To access a value by position, use `ser.iloc[pos]`\n",
      "  latestCrossover = latestCrossoverRow['Crossover'][0]\n",
      "C:\\Users\\marti\\AppData\\Local\\Temp\\ipykernel_11656\\89973294.py:55: FutureWarning: Series.__getitem__ treating keys as positions is deprecated. In a future version, integer keys will always be treated as labels (consistent with DataFrame behavior). To access a value by position, use `ser.iloc[pos]`\n",
      "  trainingCrossover = trainingCrossoverRow['Crossover'][0]\n",
      "C:\\Users\\marti\\AppData\\Local\\Temp\\ipykernel_11656\\89973294.py:48: FutureWarning: Series.__getitem__ treating keys as positions is deprecated. In a future version, integer keys will always be treated as labels (consistent with DataFrame behavior). To access a value by position, use `ser.iloc[pos]`\n",
      "  latestCrossover = latestCrossoverRow['Crossover'][0]\n",
      "C:\\Users\\marti\\AppData\\Local\\Temp\\ipykernel_11656\\89973294.py:55: FutureWarning: Series.__getitem__ treating keys as positions is deprecated. In a future version, integer keys will always be treated as labels (consistent with DataFrame behavior). To access a value by position, use `ser.iloc[pos]`\n",
      "  trainingCrossover = trainingCrossoverRow['Crossover'][0]\n",
      "C:\\Users\\marti\\AppData\\Local\\Temp\\ipykernel_11656\\89973294.py:48: FutureWarning: Series.__getitem__ treating keys as positions is deprecated. In a future version, integer keys will always be treated as labels (consistent with DataFrame behavior). To access a value by position, use `ser.iloc[pos]`\n",
      "  latestCrossover = latestCrossoverRow['Crossover'][0]\n",
      "C:\\Users\\marti\\AppData\\Local\\Temp\\ipykernel_11656\\89973294.py:55: FutureWarning: Series.__getitem__ treating keys as positions is deprecated. In a future version, integer keys will always be treated as labels (consistent with DataFrame behavior). To access a value by position, use `ser.iloc[pos]`\n",
      "  trainingCrossover = trainingCrossoverRow['Crossover'][0]\n",
      "C:\\Users\\marti\\AppData\\Local\\Temp\\ipykernel_11656\\89973294.py:48: FutureWarning: Series.__getitem__ treating keys as positions is deprecated. In a future version, integer keys will always be treated as labels (consistent with DataFrame behavior). To access a value by position, use `ser.iloc[pos]`\n",
      "  latestCrossover = latestCrossoverRow['Crossover'][0]\n",
      "C:\\Users\\marti\\AppData\\Local\\Temp\\ipykernel_11656\\89973294.py:55: FutureWarning: Series.__getitem__ treating keys as positions is deprecated. In a future version, integer keys will always be treated as labels (consistent with DataFrame behavior). To access a value by position, use `ser.iloc[pos]`\n",
      "  trainingCrossover = trainingCrossoverRow['Crossover'][0]\n",
      "C:\\Users\\marti\\AppData\\Local\\Temp\\ipykernel_11656\\89973294.py:48: FutureWarning: Series.__getitem__ treating keys as positions is deprecated. In a future version, integer keys will always be treated as labels (consistent with DataFrame behavior). To access a value by position, use `ser.iloc[pos]`\n",
      "  latestCrossover = latestCrossoverRow['Crossover'][0]\n",
      "C:\\Users\\marti\\AppData\\Local\\Temp\\ipykernel_11656\\89973294.py:55: FutureWarning: Series.__getitem__ treating keys as positions is deprecated. In a future version, integer keys will always be treated as labels (consistent with DataFrame behavior). To access a value by position, use `ser.iloc[pos]`\n",
      "  trainingCrossover = trainingCrossoverRow['Crossover'][0]\n",
      "C:\\Users\\marti\\AppData\\Local\\Temp\\ipykernel_11656\\89973294.py:48: FutureWarning: Series.__getitem__ treating keys as positions is deprecated. In a future version, integer keys will always be treated as labels (consistent with DataFrame behavior). To access a value by position, use `ser.iloc[pos]`\n",
      "  latestCrossover = latestCrossoverRow['Crossover'][0]\n",
      "C:\\Users\\marti\\AppData\\Local\\Temp\\ipykernel_11656\\89973294.py:55: FutureWarning: Series.__getitem__ treating keys as positions is deprecated. In a future version, integer keys will always be treated as labels (consistent with DataFrame behavior). To access a value by position, use `ser.iloc[pos]`\n",
      "  trainingCrossover = trainingCrossoverRow['Crossover'][0]\n",
      "C:\\Users\\marti\\AppData\\Local\\Temp\\ipykernel_11656\\89973294.py:48: FutureWarning: Series.__getitem__ treating keys as positions is deprecated. In a future version, integer keys will always be treated as labels (consistent with DataFrame behavior). To access a value by position, use `ser.iloc[pos]`\n",
      "  latestCrossover = latestCrossoverRow['Crossover'][0]\n",
      "C:\\Users\\marti\\AppData\\Local\\Temp\\ipykernel_11656\\89973294.py:55: FutureWarning: Series.__getitem__ treating keys as positions is deprecated. In a future version, integer keys will always be treated as labels (consistent with DataFrame behavior). To access a value by position, use `ser.iloc[pos]`\n",
      "  trainingCrossover = trainingCrossoverRow['Crossover'][0]\n",
      "C:\\Users\\marti\\AppData\\Local\\Temp\\ipykernel_11656\\89973294.py:48: FutureWarning: Series.__getitem__ treating keys as positions is deprecated. In a future version, integer keys will always be treated as labels (consistent with DataFrame behavior). To access a value by position, use `ser.iloc[pos]`\n",
      "  latestCrossover = latestCrossoverRow['Crossover'][0]\n",
      "C:\\Users\\marti\\AppData\\Local\\Temp\\ipykernel_11656\\89973294.py:55: FutureWarning: Series.__getitem__ treating keys as positions is deprecated. In a future version, integer keys will always be treated as labels (consistent with DataFrame behavior). To access a value by position, use `ser.iloc[pos]`\n",
      "  trainingCrossover = trainingCrossoverRow['Crossover'][0]\n",
      "C:\\Users\\marti\\AppData\\Local\\Temp\\ipykernel_11656\\89973294.py:48: FutureWarning: Series.__getitem__ treating keys as positions is deprecated. In a future version, integer keys will always be treated as labels (consistent with DataFrame behavior). To access a value by position, use `ser.iloc[pos]`\n",
      "  latestCrossover = latestCrossoverRow['Crossover'][0]\n",
      "C:\\Users\\marti\\AppData\\Local\\Temp\\ipykernel_11656\\89973294.py:55: FutureWarning: Series.__getitem__ treating keys as positions is deprecated. In a future version, integer keys will always be treated as labels (consistent with DataFrame behavior). To access a value by position, use `ser.iloc[pos]`\n",
      "  trainingCrossover = trainingCrossoverRow['Crossover'][0]\n",
      "C:\\Users\\marti\\AppData\\Local\\Temp\\ipykernel_11656\\89973294.py:48: FutureWarning: Series.__getitem__ treating keys as positions is deprecated. In a future version, integer keys will always be treated as labels (consistent with DataFrame behavior). To access a value by position, use `ser.iloc[pos]`\n",
      "  latestCrossover = latestCrossoverRow['Crossover'][0]\n",
      "C:\\Users\\marti\\AppData\\Local\\Temp\\ipykernel_11656\\89973294.py:55: FutureWarning: Series.__getitem__ treating keys as positions is deprecated. In a future version, integer keys will always be treated as labels (consistent with DataFrame behavior). To access a value by position, use `ser.iloc[pos]`\n",
      "  trainingCrossover = trainingCrossoverRow['Crossover'][0]\n",
      "C:\\Users\\marti\\AppData\\Local\\Temp\\ipykernel_11656\\89973294.py:48: FutureWarning: Series.__getitem__ treating keys as positions is deprecated. In a future version, integer keys will always be treated as labels (consistent with DataFrame behavior). To access a value by position, use `ser.iloc[pos]`\n",
      "  latestCrossover = latestCrossoverRow['Crossover'][0]\n",
      "C:\\Users\\marti\\AppData\\Local\\Temp\\ipykernel_11656\\89973294.py:55: FutureWarning: Series.__getitem__ treating keys as positions is deprecated. In a future version, integer keys will always be treated as labels (consistent with DataFrame behavior). To access a value by position, use `ser.iloc[pos]`\n",
      "  trainingCrossover = trainingCrossoverRow['Crossover'][0]\n",
      "C:\\Users\\marti\\AppData\\Local\\Temp\\ipykernel_11656\\89973294.py:48: FutureWarning: Series.__getitem__ treating keys as positions is deprecated. In a future version, integer keys will always be treated as labels (consistent with DataFrame behavior). To access a value by position, use `ser.iloc[pos]`\n",
      "  latestCrossover = latestCrossoverRow['Crossover'][0]\n",
      "C:\\Users\\marti\\AppData\\Local\\Temp\\ipykernel_11656\\89973294.py:55: FutureWarning: Series.__getitem__ treating keys as positions is deprecated. In a future version, integer keys will always be treated as labels (consistent with DataFrame behavior). To access a value by position, use `ser.iloc[pos]`\n",
      "  trainingCrossover = trainingCrossoverRow['Crossover'][0]\n",
      "C:\\Users\\marti\\AppData\\Local\\Temp\\ipykernel_11656\\89973294.py:48: FutureWarning: Series.__getitem__ treating keys as positions is deprecated. In a future version, integer keys will always be treated as labels (consistent with DataFrame behavior). To access a value by position, use `ser.iloc[pos]`\n",
      "  latestCrossover = latestCrossoverRow['Crossover'][0]\n",
      "C:\\Users\\marti\\AppData\\Local\\Temp\\ipykernel_11656\\89973294.py:55: FutureWarning: Series.__getitem__ treating keys as positions is deprecated. In a future version, integer keys will always be treated as labels (consistent with DataFrame behavior). To access a value by position, use `ser.iloc[pos]`\n",
      "  trainingCrossover = trainingCrossoverRow['Crossover'][0]\n",
      "C:\\Users\\marti\\AppData\\Local\\Temp\\ipykernel_11656\\89973294.py:48: FutureWarning: Series.__getitem__ treating keys as positions is deprecated. In a future version, integer keys will always be treated as labels (consistent with DataFrame behavior). To access a value by position, use `ser.iloc[pos]`\n",
      "  latestCrossover = latestCrossoverRow['Crossover'][0]\n",
      "C:\\Users\\marti\\AppData\\Local\\Temp\\ipykernel_11656\\89973294.py:55: FutureWarning: Series.__getitem__ treating keys as positions is deprecated. In a future version, integer keys will always be treated as labels (consistent with DataFrame behavior). To access a value by position, use `ser.iloc[pos]`\n",
      "  trainingCrossover = trainingCrossoverRow['Crossover'][0]\n",
      "C:\\Users\\marti\\AppData\\Local\\Temp\\ipykernel_11656\\89973294.py:48: FutureWarning: Series.__getitem__ treating keys as positions is deprecated. In a future version, integer keys will always be treated as labels (consistent with DataFrame behavior). To access a value by position, use `ser.iloc[pos]`\n",
      "  latestCrossover = latestCrossoverRow['Crossover'][0]\n",
      "C:\\Users\\marti\\AppData\\Local\\Temp\\ipykernel_11656\\89973294.py:55: FutureWarning: Series.__getitem__ treating keys as positions is deprecated. In a future version, integer keys will always be treated as labels (consistent with DataFrame behavior). To access a value by position, use `ser.iloc[pos]`\n",
      "  trainingCrossover = trainingCrossoverRow['Crossover'][0]\n",
      "C:\\Users\\marti\\AppData\\Local\\Temp\\ipykernel_11656\\89973294.py:48: FutureWarning: Series.__getitem__ treating keys as positions is deprecated. In a future version, integer keys will always be treated as labels (consistent with DataFrame behavior). To access a value by position, use `ser.iloc[pos]`\n",
      "  latestCrossover = latestCrossoverRow['Crossover'][0]\n",
      "C:\\Users\\marti\\AppData\\Local\\Temp\\ipykernel_11656\\89973294.py:55: FutureWarning: Series.__getitem__ treating keys as positions is deprecated. In a future version, integer keys will always be treated as labels (consistent with DataFrame behavior). To access a value by position, use `ser.iloc[pos]`\n",
      "  trainingCrossover = trainingCrossoverRow['Crossover'][0]\n",
      "C:\\Users\\marti\\AppData\\Local\\Temp\\ipykernel_11656\\89973294.py:48: FutureWarning: Series.__getitem__ treating keys as positions is deprecated. In a future version, integer keys will always be treated as labels (consistent with DataFrame behavior). To access a value by position, use `ser.iloc[pos]`\n",
      "  latestCrossover = latestCrossoverRow['Crossover'][0]\n",
      "C:\\Users\\marti\\AppData\\Local\\Temp\\ipykernel_11656\\89973294.py:55: FutureWarning: Series.__getitem__ treating keys as positions is deprecated. In a future version, integer keys will always be treated as labels (consistent with DataFrame behavior). To access a value by position, use `ser.iloc[pos]`\n",
      "  trainingCrossover = trainingCrossoverRow['Crossover'][0]\n",
      "C:\\Users\\marti\\AppData\\Local\\Temp\\ipykernel_11656\\89973294.py:48: FutureWarning: Series.__getitem__ treating keys as positions is deprecated. In a future version, integer keys will always be treated as labels (consistent with DataFrame behavior). To access a value by position, use `ser.iloc[pos]`\n",
      "  latestCrossover = latestCrossoverRow['Crossover'][0]\n",
      "C:\\Users\\marti\\AppData\\Local\\Temp\\ipykernel_11656\\89973294.py:55: FutureWarning: Series.__getitem__ treating keys as positions is deprecated. In a future version, integer keys will always be treated as labels (consistent with DataFrame behavior). To access a value by position, use `ser.iloc[pos]`\n",
      "  trainingCrossover = trainingCrossoverRow['Crossover'][0]\n",
      "C:\\Users\\marti\\AppData\\Local\\Temp\\ipykernel_11656\\89973294.py:48: FutureWarning: Series.__getitem__ treating keys as positions is deprecated. In a future version, integer keys will always be treated as labels (consistent with DataFrame behavior). To access a value by position, use `ser.iloc[pos]`\n",
      "  latestCrossover = latestCrossoverRow['Crossover'][0]\n",
      "C:\\Users\\marti\\AppData\\Local\\Temp\\ipykernel_11656\\89973294.py:55: FutureWarning: Series.__getitem__ treating keys as positions is deprecated. In a future version, integer keys will always be treated as labels (consistent with DataFrame behavior). To access a value by position, use `ser.iloc[pos]`\n",
      "  trainingCrossover = trainingCrossoverRow['Crossover'][0]\n",
      "C:\\Users\\marti\\AppData\\Local\\Temp\\ipykernel_11656\\89973294.py:48: FutureWarning: Series.__getitem__ treating keys as positions is deprecated. In a future version, integer keys will always be treated as labels (consistent with DataFrame behavior). To access a value by position, use `ser.iloc[pos]`\n",
      "  latestCrossover = latestCrossoverRow['Crossover'][0]\n",
      "C:\\Users\\marti\\AppData\\Local\\Temp\\ipykernel_11656\\89973294.py:55: FutureWarning: Series.__getitem__ treating keys as positions is deprecated. In a future version, integer keys will always be treated as labels (consistent with DataFrame behavior). To access a value by position, use `ser.iloc[pos]`\n",
      "  trainingCrossover = trainingCrossoverRow['Crossover'][0]\n",
      "C:\\Users\\marti\\AppData\\Local\\Temp\\ipykernel_11656\\89973294.py:48: FutureWarning: Series.__getitem__ treating keys as positions is deprecated. In a future version, integer keys will always be treated as labels (consistent with DataFrame behavior). To access a value by position, use `ser.iloc[pos]`\n",
      "  latestCrossover = latestCrossoverRow['Crossover'][0]\n",
      "C:\\Users\\marti\\AppData\\Local\\Temp\\ipykernel_11656\\89973294.py:55: FutureWarning: Series.__getitem__ treating keys as positions is deprecated. In a future version, integer keys will always be treated as labels (consistent with DataFrame behavior). To access a value by position, use `ser.iloc[pos]`\n",
      "  trainingCrossover = trainingCrossoverRow['Crossover'][0]\n",
      "C:\\Users\\marti\\AppData\\Local\\Temp\\ipykernel_11656\\89973294.py:48: FutureWarning: Series.__getitem__ treating keys as positions is deprecated. In a future version, integer keys will always be treated as labels (consistent with DataFrame behavior). To access a value by position, use `ser.iloc[pos]`\n",
      "  latestCrossover = latestCrossoverRow['Crossover'][0]\n",
      "C:\\Users\\marti\\AppData\\Local\\Temp\\ipykernel_11656\\89973294.py:55: FutureWarning: Series.__getitem__ treating keys as positions is deprecated. In a future version, integer keys will always be treated as labels (consistent with DataFrame behavior). To access a value by position, use `ser.iloc[pos]`\n",
      "  trainingCrossover = trainingCrossoverRow['Crossover'][0]\n",
      "C:\\Users\\marti\\AppData\\Local\\Temp\\ipykernel_11656\\89973294.py:48: FutureWarning: Series.__getitem__ treating keys as positions is deprecated. In a future version, integer keys will always be treated as labels (consistent with DataFrame behavior). To access a value by position, use `ser.iloc[pos]`\n",
      "  latestCrossover = latestCrossoverRow['Crossover'][0]\n",
      "C:\\Users\\marti\\AppData\\Local\\Temp\\ipykernel_11656\\89973294.py:55: FutureWarning: Series.__getitem__ treating keys as positions is deprecated. In a future version, integer keys will always be treated as labels (consistent with DataFrame behavior). To access a value by position, use `ser.iloc[pos]`\n",
      "  trainingCrossover = trainingCrossoverRow['Crossover'][0]\n",
      "C:\\Users\\marti\\AppData\\Local\\Temp\\ipykernel_11656\\89973294.py:48: FutureWarning: Series.__getitem__ treating keys as positions is deprecated. In a future version, integer keys will always be treated as labels (consistent with DataFrame behavior). To access a value by position, use `ser.iloc[pos]`\n",
      "  latestCrossover = latestCrossoverRow['Crossover'][0]\n",
      "C:\\Users\\marti\\AppData\\Local\\Temp\\ipykernel_11656\\89973294.py:55: FutureWarning: Series.__getitem__ treating keys as positions is deprecated. In a future version, integer keys will always be treated as labels (consistent with DataFrame behavior). To access a value by position, use `ser.iloc[pos]`\n",
      "  trainingCrossover = trainingCrossoverRow['Crossover'][0]\n",
      "C:\\Users\\marti\\AppData\\Local\\Temp\\ipykernel_11656\\89973294.py:48: FutureWarning: Series.__getitem__ treating keys as positions is deprecated. In a future version, integer keys will always be treated as labels (consistent with DataFrame behavior). To access a value by position, use `ser.iloc[pos]`\n",
      "  latestCrossover = latestCrossoverRow['Crossover'][0]\n",
      "C:\\Users\\marti\\AppData\\Local\\Temp\\ipykernel_11656\\89973294.py:55: FutureWarning: Series.__getitem__ treating keys as positions is deprecated. In a future version, integer keys will always be treated as labels (consistent with DataFrame behavior). To access a value by position, use `ser.iloc[pos]`\n",
      "  trainingCrossover = trainingCrossoverRow['Crossover'][0]\n",
      "C:\\Users\\marti\\AppData\\Local\\Temp\\ipykernel_11656\\89973294.py:48: FutureWarning: Series.__getitem__ treating keys as positions is deprecated. In a future version, integer keys will always be treated as labels (consistent with DataFrame behavior). To access a value by position, use `ser.iloc[pos]`\n",
      "  latestCrossover = latestCrossoverRow['Crossover'][0]\n",
      "C:\\Users\\marti\\AppData\\Local\\Temp\\ipykernel_11656\\89973294.py:55: FutureWarning: Series.__getitem__ treating keys as positions is deprecated. In a future version, integer keys will always be treated as labels (consistent with DataFrame behavior). To access a value by position, use `ser.iloc[pos]`\n",
      "  trainingCrossover = trainingCrossoverRow['Crossover'][0]\n",
      "C:\\Users\\marti\\AppData\\Local\\Temp\\ipykernel_11656\\89973294.py:48: FutureWarning: Series.__getitem__ treating keys as positions is deprecated. In a future version, integer keys will always be treated as labels (consistent with DataFrame behavior). To access a value by position, use `ser.iloc[pos]`\n",
      "  latestCrossover = latestCrossoverRow['Crossover'][0]\n",
      "C:\\Users\\marti\\AppData\\Local\\Temp\\ipykernel_11656\\89973294.py:55: FutureWarning: Series.__getitem__ treating keys as positions is deprecated. In a future version, integer keys will always be treated as labels (consistent with DataFrame behavior). To access a value by position, use `ser.iloc[pos]`\n",
      "  trainingCrossover = trainingCrossoverRow['Crossover'][0]\n",
      "C:\\Users\\marti\\AppData\\Local\\Temp\\ipykernel_11656\\89973294.py:48: FutureWarning: Series.__getitem__ treating keys as positions is deprecated. In a future version, integer keys will always be treated as labels (consistent with DataFrame behavior). To access a value by position, use `ser.iloc[pos]`\n",
      "  latestCrossover = latestCrossoverRow['Crossover'][0]\n",
      "C:\\Users\\marti\\AppData\\Local\\Temp\\ipykernel_11656\\89973294.py:55: FutureWarning: Series.__getitem__ treating keys as positions is deprecated. In a future version, integer keys will always be treated as labels (consistent with DataFrame behavior). To access a value by position, use `ser.iloc[pos]`\n",
      "  trainingCrossover = trainingCrossoverRow['Crossover'][0]\n",
      "C:\\Users\\marti\\AppData\\Local\\Temp\\ipykernel_11656\\89973294.py:48: FutureWarning: Series.__getitem__ treating keys as positions is deprecated. In a future version, integer keys will always be treated as labels (consistent with DataFrame behavior). To access a value by position, use `ser.iloc[pos]`\n",
      "  latestCrossover = latestCrossoverRow['Crossover'][0]\n",
      "C:\\Users\\marti\\AppData\\Local\\Temp\\ipykernel_11656\\89973294.py:55: FutureWarning: Series.__getitem__ treating keys as positions is deprecated. In a future version, integer keys will always be treated as labels (consistent with DataFrame behavior). To access a value by position, use `ser.iloc[pos]`\n",
      "  trainingCrossover = trainingCrossoverRow['Crossover'][0]\n",
      "C:\\Users\\marti\\AppData\\Local\\Temp\\ipykernel_11656\\89973294.py:48: FutureWarning: Series.__getitem__ treating keys as positions is deprecated. In a future version, integer keys will always be treated as labels (consistent with DataFrame behavior). To access a value by position, use `ser.iloc[pos]`\n",
      "  latestCrossover = latestCrossoverRow['Crossover'][0]\n",
      "C:\\Users\\marti\\AppData\\Local\\Temp\\ipykernel_11656\\89973294.py:55: FutureWarning: Series.__getitem__ treating keys as positions is deprecated. In a future version, integer keys will always be treated as labels (consistent with DataFrame behavior). To access a value by position, use `ser.iloc[pos]`\n",
      "  trainingCrossover = trainingCrossoverRow['Crossover'][0]\n",
      "C:\\Users\\marti\\AppData\\Local\\Temp\\ipykernel_11656\\89973294.py:48: FutureWarning: Series.__getitem__ treating keys as positions is deprecated. In a future version, integer keys will always be treated as labels (consistent with DataFrame behavior). To access a value by position, use `ser.iloc[pos]`\n",
      "  latestCrossover = latestCrossoverRow['Crossover'][0]\n",
      "C:\\Users\\marti\\AppData\\Local\\Temp\\ipykernel_11656\\89973294.py:55: FutureWarning: Series.__getitem__ treating keys as positions is deprecated. In a future version, integer keys will always be treated as labels (consistent with DataFrame behavior). To access a value by position, use `ser.iloc[pos]`\n",
      "  trainingCrossover = trainingCrossoverRow['Crossover'][0]\n",
      "C:\\Users\\marti\\AppData\\Local\\Temp\\ipykernel_11656\\89973294.py:48: FutureWarning: Series.__getitem__ treating keys as positions is deprecated. In a future version, integer keys will always be treated as labels (consistent with DataFrame behavior). To access a value by position, use `ser.iloc[pos]`\n",
      "  latestCrossover = latestCrossoverRow['Crossover'][0]\n",
      "C:\\Users\\marti\\AppData\\Local\\Temp\\ipykernel_11656\\89973294.py:55: FutureWarning: Series.__getitem__ treating keys as positions is deprecated. In a future version, integer keys will always be treated as labels (consistent with DataFrame behavior). To access a value by position, use `ser.iloc[pos]`\n",
      "  trainingCrossover = trainingCrossoverRow['Crossover'][0]\n",
      "C:\\Users\\marti\\AppData\\Local\\Temp\\ipykernel_11656\\89973294.py:48: FutureWarning: Series.__getitem__ treating keys as positions is deprecated. In a future version, integer keys will always be treated as labels (consistent with DataFrame behavior). To access a value by position, use `ser.iloc[pos]`\n",
      "  latestCrossover = latestCrossoverRow['Crossover'][0]\n",
      "C:\\Users\\marti\\AppData\\Local\\Temp\\ipykernel_11656\\89973294.py:55: FutureWarning: Series.__getitem__ treating keys as positions is deprecated. In a future version, integer keys will always be treated as labels (consistent with DataFrame behavior). To access a value by position, use `ser.iloc[pos]`\n",
      "  trainingCrossover = trainingCrossoverRow['Crossover'][0]\n",
      "C:\\Users\\marti\\AppData\\Local\\Temp\\ipykernel_11656\\89973294.py:48: FutureWarning: Series.__getitem__ treating keys as positions is deprecated. In a future version, integer keys will always be treated as labels (consistent with DataFrame behavior). To access a value by position, use `ser.iloc[pos]`\n",
      "  latestCrossover = latestCrossoverRow['Crossover'][0]\n",
      "C:\\Users\\marti\\AppData\\Local\\Temp\\ipykernel_11656\\89973294.py:55: FutureWarning: Series.__getitem__ treating keys as positions is deprecated. In a future version, integer keys will always be treated as labels (consistent with DataFrame behavior). To access a value by position, use `ser.iloc[pos]`\n",
      "  trainingCrossover = trainingCrossoverRow['Crossover'][0]\n",
      "C:\\Users\\marti\\AppData\\Local\\Temp\\ipykernel_11656\\89973294.py:48: FutureWarning: Series.__getitem__ treating keys as positions is deprecated. In a future version, integer keys will always be treated as labels (consistent with DataFrame behavior). To access a value by position, use `ser.iloc[pos]`\n",
      "  latestCrossover = latestCrossoverRow['Crossover'][0]\n",
      "C:\\Users\\marti\\AppData\\Local\\Temp\\ipykernel_11656\\89973294.py:55: FutureWarning: Series.__getitem__ treating keys as positions is deprecated. In a future version, integer keys will always be treated as labels (consistent with DataFrame behavior). To access a value by position, use `ser.iloc[pos]`\n",
      "  trainingCrossover = trainingCrossoverRow['Crossover'][0]\n",
      "C:\\Users\\marti\\AppData\\Local\\Temp\\ipykernel_11656\\89973294.py:48: FutureWarning: Series.__getitem__ treating keys as positions is deprecated. In a future version, integer keys will always be treated as labels (consistent with DataFrame behavior). To access a value by position, use `ser.iloc[pos]`\n",
      "  latestCrossover = latestCrossoverRow['Crossover'][0]\n",
      "C:\\Users\\marti\\AppData\\Local\\Temp\\ipykernel_11656\\89973294.py:55: FutureWarning: Series.__getitem__ treating keys as positions is deprecated. In a future version, integer keys will always be treated as labels (consistent with DataFrame behavior). To access a value by position, use `ser.iloc[pos]`\n",
      "  trainingCrossover = trainingCrossoverRow['Crossover'][0]\n",
      "C:\\Users\\marti\\AppData\\Local\\Temp\\ipykernel_11656\\89973294.py:48: FutureWarning: Series.__getitem__ treating keys as positions is deprecated. In a future version, integer keys will always be treated as labels (consistent with DataFrame behavior). To access a value by position, use `ser.iloc[pos]`\n",
      "  latestCrossover = latestCrossoverRow['Crossover'][0]\n",
      "C:\\Users\\marti\\AppData\\Local\\Temp\\ipykernel_11656\\89973294.py:55: FutureWarning: Series.__getitem__ treating keys as positions is deprecated. In a future version, integer keys will always be treated as labels (consistent with DataFrame behavior). To access a value by position, use `ser.iloc[pos]`\n",
      "  trainingCrossover = trainingCrossoverRow['Crossover'][0]\n",
      "C:\\Users\\marti\\AppData\\Local\\Temp\\ipykernel_11656\\89973294.py:48: FutureWarning: Series.__getitem__ treating keys as positions is deprecated. In a future version, integer keys will always be treated as labels (consistent with DataFrame behavior). To access a value by position, use `ser.iloc[pos]`\n",
      "  latestCrossover = latestCrossoverRow['Crossover'][0]\n",
      "C:\\Users\\marti\\AppData\\Local\\Temp\\ipykernel_11656\\89973294.py:55: FutureWarning: Series.__getitem__ treating keys as positions is deprecated. In a future version, integer keys will always be treated as labels (consistent with DataFrame behavior). To access a value by position, use `ser.iloc[pos]`\n",
      "  trainingCrossover = trainingCrossoverRow['Crossover'][0]\n",
      "C:\\Users\\marti\\AppData\\Local\\Temp\\ipykernel_11656\\89973294.py:48: FutureWarning: Series.__getitem__ treating keys as positions is deprecated. In a future version, integer keys will always be treated as labels (consistent with DataFrame behavior). To access a value by position, use `ser.iloc[pos]`\n",
      "  latestCrossover = latestCrossoverRow['Crossover'][0]\n",
      "C:\\Users\\marti\\AppData\\Local\\Temp\\ipykernel_11656\\89973294.py:55: FutureWarning: Series.__getitem__ treating keys as positions is deprecated. In a future version, integer keys will always be treated as labels (consistent with DataFrame behavior). To access a value by position, use `ser.iloc[pos]`\n",
      "  trainingCrossover = trainingCrossoverRow['Crossover'][0]\n",
      "C:\\Users\\marti\\AppData\\Local\\Temp\\ipykernel_11656\\89973294.py:48: FutureWarning: Series.__getitem__ treating keys as positions is deprecated. In a future version, integer keys will always be treated as labels (consistent with DataFrame behavior). To access a value by position, use `ser.iloc[pos]`\n",
      "  latestCrossover = latestCrossoverRow['Crossover'][0]\n",
      "C:\\Users\\marti\\AppData\\Local\\Temp\\ipykernel_11656\\89973294.py:55: FutureWarning: Series.__getitem__ treating keys as positions is deprecated. In a future version, integer keys will always be treated as labels (consistent with DataFrame behavior). To access a value by position, use `ser.iloc[pos]`\n",
      "  trainingCrossover = trainingCrossoverRow['Crossover'][0]\n",
      "C:\\Users\\marti\\AppData\\Local\\Temp\\ipykernel_11656\\89973294.py:48: FutureWarning: Series.__getitem__ treating keys as positions is deprecated. In a future version, integer keys will always be treated as labels (consistent with DataFrame behavior). To access a value by position, use `ser.iloc[pos]`\n",
      "  latestCrossover = latestCrossoverRow['Crossover'][0]\n",
      "C:\\Users\\marti\\AppData\\Local\\Temp\\ipykernel_11656\\89973294.py:55: FutureWarning: Series.__getitem__ treating keys as positions is deprecated. In a future version, integer keys will always be treated as labels (consistent with DataFrame behavior). To access a value by position, use `ser.iloc[pos]`\n",
      "  trainingCrossover = trainingCrossoverRow['Crossover'][0]\n",
      "C:\\Users\\marti\\AppData\\Local\\Temp\\ipykernel_11656\\89973294.py:48: FutureWarning: Series.__getitem__ treating keys as positions is deprecated. In a future version, integer keys will always be treated as labels (consistent with DataFrame behavior). To access a value by position, use `ser.iloc[pos]`\n",
      "  latestCrossover = latestCrossoverRow['Crossover'][0]\n",
      "C:\\Users\\marti\\AppData\\Local\\Temp\\ipykernel_11656\\89973294.py:55: FutureWarning: Series.__getitem__ treating keys as positions is deprecated. In a future version, integer keys will always be treated as labels (consistent with DataFrame behavior). To access a value by position, use `ser.iloc[pos]`\n",
      "  trainingCrossover = trainingCrossoverRow['Crossover'][0]\n",
      "C:\\Users\\marti\\AppData\\Local\\Temp\\ipykernel_11656\\89973294.py:48: FutureWarning: Series.__getitem__ treating keys as positions is deprecated. In a future version, integer keys will always be treated as labels (consistent with DataFrame behavior). To access a value by position, use `ser.iloc[pos]`\n",
      "  latestCrossover = latestCrossoverRow['Crossover'][0]\n",
      "C:\\Users\\marti\\AppData\\Local\\Temp\\ipykernel_11656\\89973294.py:55: FutureWarning: Series.__getitem__ treating keys as positions is deprecated. In a future version, integer keys will always be treated as labels (consistent with DataFrame behavior). To access a value by position, use `ser.iloc[pos]`\n",
      "  trainingCrossover = trainingCrossoverRow['Crossover'][0]\n",
      "C:\\Users\\marti\\AppData\\Local\\Temp\\ipykernel_11656\\89973294.py:48: FutureWarning: Series.__getitem__ treating keys as positions is deprecated. In a future version, integer keys will always be treated as labels (consistent with DataFrame behavior). To access a value by position, use `ser.iloc[pos]`\n",
      "  latestCrossover = latestCrossoverRow['Crossover'][0]\n",
      "C:\\Users\\marti\\AppData\\Local\\Temp\\ipykernel_11656\\89973294.py:55: FutureWarning: Series.__getitem__ treating keys as positions is deprecated. In a future version, integer keys will always be treated as labels (consistent with DataFrame behavior). To access a value by position, use `ser.iloc[pos]`\n",
      "  trainingCrossover = trainingCrossoverRow['Crossover'][0]\n",
      "C:\\Users\\marti\\AppData\\Local\\Temp\\ipykernel_11656\\89973294.py:48: FutureWarning: Series.__getitem__ treating keys as positions is deprecated. In a future version, integer keys will always be treated as labels (consistent with DataFrame behavior). To access a value by position, use `ser.iloc[pos]`\n",
      "  latestCrossover = latestCrossoverRow['Crossover'][0]\n",
      "C:\\Users\\marti\\AppData\\Local\\Temp\\ipykernel_11656\\89973294.py:55: FutureWarning: Series.__getitem__ treating keys as positions is deprecated. In a future version, integer keys will always be treated as labels (consistent with DataFrame behavior). To access a value by position, use `ser.iloc[pos]`\n",
      "  trainingCrossover = trainingCrossoverRow['Crossover'][0]\n",
      "C:\\Users\\marti\\AppData\\Local\\Temp\\ipykernel_11656\\89973294.py:48: FutureWarning: Series.__getitem__ treating keys as positions is deprecated. In a future version, integer keys will always be treated as labels (consistent with DataFrame behavior). To access a value by position, use `ser.iloc[pos]`\n",
      "  latestCrossover = latestCrossoverRow['Crossover'][0]\n",
      "C:\\Users\\marti\\AppData\\Local\\Temp\\ipykernel_11656\\89973294.py:55: FutureWarning: Series.__getitem__ treating keys as positions is deprecated. In a future version, integer keys will always be treated as labels (consistent with DataFrame behavior). To access a value by position, use `ser.iloc[pos]`\n",
      "  trainingCrossover = trainingCrossoverRow['Crossover'][0]\n",
      "C:\\Users\\marti\\AppData\\Local\\Temp\\ipykernel_11656\\89973294.py:48: FutureWarning: Series.__getitem__ treating keys as positions is deprecated. In a future version, integer keys will always be treated as labels (consistent with DataFrame behavior). To access a value by position, use `ser.iloc[pos]`\n",
      "  latestCrossover = latestCrossoverRow['Crossover'][0]\n",
      "C:\\Users\\marti\\AppData\\Local\\Temp\\ipykernel_11656\\89973294.py:55: FutureWarning: Series.__getitem__ treating keys as positions is deprecated. In a future version, integer keys will always be treated as labels (consistent with DataFrame behavior). To access a value by position, use `ser.iloc[pos]`\n",
      "  trainingCrossover = trainingCrossoverRow['Crossover'][0]\n",
      "C:\\Users\\marti\\AppData\\Local\\Temp\\ipykernel_11656\\89973294.py:48: FutureWarning: Series.__getitem__ treating keys as positions is deprecated. In a future version, integer keys will always be treated as labels (consistent with DataFrame behavior). To access a value by position, use `ser.iloc[pos]`\n",
      "  latestCrossover = latestCrossoverRow['Crossover'][0]\n",
      "C:\\Users\\marti\\AppData\\Local\\Temp\\ipykernel_11656\\89973294.py:55: FutureWarning: Series.__getitem__ treating keys as positions is deprecated. In a future version, integer keys will always be treated as labels (consistent with DataFrame behavior). To access a value by position, use `ser.iloc[pos]`\n",
      "  trainingCrossover = trainingCrossoverRow['Crossover'][0]\n",
      "C:\\Users\\marti\\AppData\\Local\\Temp\\ipykernel_11656\\89973294.py:48: FutureWarning: Series.__getitem__ treating keys as positions is deprecated. In a future version, integer keys will always be treated as labels (consistent with DataFrame behavior). To access a value by position, use `ser.iloc[pos]`\n",
      "  latestCrossover = latestCrossoverRow['Crossover'][0]\n",
      "C:\\Users\\marti\\AppData\\Local\\Temp\\ipykernel_11656\\89973294.py:55: FutureWarning: Series.__getitem__ treating keys as positions is deprecated. In a future version, integer keys will always be treated as labels (consistent with DataFrame behavior). To access a value by position, use `ser.iloc[pos]`\n",
      "  trainingCrossover = trainingCrossoverRow['Crossover'][0]\n",
      "C:\\Users\\marti\\AppData\\Local\\Temp\\ipykernel_11656\\89973294.py:48: FutureWarning: Series.__getitem__ treating keys as positions is deprecated. In a future version, integer keys will always be treated as labels (consistent with DataFrame behavior). To access a value by position, use `ser.iloc[pos]`\n",
      "  latestCrossover = latestCrossoverRow['Crossover'][0]\n",
      "C:\\Users\\marti\\AppData\\Local\\Temp\\ipykernel_11656\\89973294.py:55: FutureWarning: Series.__getitem__ treating keys as positions is deprecated. In a future version, integer keys will always be treated as labels (consistent with DataFrame behavior). To access a value by position, use `ser.iloc[pos]`\n",
      "  trainingCrossover = trainingCrossoverRow['Crossover'][0]\n",
      "C:\\Users\\marti\\AppData\\Local\\Temp\\ipykernel_11656\\89973294.py:48: FutureWarning: Series.__getitem__ treating keys as positions is deprecated. In a future version, integer keys will always be treated as labels (consistent with DataFrame behavior). To access a value by position, use `ser.iloc[pos]`\n",
      "  latestCrossover = latestCrossoverRow['Crossover'][0]\n",
      "C:\\Users\\marti\\AppData\\Local\\Temp\\ipykernel_11656\\89973294.py:55: FutureWarning: Series.__getitem__ treating keys as positions is deprecated. In a future version, integer keys will always be treated as labels (consistent with DataFrame behavior). To access a value by position, use `ser.iloc[pos]`\n",
      "  trainingCrossover = trainingCrossoverRow['Crossover'][0]\n",
      "C:\\Users\\marti\\AppData\\Local\\Temp\\ipykernel_11656\\89973294.py:48: FutureWarning: Series.__getitem__ treating keys as positions is deprecated. In a future version, integer keys will always be treated as labels (consistent with DataFrame behavior). To access a value by position, use `ser.iloc[pos]`\n",
      "  latestCrossover = latestCrossoverRow['Crossover'][0]\n",
      "C:\\Users\\marti\\AppData\\Local\\Temp\\ipykernel_11656\\89973294.py:55: FutureWarning: Series.__getitem__ treating keys as positions is deprecated. In a future version, integer keys will always be treated as labels (consistent with DataFrame behavior). To access a value by position, use `ser.iloc[pos]`\n",
      "  trainingCrossover = trainingCrossoverRow['Crossover'][0]\n",
      "C:\\Users\\marti\\AppData\\Local\\Temp\\ipykernel_11656\\89973294.py:48: FutureWarning: Series.__getitem__ treating keys as positions is deprecated. In a future version, integer keys will always be treated as labels (consistent with DataFrame behavior). To access a value by position, use `ser.iloc[pos]`\n",
      "  latestCrossover = latestCrossoverRow['Crossover'][0]\n",
      "C:\\Users\\marti\\AppData\\Local\\Temp\\ipykernel_11656\\89973294.py:55: FutureWarning: Series.__getitem__ treating keys as positions is deprecated. In a future version, integer keys will always be treated as labels (consistent with DataFrame behavior). To access a value by position, use `ser.iloc[pos]`\n",
      "  trainingCrossover = trainingCrossoverRow['Crossover'][0]\n",
      "C:\\Users\\marti\\AppData\\Local\\Temp\\ipykernel_11656\\89973294.py:48: FutureWarning: Series.__getitem__ treating keys as positions is deprecated. In a future version, integer keys will always be treated as labels (consistent with DataFrame behavior). To access a value by position, use `ser.iloc[pos]`\n",
      "  latestCrossover = latestCrossoverRow['Crossover'][0]\n",
      "C:\\Users\\marti\\AppData\\Local\\Temp\\ipykernel_11656\\89973294.py:55: FutureWarning: Series.__getitem__ treating keys as positions is deprecated. In a future version, integer keys will always be treated as labels (consistent with DataFrame behavior). To access a value by position, use `ser.iloc[pos]`\n",
      "  trainingCrossover = trainingCrossoverRow['Crossover'][0]\n",
      "C:\\Users\\marti\\AppData\\Local\\Temp\\ipykernel_11656\\89973294.py:48: FutureWarning: Series.__getitem__ treating keys as positions is deprecated. In a future version, integer keys will always be treated as labels (consistent with DataFrame behavior). To access a value by position, use `ser.iloc[pos]`\n",
      "  latestCrossover = latestCrossoverRow['Crossover'][0]\n",
      "C:\\Users\\marti\\AppData\\Local\\Temp\\ipykernel_11656\\89973294.py:55: FutureWarning: Series.__getitem__ treating keys as positions is deprecated. In a future version, integer keys will always be treated as labels (consistent with DataFrame behavior). To access a value by position, use `ser.iloc[pos]`\n",
      "  trainingCrossover = trainingCrossoverRow['Crossover'][0]\n",
      "C:\\Users\\marti\\AppData\\Local\\Temp\\ipykernel_11656\\89973294.py:48: FutureWarning: Series.__getitem__ treating keys as positions is deprecated. In a future version, integer keys will always be treated as labels (consistent with DataFrame behavior). To access a value by position, use `ser.iloc[pos]`\n",
      "  latestCrossover = latestCrossoverRow['Crossover'][0]\n",
      "C:\\Users\\marti\\AppData\\Local\\Temp\\ipykernel_11656\\89973294.py:55: FutureWarning: Series.__getitem__ treating keys as positions is deprecated. In a future version, integer keys will always be treated as labels (consistent with DataFrame behavior). To access a value by position, use `ser.iloc[pos]`\n",
      "  trainingCrossover = trainingCrossoverRow['Crossover'][0]\n",
      "C:\\Users\\marti\\AppData\\Local\\Temp\\ipykernel_11656\\89973294.py:48: FutureWarning: Series.__getitem__ treating keys as positions is deprecated. In a future version, integer keys will always be treated as labels (consistent with DataFrame behavior). To access a value by position, use `ser.iloc[pos]`\n",
      "  latestCrossover = latestCrossoverRow['Crossover'][0]\n",
      "C:\\Users\\marti\\AppData\\Local\\Temp\\ipykernel_11656\\89973294.py:55: FutureWarning: Series.__getitem__ treating keys as positions is deprecated. In a future version, integer keys will always be treated as labels (consistent with DataFrame behavior). To access a value by position, use `ser.iloc[pos]`\n",
      "  trainingCrossover = trainingCrossoverRow['Crossover'][0]\n",
      "C:\\Users\\marti\\AppData\\Local\\Temp\\ipykernel_11656\\89973294.py:48: FutureWarning: Series.__getitem__ treating keys as positions is deprecated. In a future version, integer keys will always be treated as labels (consistent with DataFrame behavior). To access a value by position, use `ser.iloc[pos]`\n",
      "  latestCrossover = latestCrossoverRow['Crossover'][0]\n",
      "C:\\Users\\marti\\AppData\\Local\\Temp\\ipykernel_11656\\89973294.py:55: FutureWarning: Series.__getitem__ treating keys as positions is deprecated. In a future version, integer keys will always be treated as labels (consistent with DataFrame behavior). To access a value by position, use `ser.iloc[pos]`\n",
      "  trainingCrossover = trainingCrossoverRow['Crossover'][0]\n",
      "C:\\Users\\marti\\AppData\\Local\\Temp\\ipykernel_11656\\89973294.py:48: FutureWarning: Series.__getitem__ treating keys as positions is deprecated. In a future version, integer keys will always be treated as labels (consistent with DataFrame behavior). To access a value by position, use `ser.iloc[pos]`\n",
      "  latestCrossover = latestCrossoverRow['Crossover'][0]\n",
      "C:\\Users\\marti\\AppData\\Local\\Temp\\ipykernel_11656\\89973294.py:55: FutureWarning: Series.__getitem__ treating keys as positions is deprecated. In a future version, integer keys will always be treated as labels (consistent with DataFrame behavior). To access a value by position, use `ser.iloc[pos]`\n",
      "  trainingCrossover = trainingCrossoverRow['Crossover'][0]\n",
      "C:\\Users\\marti\\AppData\\Local\\Temp\\ipykernel_11656\\89973294.py:48: FutureWarning: Series.__getitem__ treating keys as positions is deprecated. In a future version, integer keys will always be treated as labels (consistent with DataFrame behavior). To access a value by position, use `ser.iloc[pos]`\n",
      "  latestCrossover = latestCrossoverRow['Crossover'][0]\n",
      "C:\\Users\\marti\\AppData\\Local\\Temp\\ipykernel_11656\\89973294.py:55: FutureWarning: Series.__getitem__ treating keys as positions is deprecated. In a future version, integer keys will always be treated as labels (consistent with DataFrame behavior). To access a value by position, use `ser.iloc[pos]`\n",
      "  trainingCrossover = trainingCrossoverRow['Crossover'][0]\n",
      "C:\\Users\\marti\\AppData\\Local\\Temp\\ipykernel_11656\\89973294.py:48: FutureWarning: Series.__getitem__ treating keys as positions is deprecated. In a future version, integer keys will always be treated as labels (consistent with DataFrame behavior). To access a value by position, use `ser.iloc[pos]`\n",
      "  latestCrossover = latestCrossoverRow['Crossover'][0]\n",
      "C:\\Users\\marti\\AppData\\Local\\Temp\\ipykernel_11656\\89973294.py:55: FutureWarning: Series.__getitem__ treating keys as positions is deprecated. In a future version, integer keys will always be treated as labels (consistent with DataFrame behavior). To access a value by position, use `ser.iloc[pos]`\n",
      "  trainingCrossover = trainingCrossoverRow['Crossover'][0]\n",
      "C:\\Users\\marti\\AppData\\Local\\Temp\\ipykernel_11656\\89973294.py:48: FutureWarning: Series.__getitem__ treating keys as positions is deprecated. In a future version, integer keys will always be treated as labels (consistent with DataFrame behavior). To access a value by position, use `ser.iloc[pos]`\n",
      "  latestCrossover = latestCrossoverRow['Crossover'][0]\n",
      "C:\\Users\\marti\\AppData\\Local\\Temp\\ipykernel_11656\\89973294.py:55: FutureWarning: Series.__getitem__ treating keys as positions is deprecated. In a future version, integer keys will always be treated as labels (consistent with DataFrame behavior). To access a value by position, use `ser.iloc[pos]`\n",
      "  trainingCrossover = trainingCrossoverRow['Crossover'][0]\n",
      "C:\\Users\\marti\\AppData\\Local\\Temp\\ipykernel_11656\\89973294.py:48: FutureWarning: Series.__getitem__ treating keys as positions is deprecated. In a future version, integer keys will always be treated as labels (consistent with DataFrame behavior). To access a value by position, use `ser.iloc[pos]`\n",
      "  latestCrossover = latestCrossoverRow['Crossover'][0]\n",
      "C:\\Users\\marti\\AppData\\Local\\Temp\\ipykernel_11656\\89973294.py:55: FutureWarning: Series.__getitem__ treating keys as positions is deprecated. In a future version, integer keys will always be treated as labels (consistent with DataFrame behavior). To access a value by position, use `ser.iloc[pos]`\n",
      "  trainingCrossover = trainingCrossoverRow['Crossover'][0]\n",
      "C:\\Users\\marti\\AppData\\Local\\Temp\\ipykernel_11656\\89973294.py:48: FutureWarning: Series.__getitem__ treating keys as positions is deprecated. In a future version, integer keys will always be treated as labels (consistent with DataFrame behavior). To access a value by position, use `ser.iloc[pos]`\n",
      "  latestCrossover = latestCrossoverRow['Crossover'][0]\n",
      "C:\\Users\\marti\\AppData\\Local\\Temp\\ipykernel_11656\\89973294.py:55: FutureWarning: Series.__getitem__ treating keys as positions is deprecated. In a future version, integer keys will always be treated as labels (consistent with DataFrame behavior). To access a value by position, use `ser.iloc[pos]`\n",
      "  trainingCrossover = trainingCrossoverRow['Crossover'][0]\n",
      "C:\\Users\\marti\\AppData\\Local\\Temp\\ipykernel_11656\\89973294.py:48: FutureWarning: Series.__getitem__ treating keys as positions is deprecated. In a future version, integer keys will always be treated as labels (consistent with DataFrame behavior). To access a value by position, use `ser.iloc[pos]`\n",
      "  latestCrossover = latestCrossoverRow['Crossover'][0]\n",
      "C:\\Users\\marti\\AppData\\Local\\Temp\\ipykernel_11656\\89973294.py:55: FutureWarning: Series.__getitem__ treating keys as positions is deprecated. In a future version, integer keys will always be treated as labels (consistent with DataFrame behavior). To access a value by position, use `ser.iloc[pos]`\n",
      "  trainingCrossover = trainingCrossoverRow['Crossover'][0]\n",
      "C:\\Users\\marti\\AppData\\Local\\Temp\\ipykernel_11656\\89973294.py:48: FutureWarning: Series.__getitem__ treating keys as positions is deprecated. In a future version, integer keys will always be treated as labels (consistent with DataFrame behavior). To access a value by position, use `ser.iloc[pos]`\n",
      "  latestCrossover = latestCrossoverRow['Crossover'][0]\n",
      "C:\\Users\\marti\\AppData\\Local\\Temp\\ipykernel_11656\\89973294.py:55: FutureWarning: Series.__getitem__ treating keys as positions is deprecated. In a future version, integer keys will always be treated as labels (consistent with DataFrame behavior). To access a value by position, use `ser.iloc[pos]`\n",
      "  trainingCrossover = trainingCrossoverRow['Crossover'][0]\n",
      "C:\\Users\\marti\\AppData\\Local\\Temp\\ipykernel_11656\\89973294.py:48: FutureWarning: Series.__getitem__ treating keys as positions is deprecated. In a future version, integer keys will always be treated as labels (consistent with DataFrame behavior). To access a value by position, use `ser.iloc[pos]`\n",
      "  latestCrossover = latestCrossoverRow['Crossover'][0]\n",
      "C:\\Users\\marti\\AppData\\Local\\Temp\\ipykernel_11656\\89973294.py:55: FutureWarning: Series.__getitem__ treating keys as positions is deprecated. In a future version, integer keys will always be treated as labels (consistent with DataFrame behavior). To access a value by position, use `ser.iloc[pos]`\n",
      "  trainingCrossover = trainingCrossoverRow['Crossover'][0]\n",
      "C:\\Users\\marti\\AppData\\Local\\Temp\\ipykernel_11656\\89973294.py:48: FutureWarning: Series.__getitem__ treating keys as positions is deprecated. In a future version, integer keys will always be treated as labels (consistent with DataFrame behavior). To access a value by position, use `ser.iloc[pos]`\n",
      "  latestCrossover = latestCrossoverRow['Crossover'][0]\n",
      "C:\\Users\\marti\\AppData\\Local\\Temp\\ipykernel_11656\\89973294.py:55: FutureWarning: Series.__getitem__ treating keys as positions is deprecated. In a future version, integer keys will always be treated as labels (consistent with DataFrame behavior). To access a value by position, use `ser.iloc[pos]`\n",
      "  trainingCrossover = trainingCrossoverRow['Crossover'][0]\n",
      "C:\\Users\\marti\\AppData\\Local\\Temp\\ipykernel_11656\\89973294.py:48: FutureWarning: Series.__getitem__ treating keys as positions is deprecated. In a future version, integer keys will always be treated as labels (consistent with DataFrame behavior). To access a value by position, use `ser.iloc[pos]`\n",
      "  latestCrossover = latestCrossoverRow['Crossover'][0]\n",
      "C:\\Users\\marti\\AppData\\Local\\Temp\\ipykernel_11656\\89973294.py:55: FutureWarning: Series.__getitem__ treating keys as positions is deprecated. In a future version, integer keys will always be treated as labels (consistent with DataFrame behavior). To access a value by position, use `ser.iloc[pos]`\n",
      "  trainingCrossover = trainingCrossoverRow['Crossover'][0]\n",
      "C:\\Users\\marti\\AppData\\Local\\Temp\\ipykernel_11656\\89973294.py:48: FutureWarning: Series.__getitem__ treating keys as positions is deprecated. In a future version, integer keys will always be treated as labels (consistent with DataFrame behavior). To access a value by position, use `ser.iloc[pos]`\n",
      "  latestCrossover = latestCrossoverRow['Crossover'][0]\n",
      "C:\\Users\\marti\\AppData\\Local\\Temp\\ipykernel_11656\\89973294.py:55: FutureWarning: Series.__getitem__ treating keys as positions is deprecated. In a future version, integer keys will always be treated as labels (consistent with DataFrame behavior). To access a value by position, use `ser.iloc[pos]`\n",
      "  trainingCrossover = trainingCrossoverRow['Crossover'][0]\n",
      "C:\\Users\\marti\\AppData\\Local\\Temp\\ipykernel_11656\\89973294.py:48: FutureWarning: Series.__getitem__ treating keys as positions is deprecated. In a future version, integer keys will always be treated as labels (consistent with DataFrame behavior). To access a value by position, use `ser.iloc[pos]`\n",
      "  latestCrossover = latestCrossoverRow['Crossover'][0]\n",
      "C:\\Users\\marti\\AppData\\Local\\Temp\\ipykernel_11656\\89973294.py:55: FutureWarning: Series.__getitem__ treating keys as positions is deprecated. In a future version, integer keys will always be treated as labels (consistent with DataFrame behavior). To access a value by position, use `ser.iloc[pos]`\n",
      "  trainingCrossover = trainingCrossoverRow['Crossover'][0]\n",
      "C:\\Users\\marti\\AppData\\Local\\Temp\\ipykernel_11656\\89973294.py:48: FutureWarning: Series.__getitem__ treating keys as positions is deprecated. In a future version, integer keys will always be treated as labels (consistent with DataFrame behavior). To access a value by position, use `ser.iloc[pos]`\n",
      "  latestCrossover = latestCrossoverRow['Crossover'][0]\n",
      "C:\\Users\\marti\\AppData\\Local\\Temp\\ipykernel_11656\\89973294.py:55: FutureWarning: Series.__getitem__ treating keys as positions is deprecated. In a future version, integer keys will always be treated as labels (consistent with DataFrame behavior). To access a value by position, use `ser.iloc[pos]`\n",
      "  trainingCrossover = trainingCrossoverRow['Crossover'][0]\n",
      "C:\\Users\\marti\\AppData\\Local\\Temp\\ipykernel_11656\\89973294.py:48: FutureWarning: Series.__getitem__ treating keys as positions is deprecated. In a future version, integer keys will always be treated as labels (consistent with DataFrame behavior). To access a value by position, use `ser.iloc[pos]`\n",
      "  latestCrossover = latestCrossoverRow['Crossover'][0]\n",
      "C:\\Users\\marti\\AppData\\Local\\Temp\\ipykernel_11656\\89973294.py:55: FutureWarning: Series.__getitem__ treating keys as positions is deprecated. In a future version, integer keys will always be treated as labels (consistent with DataFrame behavior). To access a value by position, use `ser.iloc[pos]`\n",
      "  trainingCrossover = trainingCrossoverRow['Crossover'][0]\n",
      "C:\\Users\\marti\\AppData\\Local\\Temp\\ipykernel_11656\\89973294.py:48: FutureWarning: Series.__getitem__ treating keys as positions is deprecated. In a future version, integer keys will always be treated as labels (consistent with DataFrame behavior). To access a value by position, use `ser.iloc[pos]`\n",
      "  latestCrossover = latestCrossoverRow['Crossover'][0]\n",
      "C:\\Users\\marti\\AppData\\Local\\Temp\\ipykernel_11656\\89973294.py:55: FutureWarning: Series.__getitem__ treating keys as positions is deprecated. In a future version, integer keys will always be treated as labels (consistent with DataFrame behavior). To access a value by position, use `ser.iloc[pos]`\n",
      "  trainingCrossover = trainingCrossoverRow['Crossover'][0]\n",
      "C:\\Users\\marti\\AppData\\Local\\Temp\\ipykernel_11656\\89973294.py:48: FutureWarning: Series.__getitem__ treating keys as positions is deprecated. In a future version, integer keys will always be treated as labels (consistent with DataFrame behavior). To access a value by position, use `ser.iloc[pos]`\n",
      "  latestCrossover = latestCrossoverRow['Crossover'][0]\n",
      "C:\\Users\\marti\\AppData\\Local\\Temp\\ipykernel_11656\\89973294.py:55: FutureWarning: Series.__getitem__ treating keys as positions is deprecated. In a future version, integer keys will always be treated as labels (consistent with DataFrame behavior). To access a value by position, use `ser.iloc[pos]`\n",
      "  trainingCrossover = trainingCrossoverRow['Crossover'][0]\n",
      "C:\\Users\\marti\\AppData\\Local\\Temp\\ipykernel_11656\\89973294.py:48: FutureWarning: Series.__getitem__ treating keys as positions is deprecated. In a future version, integer keys will always be treated as labels (consistent with DataFrame behavior). To access a value by position, use `ser.iloc[pos]`\n",
      "  latestCrossover = latestCrossoverRow['Crossover'][0]\n",
      "C:\\Users\\marti\\AppData\\Local\\Temp\\ipykernel_11656\\89973294.py:55: FutureWarning: Series.__getitem__ treating keys as positions is deprecated. In a future version, integer keys will always be treated as labels (consistent with DataFrame behavior). To access a value by position, use `ser.iloc[pos]`\n",
      "  trainingCrossover = trainingCrossoverRow['Crossover'][0]\n",
      "C:\\Users\\marti\\AppData\\Local\\Temp\\ipykernel_11656\\89973294.py:48: FutureWarning: Series.__getitem__ treating keys as positions is deprecated. In a future version, integer keys will always be treated as labels (consistent with DataFrame behavior). To access a value by position, use `ser.iloc[pos]`\n",
      "  latestCrossover = latestCrossoverRow['Crossover'][0]\n",
      "C:\\Users\\marti\\AppData\\Local\\Temp\\ipykernel_11656\\89973294.py:55: FutureWarning: Series.__getitem__ treating keys as positions is deprecated. In a future version, integer keys will always be treated as labels (consistent with DataFrame behavior). To access a value by position, use `ser.iloc[pos]`\n",
      "  trainingCrossover = trainingCrossoverRow['Crossover'][0]\n",
      "C:\\Users\\marti\\AppData\\Local\\Temp\\ipykernel_11656\\89973294.py:48: FutureWarning: Series.__getitem__ treating keys as positions is deprecated. In a future version, integer keys will always be treated as labels (consistent with DataFrame behavior). To access a value by position, use `ser.iloc[pos]`\n",
      "  latestCrossover = latestCrossoverRow['Crossover'][0]\n",
      "C:\\Users\\marti\\AppData\\Local\\Temp\\ipykernel_11656\\89973294.py:55: FutureWarning: Series.__getitem__ treating keys as positions is deprecated. In a future version, integer keys will always be treated as labels (consistent with DataFrame behavior). To access a value by position, use `ser.iloc[pos]`\n",
      "  trainingCrossover = trainingCrossoverRow['Crossover'][0]\n",
      "C:\\Users\\marti\\AppData\\Local\\Temp\\ipykernel_11656\\89973294.py:48: FutureWarning: Series.__getitem__ treating keys as positions is deprecated. In a future version, integer keys will always be treated as labels (consistent with DataFrame behavior). To access a value by position, use `ser.iloc[pos]`\n",
      "  latestCrossover = latestCrossoverRow['Crossover'][0]\n",
      "C:\\Users\\marti\\AppData\\Local\\Temp\\ipykernel_11656\\89973294.py:55: FutureWarning: Series.__getitem__ treating keys as positions is deprecated. In a future version, integer keys will always be treated as labels (consistent with DataFrame behavior). To access a value by position, use `ser.iloc[pos]`\n",
      "  trainingCrossover = trainingCrossoverRow['Crossover'][0]\n",
      "C:\\Users\\marti\\AppData\\Local\\Temp\\ipykernel_11656\\89973294.py:48: FutureWarning: Series.__getitem__ treating keys as positions is deprecated. In a future version, integer keys will always be treated as labels (consistent with DataFrame behavior). To access a value by position, use `ser.iloc[pos]`\n",
      "  latestCrossover = latestCrossoverRow['Crossover'][0]\n",
      "C:\\Users\\marti\\AppData\\Local\\Temp\\ipykernel_11656\\89973294.py:55: FutureWarning: Series.__getitem__ treating keys as positions is deprecated. In a future version, integer keys will always be treated as labels (consistent with DataFrame behavior). To access a value by position, use `ser.iloc[pos]`\n",
      "  trainingCrossover = trainingCrossoverRow['Crossover'][0]\n",
      "C:\\Users\\marti\\AppData\\Local\\Temp\\ipykernel_11656\\89973294.py:48: FutureWarning: Series.__getitem__ treating keys as positions is deprecated. In a future version, integer keys will always be treated as labels (consistent with DataFrame behavior). To access a value by position, use `ser.iloc[pos]`\n",
      "  latestCrossover = latestCrossoverRow['Crossover'][0]\n",
      "C:\\Users\\marti\\AppData\\Local\\Temp\\ipykernel_11656\\89973294.py:55: FutureWarning: Series.__getitem__ treating keys as positions is deprecated. In a future version, integer keys will always be treated as labels (consistent with DataFrame behavior). To access a value by position, use `ser.iloc[pos]`\n",
      "  trainingCrossover = trainingCrossoverRow['Crossover'][0]\n",
      "C:\\Users\\marti\\AppData\\Local\\Temp\\ipykernel_11656\\89973294.py:48: FutureWarning: Series.__getitem__ treating keys as positions is deprecated. In a future version, integer keys will always be treated as labels (consistent with DataFrame behavior). To access a value by position, use `ser.iloc[pos]`\n",
      "  latestCrossover = latestCrossoverRow['Crossover'][0]\n",
      "C:\\Users\\marti\\AppData\\Local\\Temp\\ipykernel_11656\\89973294.py:55: FutureWarning: Series.__getitem__ treating keys as positions is deprecated. In a future version, integer keys will always be treated as labels (consistent with DataFrame behavior). To access a value by position, use `ser.iloc[pos]`\n",
      "  trainingCrossover = trainingCrossoverRow['Crossover'][0]\n",
      "C:\\Users\\marti\\AppData\\Local\\Temp\\ipykernel_11656\\89973294.py:48: FutureWarning: Series.__getitem__ treating keys as positions is deprecated. In a future version, integer keys will always be treated as labels (consistent with DataFrame behavior). To access a value by position, use `ser.iloc[pos]`\n",
      "  latestCrossover = latestCrossoverRow['Crossover'][0]\n",
      "C:\\Users\\marti\\AppData\\Local\\Temp\\ipykernel_11656\\89973294.py:55: FutureWarning: Series.__getitem__ treating keys as positions is deprecated. In a future version, integer keys will always be treated as labels (consistent with DataFrame behavior). To access a value by position, use `ser.iloc[pos]`\n",
      "  trainingCrossover = trainingCrossoverRow['Crossover'][0]\n",
      "C:\\Users\\marti\\AppData\\Local\\Temp\\ipykernel_11656\\89973294.py:48: FutureWarning: Series.__getitem__ treating keys as positions is deprecated. In a future version, integer keys will always be treated as labels (consistent with DataFrame behavior). To access a value by position, use `ser.iloc[pos]`\n",
      "  latestCrossover = latestCrossoverRow['Crossover'][0]\n",
      "C:\\Users\\marti\\AppData\\Local\\Temp\\ipykernel_11656\\89973294.py:55: FutureWarning: Series.__getitem__ treating keys as positions is deprecated. In a future version, integer keys will always be treated as labels (consistent with DataFrame behavior). To access a value by position, use `ser.iloc[pos]`\n",
      "  trainingCrossover = trainingCrossoverRow['Crossover'][0]\n",
      "C:\\Users\\marti\\AppData\\Local\\Temp\\ipykernel_11656\\89973294.py:48: FutureWarning: Series.__getitem__ treating keys as positions is deprecated. In a future version, integer keys will always be treated as labels (consistent with DataFrame behavior). To access a value by position, use `ser.iloc[pos]`\n",
      "  latestCrossover = latestCrossoverRow['Crossover'][0]\n",
      "C:\\Users\\marti\\AppData\\Local\\Temp\\ipykernel_11656\\89973294.py:55: FutureWarning: Series.__getitem__ treating keys as positions is deprecated. In a future version, integer keys will always be treated as labels (consistent with DataFrame behavior). To access a value by position, use `ser.iloc[pos]`\n",
      "  trainingCrossover = trainingCrossoverRow['Crossover'][0]\n",
      "C:\\Users\\marti\\AppData\\Local\\Temp\\ipykernel_11656\\89973294.py:48: FutureWarning: Series.__getitem__ treating keys as positions is deprecated. In a future version, integer keys will always be treated as labels (consistent with DataFrame behavior). To access a value by position, use `ser.iloc[pos]`\n",
      "  latestCrossover = latestCrossoverRow['Crossover'][0]\n",
      "C:\\Users\\marti\\AppData\\Local\\Temp\\ipykernel_11656\\89973294.py:55: FutureWarning: Series.__getitem__ treating keys as positions is deprecated. In a future version, integer keys will always be treated as labels (consistent with DataFrame behavior). To access a value by position, use `ser.iloc[pos]`\n",
      "  trainingCrossover = trainingCrossoverRow['Crossover'][0]\n",
      "C:\\Users\\marti\\AppData\\Local\\Temp\\ipykernel_11656\\89973294.py:48: FutureWarning: Series.__getitem__ treating keys as positions is deprecated. In a future version, integer keys will always be treated as labels (consistent with DataFrame behavior). To access a value by position, use `ser.iloc[pos]`\n",
      "  latestCrossover = latestCrossoverRow['Crossover'][0]\n",
      "C:\\Users\\marti\\AppData\\Local\\Temp\\ipykernel_11656\\89973294.py:55: FutureWarning: Series.__getitem__ treating keys as positions is deprecated. In a future version, integer keys will always be treated as labels (consistent with DataFrame behavior). To access a value by position, use `ser.iloc[pos]`\n",
      "  trainingCrossover = trainingCrossoverRow['Crossover'][0]\n",
      "C:\\Users\\marti\\AppData\\Local\\Temp\\ipykernel_11656\\89973294.py:48: FutureWarning: Series.__getitem__ treating keys as positions is deprecated. In a future version, integer keys will always be treated as labels (consistent with DataFrame behavior). To access a value by position, use `ser.iloc[pos]`\n",
      "  latestCrossover = latestCrossoverRow['Crossover'][0]\n",
      "C:\\Users\\marti\\AppData\\Local\\Temp\\ipykernel_11656\\89973294.py:55: FutureWarning: Series.__getitem__ treating keys as positions is deprecated. In a future version, integer keys will always be treated as labels (consistent with DataFrame behavior). To access a value by position, use `ser.iloc[pos]`\n",
      "  trainingCrossover = trainingCrossoverRow['Crossover'][0]\n",
      "C:\\Users\\marti\\AppData\\Local\\Temp\\ipykernel_11656\\89973294.py:48: FutureWarning: Series.__getitem__ treating keys as positions is deprecated. In a future version, integer keys will always be treated as labels (consistent with DataFrame behavior). To access a value by position, use `ser.iloc[pos]`\n",
      "  latestCrossover = latestCrossoverRow['Crossover'][0]\n",
      "C:\\Users\\marti\\AppData\\Local\\Temp\\ipykernel_11656\\89973294.py:55: FutureWarning: Series.__getitem__ treating keys as positions is deprecated. In a future version, integer keys will always be treated as labels (consistent with DataFrame behavior). To access a value by position, use `ser.iloc[pos]`\n",
      "  trainingCrossover = trainingCrossoverRow['Crossover'][0]\n",
      "C:\\Users\\marti\\AppData\\Local\\Temp\\ipykernel_11656\\89973294.py:48: FutureWarning: Series.__getitem__ treating keys as positions is deprecated. In a future version, integer keys will always be treated as labels (consistent with DataFrame behavior). To access a value by position, use `ser.iloc[pos]`\n",
      "  latestCrossover = latestCrossoverRow['Crossover'][0]\n",
      "C:\\Users\\marti\\AppData\\Local\\Temp\\ipykernel_11656\\89973294.py:55: FutureWarning: Series.__getitem__ treating keys as positions is deprecated. In a future version, integer keys will always be treated as labels (consistent with DataFrame behavior). To access a value by position, use `ser.iloc[pos]`\n",
      "  trainingCrossover = trainingCrossoverRow['Crossover'][0]\n",
      "C:\\Users\\marti\\AppData\\Local\\Temp\\ipykernel_11656\\89973294.py:48: FutureWarning: Series.__getitem__ treating keys as positions is deprecated. In a future version, integer keys will always be treated as labels (consistent with DataFrame behavior). To access a value by position, use `ser.iloc[pos]`\n",
      "  latestCrossover = latestCrossoverRow['Crossover'][0]\n",
      "C:\\Users\\marti\\AppData\\Local\\Temp\\ipykernel_11656\\89973294.py:55: FutureWarning: Series.__getitem__ treating keys as positions is deprecated. In a future version, integer keys will always be treated as labels (consistent with DataFrame behavior). To access a value by position, use `ser.iloc[pos]`\n",
      "  trainingCrossover = trainingCrossoverRow['Crossover'][0]\n",
      "C:\\Users\\marti\\AppData\\Local\\Temp\\ipykernel_11656\\89973294.py:48: FutureWarning: Series.__getitem__ treating keys as positions is deprecated. In a future version, integer keys will always be treated as labels (consistent with DataFrame behavior). To access a value by position, use `ser.iloc[pos]`\n",
      "  latestCrossover = latestCrossoverRow['Crossover'][0]\n",
      "C:\\Users\\marti\\AppData\\Local\\Temp\\ipykernel_11656\\89973294.py:55: FutureWarning: Series.__getitem__ treating keys as positions is deprecated. In a future version, integer keys will always be treated as labels (consistent with DataFrame behavior). To access a value by position, use `ser.iloc[pos]`\n",
      "  trainingCrossover = trainingCrossoverRow['Crossover'][0]\n",
      "C:\\Users\\marti\\AppData\\Local\\Temp\\ipykernel_11656\\89973294.py:48: FutureWarning: Series.__getitem__ treating keys as positions is deprecated. In a future version, integer keys will always be treated as labels (consistent with DataFrame behavior). To access a value by position, use `ser.iloc[pos]`\n",
      "  latestCrossover = latestCrossoverRow['Crossover'][0]\n",
      "C:\\Users\\marti\\AppData\\Local\\Temp\\ipykernel_11656\\89973294.py:55: FutureWarning: Series.__getitem__ treating keys as positions is deprecated. In a future version, integer keys will always be treated as labels (consistent with DataFrame behavior). To access a value by position, use `ser.iloc[pos]`\n",
      "  trainingCrossover = trainingCrossoverRow['Crossover'][0]\n",
      "C:\\Users\\marti\\AppData\\Local\\Temp\\ipykernel_11656\\89973294.py:48: FutureWarning: Series.__getitem__ treating keys as positions is deprecated. In a future version, integer keys will always be treated as labels (consistent with DataFrame behavior). To access a value by position, use `ser.iloc[pos]`\n",
      "  latestCrossover = latestCrossoverRow['Crossover'][0]\n",
      "C:\\Users\\marti\\AppData\\Local\\Temp\\ipykernel_11656\\89973294.py:55: FutureWarning: Series.__getitem__ treating keys as positions is deprecated. In a future version, integer keys will always be treated as labels (consistent with DataFrame behavior). To access a value by position, use `ser.iloc[pos]`\n",
      "  trainingCrossover = trainingCrossoverRow['Crossover'][0]\n",
      "C:\\Users\\marti\\AppData\\Local\\Temp\\ipykernel_11656\\89973294.py:48: FutureWarning: Series.__getitem__ treating keys as positions is deprecated. In a future version, integer keys will always be treated as labels (consistent with DataFrame behavior). To access a value by position, use `ser.iloc[pos]`\n",
      "  latestCrossover = latestCrossoverRow['Crossover'][0]\n",
      "C:\\Users\\marti\\AppData\\Local\\Temp\\ipykernel_11656\\89973294.py:55: FutureWarning: Series.__getitem__ treating keys as positions is deprecated. In a future version, integer keys will always be treated as labels (consistent with DataFrame behavior). To access a value by position, use `ser.iloc[pos]`\n",
      "  trainingCrossover = trainingCrossoverRow['Crossover'][0]\n",
      "C:\\Users\\marti\\AppData\\Local\\Temp\\ipykernel_11656\\89973294.py:48: FutureWarning: Series.__getitem__ treating keys as positions is deprecated. In a future version, integer keys will always be treated as labels (consistent with DataFrame behavior). To access a value by position, use `ser.iloc[pos]`\n",
      "  latestCrossover = latestCrossoverRow['Crossover'][0]\n",
      "C:\\Users\\marti\\AppData\\Local\\Temp\\ipykernel_11656\\89973294.py:55: FutureWarning: Series.__getitem__ treating keys as positions is deprecated. In a future version, integer keys will always be treated as labels (consistent with DataFrame behavior). To access a value by position, use `ser.iloc[pos]`\n",
      "  trainingCrossover = trainingCrossoverRow['Crossover'][0]\n",
      "C:\\Users\\marti\\AppData\\Local\\Temp\\ipykernel_11656\\89973294.py:48: FutureWarning: Series.__getitem__ treating keys as positions is deprecated. In a future version, integer keys will always be treated as labels (consistent with DataFrame behavior). To access a value by position, use `ser.iloc[pos]`\n",
      "  latestCrossover = latestCrossoverRow['Crossover'][0]\n",
      "C:\\Users\\marti\\AppData\\Local\\Temp\\ipykernel_11656\\89973294.py:55: FutureWarning: Series.__getitem__ treating keys as positions is deprecated. In a future version, integer keys will always be treated as labels (consistent with DataFrame behavior). To access a value by position, use `ser.iloc[pos]`\n",
      "  trainingCrossover = trainingCrossoverRow['Crossover'][0]\n",
      "C:\\Users\\marti\\AppData\\Local\\Temp\\ipykernel_11656\\89973294.py:48: FutureWarning: Series.__getitem__ treating keys as positions is deprecated. In a future version, integer keys will always be treated as labels (consistent with DataFrame behavior). To access a value by position, use `ser.iloc[pos]`\n",
      "  latestCrossover = latestCrossoverRow['Crossover'][0]\n",
      "C:\\Users\\marti\\AppData\\Local\\Temp\\ipykernel_11656\\89973294.py:55: FutureWarning: Series.__getitem__ treating keys as positions is deprecated. In a future version, integer keys will always be treated as labels (consistent with DataFrame behavior). To access a value by position, use `ser.iloc[pos]`\n",
      "  trainingCrossover = trainingCrossoverRow['Crossover'][0]\n",
      "C:\\Users\\marti\\AppData\\Local\\Temp\\ipykernel_11656\\89973294.py:48: FutureWarning: Series.__getitem__ treating keys as positions is deprecated. In a future version, integer keys will always be treated as labels (consistent with DataFrame behavior). To access a value by position, use `ser.iloc[pos]`\n",
      "  latestCrossover = latestCrossoverRow['Crossover'][0]\n",
      "C:\\Users\\marti\\AppData\\Local\\Temp\\ipykernel_11656\\89973294.py:55: FutureWarning: Series.__getitem__ treating keys as positions is deprecated. In a future version, integer keys will always be treated as labels (consistent with DataFrame behavior). To access a value by position, use `ser.iloc[pos]`\n",
      "  trainingCrossover = trainingCrossoverRow['Crossover'][0]\n",
      "C:\\Users\\marti\\AppData\\Local\\Temp\\ipykernel_11656\\89973294.py:48: FutureWarning: Series.__getitem__ treating keys as positions is deprecated. In a future version, integer keys will always be treated as labels (consistent with DataFrame behavior). To access a value by position, use `ser.iloc[pos]`\n",
      "  latestCrossover = latestCrossoverRow['Crossover'][0]\n",
      "C:\\Users\\marti\\AppData\\Local\\Temp\\ipykernel_11656\\89973294.py:55: FutureWarning: Series.__getitem__ treating keys as positions is deprecated. In a future version, integer keys will always be treated as labels (consistent with DataFrame behavior). To access a value by position, use `ser.iloc[pos]`\n",
      "  trainingCrossover = trainingCrossoverRow['Crossover'][0]\n",
      "C:\\Users\\marti\\AppData\\Local\\Temp\\ipykernel_11656\\89973294.py:48: FutureWarning: Series.__getitem__ treating keys as positions is deprecated. In a future version, integer keys will always be treated as labels (consistent with DataFrame behavior). To access a value by position, use `ser.iloc[pos]`\n",
      "  latestCrossover = latestCrossoverRow['Crossover'][0]\n",
      "C:\\Users\\marti\\AppData\\Local\\Temp\\ipykernel_11656\\89973294.py:55: FutureWarning: Series.__getitem__ treating keys as positions is deprecated. In a future version, integer keys will always be treated as labels (consistent with DataFrame behavior). To access a value by position, use `ser.iloc[pos]`\n",
      "  trainingCrossover = trainingCrossoverRow['Crossover'][0]\n",
      "C:\\Users\\marti\\AppData\\Local\\Temp\\ipykernel_11656\\89973294.py:48: FutureWarning: Series.__getitem__ treating keys as positions is deprecated. In a future version, integer keys will always be treated as labels (consistent with DataFrame behavior). To access a value by position, use `ser.iloc[pos]`\n",
      "  latestCrossover = latestCrossoverRow['Crossover'][0]\n",
      "C:\\Users\\marti\\AppData\\Local\\Temp\\ipykernel_11656\\89973294.py:55: FutureWarning: Series.__getitem__ treating keys as positions is deprecated. In a future version, integer keys will always be treated as labels (consistent with DataFrame behavior). To access a value by position, use `ser.iloc[pos]`\n",
      "  trainingCrossover = trainingCrossoverRow['Crossover'][0]\n",
      "C:\\Users\\marti\\AppData\\Local\\Temp\\ipykernel_11656\\89973294.py:48: FutureWarning: Series.__getitem__ treating keys as positions is deprecated. In a future version, integer keys will always be treated as labels (consistent with DataFrame behavior). To access a value by position, use `ser.iloc[pos]`\n",
      "  latestCrossover = latestCrossoverRow['Crossover'][0]\n",
      "C:\\Users\\marti\\AppData\\Local\\Temp\\ipykernel_11656\\89973294.py:55: FutureWarning: Series.__getitem__ treating keys as positions is deprecated. In a future version, integer keys will always be treated as labels (consistent with DataFrame behavior). To access a value by position, use `ser.iloc[pos]`\n",
      "  trainingCrossover = trainingCrossoverRow['Crossover'][0]\n",
      "C:\\Users\\marti\\AppData\\Local\\Temp\\ipykernel_11656\\89973294.py:48: FutureWarning: Series.__getitem__ treating keys as positions is deprecated. In a future version, integer keys will always be treated as labels (consistent with DataFrame behavior). To access a value by position, use `ser.iloc[pos]`\n",
      "  latestCrossover = latestCrossoverRow['Crossover'][0]\n",
      "C:\\Users\\marti\\AppData\\Local\\Temp\\ipykernel_11656\\89973294.py:55: FutureWarning: Series.__getitem__ treating keys as positions is deprecated. In a future version, integer keys will always be treated as labels (consistent with DataFrame behavior). To access a value by position, use `ser.iloc[pos]`\n",
      "  trainingCrossover = trainingCrossoverRow['Crossover'][0]\n",
      "C:\\Users\\marti\\AppData\\Local\\Temp\\ipykernel_11656\\89973294.py:48: FutureWarning: Series.__getitem__ treating keys as positions is deprecated. In a future version, integer keys will always be treated as labels (consistent with DataFrame behavior). To access a value by position, use `ser.iloc[pos]`\n",
      "  latestCrossover = latestCrossoverRow['Crossover'][0]\n",
      "C:\\Users\\marti\\AppData\\Local\\Temp\\ipykernel_11656\\89973294.py:55: FutureWarning: Series.__getitem__ treating keys as positions is deprecated. In a future version, integer keys will always be treated as labels (consistent with DataFrame behavior). To access a value by position, use `ser.iloc[pos]`\n",
      "  trainingCrossover = trainingCrossoverRow['Crossover'][0]\n",
      "C:\\Users\\marti\\AppData\\Local\\Temp\\ipykernel_11656\\89973294.py:48: FutureWarning: Series.__getitem__ treating keys as positions is deprecated. In a future version, integer keys will always be treated as labels (consistent with DataFrame behavior). To access a value by position, use `ser.iloc[pos]`\n",
      "  latestCrossover = latestCrossoverRow['Crossover'][0]\n",
      "C:\\Users\\marti\\AppData\\Local\\Temp\\ipykernel_11656\\89973294.py:55: FutureWarning: Series.__getitem__ treating keys as positions is deprecated. In a future version, integer keys will always be treated as labels (consistent with DataFrame behavior). To access a value by position, use `ser.iloc[pos]`\n",
      "  trainingCrossover = trainingCrossoverRow['Crossover'][0]\n",
      "C:\\Users\\marti\\AppData\\Local\\Temp\\ipykernel_11656\\89973294.py:48: FutureWarning: Series.__getitem__ treating keys as positions is deprecated. In a future version, integer keys will always be treated as labels (consistent with DataFrame behavior). To access a value by position, use `ser.iloc[pos]`\n",
      "  latestCrossover = latestCrossoverRow['Crossover'][0]\n",
      "C:\\Users\\marti\\AppData\\Local\\Temp\\ipykernel_11656\\89973294.py:55: FutureWarning: Series.__getitem__ treating keys as positions is deprecated. In a future version, integer keys will always be treated as labels (consistent with DataFrame behavior). To access a value by position, use `ser.iloc[pos]`\n",
      "  trainingCrossover = trainingCrossoverRow['Crossover'][0]\n",
      "C:\\Users\\marti\\AppData\\Local\\Temp\\ipykernel_11656\\89973294.py:48: FutureWarning: Series.__getitem__ treating keys as positions is deprecated. In a future version, integer keys will always be treated as labels (consistent with DataFrame behavior). To access a value by position, use `ser.iloc[pos]`\n",
      "  latestCrossover = latestCrossoverRow['Crossover'][0]\n",
      "C:\\Users\\marti\\AppData\\Local\\Temp\\ipykernel_11656\\89973294.py:55: FutureWarning: Series.__getitem__ treating keys as positions is deprecated. In a future version, integer keys will always be treated as labels (consistent with DataFrame behavior). To access a value by position, use `ser.iloc[pos]`\n",
      "  trainingCrossover = trainingCrossoverRow['Crossover'][0]\n",
      "C:\\Users\\marti\\AppData\\Local\\Temp\\ipykernel_11656\\89973294.py:48: FutureWarning: Series.__getitem__ treating keys as positions is deprecated. In a future version, integer keys will always be treated as labels (consistent with DataFrame behavior). To access a value by position, use `ser.iloc[pos]`\n",
      "  latestCrossover = latestCrossoverRow['Crossover'][0]\n",
      "C:\\Users\\marti\\AppData\\Local\\Temp\\ipykernel_11656\\89973294.py:55: FutureWarning: Series.__getitem__ treating keys as positions is deprecated. In a future version, integer keys will always be treated as labels (consistent with DataFrame behavior). To access a value by position, use `ser.iloc[pos]`\n",
      "  trainingCrossover = trainingCrossoverRow['Crossover'][0]\n",
      "C:\\Users\\marti\\AppData\\Local\\Temp\\ipykernel_11656\\89973294.py:48: FutureWarning: Series.__getitem__ treating keys as positions is deprecated. In a future version, integer keys will always be treated as labels (consistent with DataFrame behavior). To access a value by position, use `ser.iloc[pos]`\n",
      "  latestCrossover = latestCrossoverRow['Crossover'][0]\n",
      "C:\\Users\\marti\\AppData\\Local\\Temp\\ipykernel_11656\\89973294.py:55: FutureWarning: Series.__getitem__ treating keys as positions is deprecated. In a future version, integer keys will always be treated as labels (consistent with DataFrame behavior). To access a value by position, use `ser.iloc[pos]`\n",
      "  trainingCrossover = trainingCrossoverRow['Crossover'][0]\n",
      "C:\\Users\\marti\\AppData\\Local\\Temp\\ipykernel_11656\\89973294.py:48: FutureWarning: Series.__getitem__ treating keys as positions is deprecated. In a future version, integer keys will always be treated as labels (consistent with DataFrame behavior). To access a value by position, use `ser.iloc[pos]`\n",
      "  latestCrossover = latestCrossoverRow['Crossover'][0]\n",
      "C:\\Users\\marti\\AppData\\Local\\Temp\\ipykernel_11656\\89973294.py:55: FutureWarning: Series.__getitem__ treating keys as positions is deprecated. In a future version, integer keys will always be treated as labels (consistent with DataFrame behavior). To access a value by position, use `ser.iloc[pos]`\n",
      "  trainingCrossover = trainingCrossoverRow['Crossover'][0]\n",
      "C:\\Users\\marti\\AppData\\Local\\Temp\\ipykernel_11656\\89973294.py:48: FutureWarning: Series.__getitem__ treating keys as positions is deprecated. In a future version, integer keys will always be treated as labels (consistent with DataFrame behavior). To access a value by position, use `ser.iloc[pos]`\n",
      "  latestCrossover = latestCrossoverRow['Crossover'][0]\n",
      "C:\\Users\\marti\\AppData\\Local\\Temp\\ipykernel_11656\\89973294.py:55: FutureWarning: Series.__getitem__ treating keys as positions is deprecated. In a future version, integer keys will always be treated as labels (consistent with DataFrame behavior). To access a value by position, use `ser.iloc[pos]`\n",
      "  trainingCrossover = trainingCrossoverRow['Crossover'][0]\n",
      "C:\\Users\\marti\\AppData\\Local\\Temp\\ipykernel_11656\\89973294.py:48: FutureWarning: Series.__getitem__ treating keys as positions is deprecated. In a future version, integer keys will always be treated as labels (consistent with DataFrame behavior). To access a value by position, use `ser.iloc[pos]`\n",
      "  latestCrossover = latestCrossoverRow['Crossover'][0]\n",
      "C:\\Users\\marti\\AppData\\Local\\Temp\\ipykernel_11656\\89973294.py:55: FutureWarning: Series.__getitem__ treating keys as positions is deprecated. In a future version, integer keys will always be treated as labels (consistent with DataFrame behavior). To access a value by position, use `ser.iloc[pos]`\n",
      "  trainingCrossover = trainingCrossoverRow['Crossover'][0]\n",
      "C:\\Users\\marti\\AppData\\Local\\Temp\\ipykernel_11656\\89973294.py:48: FutureWarning: Series.__getitem__ treating keys as positions is deprecated. In a future version, integer keys will always be treated as labels (consistent with DataFrame behavior). To access a value by position, use `ser.iloc[pos]`\n",
      "  latestCrossover = latestCrossoverRow['Crossover'][0]\n",
      "C:\\Users\\marti\\AppData\\Local\\Temp\\ipykernel_11656\\89973294.py:55: FutureWarning: Series.__getitem__ treating keys as positions is deprecated. In a future version, integer keys will always be treated as labels (consistent with DataFrame behavior). To access a value by position, use `ser.iloc[pos]`\n",
      "  trainingCrossover = trainingCrossoverRow['Crossover'][0]\n",
      "C:\\Users\\marti\\AppData\\Local\\Temp\\ipykernel_11656\\89973294.py:48: FutureWarning: Series.__getitem__ treating keys as positions is deprecated. In a future version, integer keys will always be treated as labels (consistent with DataFrame behavior). To access a value by position, use `ser.iloc[pos]`\n",
      "  latestCrossover = latestCrossoverRow['Crossover'][0]\n",
      "C:\\Users\\marti\\AppData\\Local\\Temp\\ipykernel_11656\\89973294.py:55: FutureWarning: Series.__getitem__ treating keys as positions is deprecated. In a future version, integer keys will always be treated as labels (consistent with DataFrame behavior). To access a value by position, use `ser.iloc[pos]`\n",
      "  trainingCrossover = trainingCrossoverRow['Crossover'][0]\n",
      "C:\\Users\\marti\\AppData\\Local\\Temp\\ipykernel_11656\\89973294.py:48: FutureWarning: Series.__getitem__ treating keys as positions is deprecated. In a future version, integer keys will always be treated as labels (consistent with DataFrame behavior). To access a value by position, use `ser.iloc[pos]`\n",
      "  latestCrossover = latestCrossoverRow['Crossover'][0]\n",
      "C:\\Users\\marti\\AppData\\Local\\Temp\\ipykernel_11656\\89973294.py:55: FutureWarning: Series.__getitem__ treating keys as positions is deprecated. In a future version, integer keys will always be treated as labels (consistent with DataFrame behavior). To access a value by position, use `ser.iloc[pos]`\n",
      "  trainingCrossover = trainingCrossoverRow['Crossover'][0]\n",
      "C:\\Users\\marti\\AppData\\Local\\Temp\\ipykernel_11656\\89973294.py:48: FutureWarning: Series.__getitem__ treating keys as positions is deprecated. In a future version, integer keys will always be treated as labels (consistent with DataFrame behavior). To access a value by position, use `ser.iloc[pos]`\n",
      "  latestCrossover = latestCrossoverRow['Crossover'][0]\n",
      "C:\\Users\\marti\\AppData\\Local\\Temp\\ipykernel_11656\\89973294.py:55: FutureWarning: Series.__getitem__ treating keys as positions is deprecated. In a future version, integer keys will always be treated as labels (consistent with DataFrame behavior). To access a value by position, use `ser.iloc[pos]`\n",
      "  trainingCrossover = trainingCrossoverRow['Crossover'][0]\n",
      "C:\\Users\\marti\\AppData\\Local\\Temp\\ipykernel_11656\\89973294.py:48: FutureWarning: Series.__getitem__ treating keys as positions is deprecated. In a future version, integer keys will always be treated as labels (consistent with DataFrame behavior). To access a value by position, use `ser.iloc[pos]`\n",
      "  latestCrossover = latestCrossoverRow['Crossover'][0]\n",
      "C:\\Users\\marti\\AppData\\Local\\Temp\\ipykernel_11656\\89973294.py:55: FutureWarning: Series.__getitem__ treating keys as positions is deprecated. In a future version, integer keys will always be treated as labels (consistent with DataFrame behavior). To access a value by position, use `ser.iloc[pos]`\n",
      "  trainingCrossover = trainingCrossoverRow['Crossover'][0]\n",
      "C:\\Users\\marti\\AppData\\Local\\Temp\\ipykernel_11656\\89973294.py:48: FutureWarning: Series.__getitem__ treating keys as positions is deprecated. In a future version, integer keys will always be treated as labels (consistent with DataFrame behavior). To access a value by position, use `ser.iloc[pos]`\n",
      "  latestCrossover = latestCrossoverRow['Crossover'][0]\n",
      "C:\\Users\\marti\\AppData\\Local\\Temp\\ipykernel_11656\\89973294.py:55: FutureWarning: Series.__getitem__ treating keys as positions is deprecated. In a future version, integer keys will always be treated as labels (consistent with DataFrame behavior). To access a value by position, use `ser.iloc[pos]`\n",
      "  trainingCrossover = trainingCrossoverRow['Crossover'][0]\n",
      "C:\\Users\\marti\\AppData\\Local\\Temp\\ipykernel_11656\\89973294.py:48: FutureWarning: Series.__getitem__ treating keys as positions is deprecated. In a future version, integer keys will always be treated as labels (consistent with DataFrame behavior). To access a value by position, use `ser.iloc[pos]`\n",
      "  latestCrossover = latestCrossoverRow['Crossover'][0]\n",
      "C:\\Users\\marti\\AppData\\Local\\Temp\\ipykernel_11656\\89973294.py:55: FutureWarning: Series.__getitem__ treating keys as positions is deprecated. In a future version, integer keys will always be treated as labels (consistent with DataFrame behavior). To access a value by position, use `ser.iloc[pos]`\n",
      "  trainingCrossover = trainingCrossoverRow['Crossover'][0]\n",
      "C:\\Users\\marti\\AppData\\Local\\Temp\\ipykernel_11656\\89973294.py:48: FutureWarning: Series.__getitem__ treating keys as positions is deprecated. In a future version, integer keys will always be treated as labels (consistent with DataFrame behavior). To access a value by position, use `ser.iloc[pos]`\n",
      "  latestCrossover = latestCrossoverRow['Crossover'][0]\n",
      "C:\\Users\\marti\\AppData\\Local\\Temp\\ipykernel_11656\\89973294.py:55: FutureWarning: Series.__getitem__ treating keys as positions is deprecated. In a future version, integer keys will always be treated as labels (consistent with DataFrame behavior). To access a value by position, use `ser.iloc[pos]`\n",
      "  trainingCrossover = trainingCrossoverRow['Crossover'][0]\n",
      "C:\\Users\\marti\\AppData\\Local\\Temp\\ipykernel_11656\\89973294.py:48: FutureWarning: Series.__getitem__ treating keys as positions is deprecated. In a future version, integer keys will always be treated as labels (consistent with DataFrame behavior). To access a value by position, use `ser.iloc[pos]`\n",
      "  latestCrossover = latestCrossoverRow['Crossover'][0]\n",
      "C:\\Users\\marti\\AppData\\Local\\Temp\\ipykernel_11656\\89973294.py:55: FutureWarning: Series.__getitem__ treating keys as positions is deprecated. In a future version, integer keys will always be treated as labels (consistent with DataFrame behavior). To access a value by position, use `ser.iloc[pos]`\n",
      "  trainingCrossover = trainingCrossoverRow['Crossover'][0]\n",
      "C:\\Users\\marti\\AppData\\Local\\Temp\\ipykernel_11656\\89973294.py:48: FutureWarning: Series.__getitem__ treating keys as positions is deprecated. In a future version, integer keys will always be treated as labels (consistent with DataFrame behavior). To access a value by position, use `ser.iloc[pos]`\n",
      "  latestCrossover = latestCrossoverRow['Crossover'][0]\n",
      "C:\\Users\\marti\\AppData\\Local\\Temp\\ipykernel_11656\\89973294.py:55: FutureWarning: Series.__getitem__ treating keys as positions is deprecated. In a future version, integer keys will always be treated as labels (consistent with DataFrame behavior). To access a value by position, use `ser.iloc[pos]`\n",
      "  trainingCrossover = trainingCrossoverRow['Crossover'][0]\n",
      "C:\\Users\\marti\\AppData\\Local\\Temp\\ipykernel_11656\\89973294.py:48: FutureWarning: Series.__getitem__ treating keys as positions is deprecated. In a future version, integer keys will always be treated as labels (consistent with DataFrame behavior). To access a value by position, use `ser.iloc[pos]`\n",
      "  latestCrossover = latestCrossoverRow['Crossover'][0]\n",
      "C:\\Users\\marti\\AppData\\Local\\Temp\\ipykernel_11656\\89973294.py:55: FutureWarning: Series.__getitem__ treating keys as positions is deprecated. In a future version, integer keys will always be treated as labels (consistent with DataFrame behavior). To access a value by position, use `ser.iloc[pos]`\n",
      "  trainingCrossover = trainingCrossoverRow['Crossover'][0]\n",
      "C:\\Users\\marti\\AppData\\Local\\Temp\\ipykernel_11656\\89973294.py:48: FutureWarning: Series.__getitem__ treating keys as positions is deprecated. In a future version, integer keys will always be treated as labels (consistent with DataFrame behavior). To access a value by position, use `ser.iloc[pos]`\n",
      "  latestCrossover = latestCrossoverRow['Crossover'][0]\n",
      "C:\\Users\\marti\\AppData\\Local\\Temp\\ipykernel_11656\\89973294.py:55: FutureWarning: Series.__getitem__ treating keys as positions is deprecated. In a future version, integer keys will always be treated as labels (consistent with DataFrame behavior). To access a value by position, use `ser.iloc[pos]`\n",
      "  trainingCrossover = trainingCrossoverRow['Crossover'][0]\n",
      "C:\\Users\\marti\\AppData\\Local\\Temp\\ipykernel_11656\\89973294.py:48: FutureWarning: Series.__getitem__ treating keys as positions is deprecated. In a future version, integer keys will always be treated as labels (consistent with DataFrame behavior). To access a value by position, use `ser.iloc[pos]`\n",
      "  latestCrossover = latestCrossoverRow['Crossover'][0]\n",
      "C:\\Users\\marti\\AppData\\Local\\Temp\\ipykernel_11656\\89973294.py:55: FutureWarning: Series.__getitem__ treating keys as positions is deprecated. In a future version, integer keys will always be treated as labels (consistent with DataFrame behavior). To access a value by position, use `ser.iloc[pos]`\n",
      "  trainingCrossover = trainingCrossoverRow['Crossover'][0]\n",
      "C:\\Users\\marti\\AppData\\Local\\Temp\\ipykernel_11656\\89973294.py:48: FutureWarning: Series.__getitem__ treating keys as positions is deprecated. In a future version, integer keys will always be treated as labels (consistent with DataFrame behavior). To access a value by position, use `ser.iloc[pos]`\n",
      "  latestCrossover = latestCrossoverRow['Crossover'][0]\n",
      "C:\\Users\\marti\\AppData\\Local\\Temp\\ipykernel_11656\\89973294.py:55: FutureWarning: Series.__getitem__ treating keys as positions is deprecated. In a future version, integer keys will always be treated as labels (consistent with DataFrame behavior). To access a value by position, use `ser.iloc[pos]`\n",
      "  trainingCrossover = trainingCrossoverRow['Crossover'][0]\n",
      "C:\\Users\\marti\\AppData\\Local\\Temp\\ipykernel_11656\\89973294.py:48: FutureWarning: Series.__getitem__ treating keys as positions is deprecated. In a future version, integer keys will always be treated as labels (consistent with DataFrame behavior). To access a value by position, use `ser.iloc[pos]`\n",
      "  latestCrossover = latestCrossoverRow['Crossover'][0]\n",
      "C:\\Users\\marti\\AppData\\Local\\Temp\\ipykernel_11656\\89973294.py:55: FutureWarning: Series.__getitem__ treating keys as positions is deprecated. In a future version, integer keys will always be treated as labels (consistent with DataFrame behavior). To access a value by position, use `ser.iloc[pos]`\n",
      "  trainingCrossover = trainingCrossoverRow['Crossover'][0]\n",
      "C:\\Users\\marti\\AppData\\Local\\Temp\\ipykernel_11656\\89973294.py:48: FutureWarning: Series.__getitem__ treating keys as positions is deprecated. In a future version, integer keys will always be treated as labels (consistent with DataFrame behavior). To access a value by position, use `ser.iloc[pos]`\n",
      "  latestCrossover = latestCrossoverRow['Crossover'][0]\n",
      "C:\\Users\\marti\\AppData\\Local\\Temp\\ipykernel_11656\\89973294.py:55: FutureWarning: Series.__getitem__ treating keys as positions is deprecated. In a future version, integer keys will always be treated as labels (consistent with DataFrame behavior). To access a value by position, use `ser.iloc[pos]`\n",
      "  trainingCrossover = trainingCrossoverRow['Crossover'][0]\n",
      "C:\\Users\\marti\\AppData\\Local\\Temp\\ipykernel_11656\\89973294.py:48: FutureWarning: Series.__getitem__ treating keys as positions is deprecated. In a future version, integer keys will always be treated as labels (consistent with DataFrame behavior). To access a value by position, use `ser.iloc[pos]`\n",
      "  latestCrossover = latestCrossoverRow['Crossover'][0]\n",
      "C:\\Users\\marti\\AppData\\Local\\Temp\\ipykernel_11656\\89973294.py:55: FutureWarning: Series.__getitem__ treating keys as positions is deprecated. In a future version, integer keys will always be treated as labels (consistent with DataFrame behavior). To access a value by position, use `ser.iloc[pos]`\n",
      "  trainingCrossover = trainingCrossoverRow['Crossover'][0]\n",
      "C:\\Users\\marti\\AppData\\Local\\Temp\\ipykernel_11656\\89973294.py:48: FutureWarning: Series.__getitem__ treating keys as positions is deprecated. In a future version, integer keys will always be treated as labels (consistent with DataFrame behavior). To access a value by position, use `ser.iloc[pos]`\n",
      "  latestCrossover = latestCrossoverRow['Crossover'][0]\n",
      "C:\\Users\\marti\\AppData\\Local\\Temp\\ipykernel_11656\\89973294.py:55: FutureWarning: Series.__getitem__ treating keys as positions is deprecated. In a future version, integer keys will always be treated as labels (consistent with DataFrame behavior). To access a value by position, use `ser.iloc[pos]`\n",
      "  trainingCrossover = trainingCrossoverRow['Crossover'][0]\n",
      "C:\\Users\\marti\\AppData\\Local\\Temp\\ipykernel_11656\\89973294.py:48: FutureWarning: Series.__getitem__ treating keys as positions is deprecated. In a future version, integer keys will always be treated as labels (consistent with DataFrame behavior). To access a value by position, use `ser.iloc[pos]`\n",
      "  latestCrossover = latestCrossoverRow['Crossover'][0]\n",
      "C:\\Users\\marti\\AppData\\Local\\Temp\\ipykernel_11656\\89973294.py:55: FutureWarning: Series.__getitem__ treating keys as positions is deprecated. In a future version, integer keys will always be treated as labels (consistent with DataFrame behavior). To access a value by position, use `ser.iloc[pos]`\n",
      "  trainingCrossover = trainingCrossoverRow['Crossover'][0]\n",
      "C:\\Users\\marti\\AppData\\Local\\Temp\\ipykernel_11656\\89973294.py:48: FutureWarning: Series.__getitem__ treating keys as positions is deprecated. In a future version, integer keys will always be treated as labels (consistent with DataFrame behavior). To access a value by position, use `ser.iloc[pos]`\n",
      "  latestCrossover = latestCrossoverRow['Crossover'][0]\n",
      "C:\\Users\\marti\\AppData\\Local\\Temp\\ipykernel_11656\\89973294.py:55: FutureWarning: Series.__getitem__ treating keys as positions is deprecated. In a future version, integer keys will always be treated as labels (consistent with DataFrame behavior). To access a value by position, use `ser.iloc[pos]`\n",
      "  trainingCrossover = trainingCrossoverRow['Crossover'][0]\n",
      "C:\\Users\\marti\\AppData\\Local\\Temp\\ipykernel_11656\\89973294.py:48: FutureWarning: Series.__getitem__ treating keys as positions is deprecated. In a future version, integer keys will always be treated as labels (consistent with DataFrame behavior). To access a value by position, use `ser.iloc[pos]`\n",
      "  latestCrossover = latestCrossoverRow['Crossover'][0]\n",
      "C:\\Users\\marti\\AppData\\Local\\Temp\\ipykernel_11656\\89973294.py:55: FutureWarning: Series.__getitem__ treating keys as positions is deprecated. In a future version, integer keys will always be treated as labels (consistent with DataFrame behavior). To access a value by position, use `ser.iloc[pos]`\n",
      "  trainingCrossover = trainingCrossoverRow['Crossover'][0]\n",
      "C:\\Users\\marti\\AppData\\Local\\Temp\\ipykernel_11656\\89973294.py:48: FutureWarning: Series.__getitem__ treating keys as positions is deprecated. In a future version, integer keys will always be treated as labels (consistent with DataFrame behavior). To access a value by position, use `ser.iloc[pos]`\n",
      "  latestCrossover = latestCrossoverRow['Crossover'][0]\n",
      "C:\\Users\\marti\\AppData\\Local\\Temp\\ipykernel_11656\\89973294.py:55: FutureWarning: Series.__getitem__ treating keys as positions is deprecated. In a future version, integer keys will always be treated as labels (consistent with DataFrame behavior). To access a value by position, use `ser.iloc[pos]`\n",
      "  trainingCrossover = trainingCrossoverRow['Crossover'][0]\n",
      "C:\\Users\\marti\\AppData\\Local\\Temp\\ipykernel_11656\\89973294.py:48: FutureWarning: Series.__getitem__ treating keys as positions is deprecated. In a future version, integer keys will always be treated as labels (consistent with DataFrame behavior). To access a value by position, use `ser.iloc[pos]`\n",
      "  latestCrossover = latestCrossoverRow['Crossover'][0]\n",
      "C:\\Users\\marti\\AppData\\Local\\Temp\\ipykernel_11656\\89973294.py:55: FutureWarning: Series.__getitem__ treating keys as positions is deprecated. In a future version, integer keys will always be treated as labels (consistent with DataFrame behavior). To access a value by position, use `ser.iloc[pos]`\n",
      "  trainingCrossover = trainingCrossoverRow['Crossover'][0]\n",
      "C:\\Users\\marti\\AppData\\Local\\Temp\\ipykernel_11656\\89973294.py:48: FutureWarning: Series.__getitem__ treating keys as positions is deprecated. In a future version, integer keys will always be treated as labels (consistent with DataFrame behavior). To access a value by position, use `ser.iloc[pos]`\n",
      "  latestCrossover = latestCrossoverRow['Crossover'][0]\n",
      "C:\\Users\\marti\\AppData\\Local\\Temp\\ipykernel_11656\\89973294.py:55: FutureWarning: Series.__getitem__ treating keys as positions is deprecated. In a future version, integer keys will always be treated as labels (consistent with DataFrame behavior). To access a value by position, use `ser.iloc[pos]`\n",
      "  trainingCrossover = trainingCrossoverRow['Crossover'][0]\n",
      "C:\\Users\\marti\\AppData\\Local\\Temp\\ipykernel_11656\\89973294.py:48: FutureWarning: Series.__getitem__ treating keys as positions is deprecated. In a future version, integer keys will always be treated as labels (consistent with DataFrame behavior). To access a value by position, use `ser.iloc[pos]`\n",
      "  latestCrossover = latestCrossoverRow['Crossover'][0]\n",
      "C:\\Users\\marti\\AppData\\Local\\Temp\\ipykernel_11656\\89973294.py:55: FutureWarning: Series.__getitem__ treating keys as positions is deprecated. In a future version, integer keys will always be treated as labels (consistent with DataFrame behavior). To access a value by position, use `ser.iloc[pos]`\n",
      "  trainingCrossover = trainingCrossoverRow['Crossover'][0]\n",
      "C:\\Users\\marti\\AppData\\Local\\Temp\\ipykernel_11656\\89973294.py:48: FutureWarning: Series.__getitem__ treating keys as positions is deprecated. In a future version, integer keys will always be treated as labels (consistent with DataFrame behavior). To access a value by position, use `ser.iloc[pos]`\n",
      "  latestCrossover = latestCrossoverRow['Crossover'][0]\n",
      "C:\\Users\\marti\\AppData\\Local\\Temp\\ipykernel_11656\\89973294.py:55: FutureWarning: Series.__getitem__ treating keys as positions is deprecated. In a future version, integer keys will always be treated as labels (consistent with DataFrame behavior). To access a value by position, use `ser.iloc[pos]`\n",
      "  trainingCrossover = trainingCrossoverRow['Crossover'][0]\n",
      "C:\\Users\\marti\\AppData\\Local\\Temp\\ipykernel_11656\\89973294.py:48: FutureWarning: Series.__getitem__ treating keys as positions is deprecated. In a future version, integer keys will always be treated as labels (consistent with DataFrame behavior). To access a value by position, use `ser.iloc[pos]`\n",
      "  latestCrossover = latestCrossoverRow['Crossover'][0]\n",
      "C:\\Users\\marti\\AppData\\Local\\Temp\\ipykernel_11656\\89973294.py:55: FutureWarning: Series.__getitem__ treating keys as positions is deprecated. In a future version, integer keys will always be treated as labels (consistent with DataFrame behavior). To access a value by position, use `ser.iloc[pos]`\n",
      "  trainingCrossover = trainingCrossoverRow['Crossover'][0]\n",
      "C:\\Users\\marti\\AppData\\Local\\Temp\\ipykernel_11656\\89973294.py:48: FutureWarning: Series.__getitem__ treating keys as positions is deprecated. In a future version, integer keys will always be treated as labels (consistent with DataFrame behavior). To access a value by position, use `ser.iloc[pos]`\n",
      "  latestCrossover = latestCrossoverRow['Crossover'][0]\n",
      "C:\\Users\\marti\\AppData\\Local\\Temp\\ipykernel_11656\\89973294.py:55: FutureWarning: Series.__getitem__ treating keys as positions is deprecated. In a future version, integer keys will always be treated as labels (consistent with DataFrame behavior). To access a value by position, use `ser.iloc[pos]`\n",
      "  trainingCrossover = trainingCrossoverRow['Crossover'][0]\n",
      "C:\\Users\\marti\\AppData\\Local\\Temp\\ipykernel_11656\\89973294.py:48: FutureWarning: Series.__getitem__ treating keys as positions is deprecated. In a future version, integer keys will always be treated as labels (consistent with DataFrame behavior). To access a value by position, use `ser.iloc[pos]`\n",
      "  latestCrossover = latestCrossoverRow['Crossover'][0]\n",
      "C:\\Users\\marti\\AppData\\Local\\Temp\\ipykernel_11656\\89973294.py:55: FutureWarning: Series.__getitem__ treating keys as positions is deprecated. In a future version, integer keys will always be treated as labels (consistent with DataFrame behavior). To access a value by position, use `ser.iloc[pos]`\n",
      "  trainingCrossover = trainingCrossoverRow['Crossover'][0]\n",
      "C:\\Users\\marti\\AppData\\Local\\Temp\\ipykernel_11656\\89973294.py:48: FutureWarning: Series.__getitem__ treating keys as positions is deprecated. In a future version, integer keys will always be treated as labels (consistent with DataFrame behavior). To access a value by position, use `ser.iloc[pos]`\n",
      "  latestCrossover = latestCrossoverRow['Crossover'][0]\n",
      "C:\\Users\\marti\\AppData\\Local\\Temp\\ipykernel_11656\\89973294.py:55: FutureWarning: Series.__getitem__ treating keys as positions is deprecated. In a future version, integer keys will always be treated as labels (consistent with DataFrame behavior). To access a value by position, use `ser.iloc[pos]`\n",
      "  trainingCrossover = trainingCrossoverRow['Crossover'][0]\n",
      "C:\\Users\\marti\\AppData\\Local\\Temp\\ipykernel_11656\\89973294.py:48: FutureWarning: Series.__getitem__ treating keys as positions is deprecated. In a future version, integer keys will always be treated as labels (consistent with DataFrame behavior). To access a value by position, use `ser.iloc[pos]`\n",
      "  latestCrossover = latestCrossoverRow['Crossover'][0]\n",
      "C:\\Users\\marti\\AppData\\Local\\Temp\\ipykernel_11656\\89973294.py:55: FutureWarning: Series.__getitem__ treating keys as positions is deprecated. In a future version, integer keys will always be treated as labels (consistent with DataFrame behavior). To access a value by position, use `ser.iloc[pos]`\n",
      "  trainingCrossover = trainingCrossoverRow['Crossover'][0]\n",
      "C:\\Users\\marti\\AppData\\Local\\Temp\\ipykernel_11656\\89973294.py:48: FutureWarning: Series.__getitem__ treating keys as positions is deprecated. In a future version, integer keys will always be treated as labels (consistent with DataFrame behavior). To access a value by position, use `ser.iloc[pos]`\n",
      "  latestCrossover = latestCrossoverRow['Crossover'][0]\n",
      "C:\\Users\\marti\\AppData\\Local\\Temp\\ipykernel_11656\\89973294.py:55: FutureWarning: Series.__getitem__ treating keys as positions is deprecated. In a future version, integer keys will always be treated as labels (consistent with DataFrame behavior). To access a value by position, use `ser.iloc[pos]`\n",
      "  trainingCrossover = trainingCrossoverRow['Crossover'][0]\n",
      "C:\\Users\\marti\\AppData\\Local\\Temp\\ipykernel_11656\\89973294.py:48: FutureWarning: Series.__getitem__ treating keys as positions is deprecated. In a future version, integer keys will always be treated as labels (consistent with DataFrame behavior). To access a value by position, use `ser.iloc[pos]`\n",
      "  latestCrossover = latestCrossoverRow['Crossover'][0]\n",
      "C:\\Users\\marti\\AppData\\Local\\Temp\\ipykernel_11656\\89973294.py:55: FutureWarning: Series.__getitem__ treating keys as positions is deprecated. In a future version, integer keys will always be treated as labels (consistent with DataFrame behavior). To access a value by position, use `ser.iloc[pos]`\n",
      "  trainingCrossover = trainingCrossoverRow['Crossover'][0]\n",
      "C:\\Users\\marti\\AppData\\Local\\Temp\\ipykernel_11656\\89973294.py:48: FutureWarning: Series.__getitem__ treating keys as positions is deprecated. In a future version, integer keys will always be treated as labels (consistent with DataFrame behavior). To access a value by position, use `ser.iloc[pos]`\n",
      "  latestCrossover = latestCrossoverRow['Crossover'][0]\n",
      "C:\\Users\\marti\\AppData\\Local\\Temp\\ipykernel_11656\\89973294.py:55: FutureWarning: Series.__getitem__ treating keys as positions is deprecated. In a future version, integer keys will always be treated as labels (consistent with DataFrame behavior). To access a value by position, use `ser.iloc[pos]`\n",
      "  trainingCrossover = trainingCrossoverRow['Crossover'][0]\n",
      "C:\\Users\\marti\\AppData\\Local\\Temp\\ipykernel_11656\\89973294.py:48: FutureWarning: Series.__getitem__ treating keys as positions is deprecated. In a future version, integer keys will always be treated as labels (consistent with DataFrame behavior). To access a value by position, use `ser.iloc[pos]`\n",
      "  latestCrossover = latestCrossoverRow['Crossover'][0]\n",
      "C:\\Users\\marti\\AppData\\Local\\Temp\\ipykernel_11656\\89973294.py:55: FutureWarning: Series.__getitem__ treating keys as positions is deprecated. In a future version, integer keys will always be treated as labels (consistent with DataFrame behavior). To access a value by position, use `ser.iloc[pos]`\n",
      "  trainingCrossover = trainingCrossoverRow['Crossover'][0]\n",
      "C:\\Users\\marti\\AppData\\Local\\Temp\\ipykernel_11656\\89973294.py:48: FutureWarning: Series.__getitem__ treating keys as positions is deprecated. In a future version, integer keys will always be treated as labels (consistent with DataFrame behavior). To access a value by position, use `ser.iloc[pos]`\n",
      "  latestCrossover = latestCrossoverRow['Crossover'][0]\n",
      "C:\\Users\\marti\\AppData\\Local\\Temp\\ipykernel_11656\\89973294.py:55: FutureWarning: Series.__getitem__ treating keys as positions is deprecated. In a future version, integer keys will always be treated as labels (consistent with DataFrame behavior). To access a value by position, use `ser.iloc[pos]`\n",
      "  trainingCrossover = trainingCrossoverRow['Crossover'][0]\n",
      "C:\\Users\\marti\\AppData\\Local\\Temp\\ipykernel_11656\\89973294.py:48: FutureWarning: Series.__getitem__ treating keys as positions is deprecated. In a future version, integer keys will always be treated as labels (consistent with DataFrame behavior). To access a value by position, use `ser.iloc[pos]`\n",
      "  latestCrossover = latestCrossoverRow['Crossover'][0]\n",
      "C:\\Users\\marti\\AppData\\Local\\Temp\\ipykernel_11656\\89973294.py:55: FutureWarning: Series.__getitem__ treating keys as positions is deprecated. In a future version, integer keys will always be treated as labels (consistent with DataFrame behavior). To access a value by position, use `ser.iloc[pos]`\n",
      "  trainingCrossover = trainingCrossoverRow['Crossover'][0]\n",
      "C:\\Users\\marti\\AppData\\Local\\Temp\\ipykernel_11656\\89973294.py:48: FutureWarning: Series.__getitem__ treating keys as positions is deprecated. In a future version, integer keys will always be treated as labels (consistent with DataFrame behavior). To access a value by position, use `ser.iloc[pos]`\n",
      "  latestCrossover = latestCrossoverRow['Crossover'][0]\n",
      "C:\\Users\\marti\\AppData\\Local\\Temp\\ipykernel_11656\\89973294.py:55: FutureWarning: Series.__getitem__ treating keys as positions is deprecated. In a future version, integer keys will always be treated as labels (consistent with DataFrame behavior). To access a value by position, use `ser.iloc[pos]`\n",
      "  trainingCrossover = trainingCrossoverRow['Crossover'][0]\n",
      "C:\\Users\\marti\\AppData\\Local\\Temp\\ipykernel_11656\\89973294.py:48: FutureWarning: Series.__getitem__ treating keys as positions is deprecated. In a future version, integer keys will always be treated as labels (consistent with DataFrame behavior). To access a value by position, use `ser.iloc[pos]`\n",
      "  latestCrossover = latestCrossoverRow['Crossover'][0]\n",
      "C:\\Users\\marti\\AppData\\Local\\Temp\\ipykernel_11656\\89973294.py:55: FutureWarning: Series.__getitem__ treating keys as positions is deprecated. In a future version, integer keys will always be treated as labels (consistent with DataFrame behavior). To access a value by position, use `ser.iloc[pos]`\n",
      "  trainingCrossover = trainingCrossoverRow['Crossover'][0]\n",
      "C:\\Users\\marti\\AppData\\Local\\Temp\\ipykernel_11656\\89973294.py:48: FutureWarning: Series.__getitem__ treating keys as positions is deprecated. In a future version, integer keys will always be treated as labels (consistent with DataFrame behavior). To access a value by position, use `ser.iloc[pos]`\n",
      "  latestCrossover = latestCrossoverRow['Crossover'][0]\n",
      "C:\\Users\\marti\\AppData\\Local\\Temp\\ipykernel_11656\\89973294.py:55: FutureWarning: Series.__getitem__ treating keys as positions is deprecated. In a future version, integer keys will always be treated as labels (consistent with DataFrame behavior). To access a value by position, use `ser.iloc[pos]`\n",
      "  trainingCrossover = trainingCrossoverRow['Crossover'][0]\n",
      "C:\\Users\\marti\\AppData\\Local\\Temp\\ipykernel_11656\\89973294.py:48: FutureWarning: Series.__getitem__ treating keys as positions is deprecated. In a future version, integer keys will always be treated as labels (consistent with DataFrame behavior). To access a value by position, use `ser.iloc[pos]`\n",
      "  latestCrossover = latestCrossoverRow['Crossover'][0]\n",
      "C:\\Users\\marti\\AppData\\Local\\Temp\\ipykernel_11656\\89973294.py:55: FutureWarning: Series.__getitem__ treating keys as positions is deprecated. In a future version, integer keys will always be treated as labels (consistent with DataFrame behavior). To access a value by position, use `ser.iloc[pos]`\n",
      "  trainingCrossover = trainingCrossoverRow['Crossover'][0]\n",
      "C:\\Users\\marti\\AppData\\Local\\Temp\\ipykernel_11656\\89973294.py:48: FutureWarning: Series.__getitem__ treating keys as positions is deprecated. In a future version, integer keys will always be treated as labels (consistent with DataFrame behavior). To access a value by position, use `ser.iloc[pos]`\n",
      "  latestCrossover = latestCrossoverRow['Crossover'][0]\n",
      "C:\\Users\\marti\\AppData\\Local\\Temp\\ipykernel_11656\\89973294.py:55: FutureWarning: Series.__getitem__ treating keys as positions is deprecated. In a future version, integer keys will always be treated as labels (consistent with DataFrame behavior). To access a value by position, use `ser.iloc[pos]`\n",
      "  trainingCrossover = trainingCrossoverRow['Crossover'][0]\n",
      "C:\\Users\\marti\\AppData\\Local\\Temp\\ipykernel_11656\\89973294.py:48: FutureWarning: Series.__getitem__ treating keys as positions is deprecated. In a future version, integer keys will always be treated as labels (consistent with DataFrame behavior). To access a value by position, use `ser.iloc[pos]`\n",
      "  latestCrossover = latestCrossoverRow['Crossover'][0]\n",
      "C:\\Users\\marti\\AppData\\Local\\Temp\\ipykernel_11656\\89973294.py:55: FutureWarning: Series.__getitem__ treating keys as positions is deprecated. In a future version, integer keys will always be treated as labels (consistent with DataFrame behavior). To access a value by position, use `ser.iloc[pos]`\n",
      "  trainingCrossover = trainingCrossoverRow['Crossover'][0]\n",
      "C:\\Users\\marti\\AppData\\Local\\Temp\\ipykernel_11656\\89973294.py:48: FutureWarning: Series.__getitem__ treating keys as positions is deprecated. In a future version, integer keys will always be treated as labels (consistent with DataFrame behavior). To access a value by position, use `ser.iloc[pos]`\n",
      "  latestCrossover = latestCrossoverRow['Crossover'][0]\n",
      "C:\\Users\\marti\\AppData\\Local\\Temp\\ipykernel_11656\\89973294.py:55: FutureWarning: Series.__getitem__ treating keys as positions is deprecated. In a future version, integer keys will always be treated as labels (consistent with DataFrame behavior). To access a value by position, use `ser.iloc[pos]`\n",
      "  trainingCrossover = trainingCrossoverRow['Crossover'][0]\n",
      "C:\\Users\\marti\\AppData\\Local\\Temp\\ipykernel_11656\\89973294.py:48: FutureWarning: Series.__getitem__ treating keys as positions is deprecated. In a future version, integer keys will always be treated as labels (consistent with DataFrame behavior). To access a value by position, use `ser.iloc[pos]`\n",
      "  latestCrossover = latestCrossoverRow['Crossover'][0]\n",
      "C:\\Users\\marti\\AppData\\Local\\Temp\\ipykernel_11656\\89973294.py:55: FutureWarning: Series.__getitem__ treating keys as positions is deprecated. In a future version, integer keys will always be treated as labels (consistent with DataFrame behavior). To access a value by position, use `ser.iloc[pos]`\n",
      "  trainingCrossover = trainingCrossoverRow['Crossover'][0]\n",
      "C:\\Users\\marti\\AppData\\Local\\Temp\\ipykernel_11656\\89973294.py:48: FutureWarning: Series.__getitem__ treating keys as positions is deprecated. In a future version, integer keys will always be treated as labels (consistent with DataFrame behavior). To access a value by position, use `ser.iloc[pos]`\n",
      "  latestCrossover = latestCrossoverRow['Crossover'][0]\n",
      "C:\\Users\\marti\\AppData\\Local\\Temp\\ipykernel_11656\\89973294.py:55: FutureWarning: Series.__getitem__ treating keys as positions is deprecated. In a future version, integer keys will always be treated as labels (consistent with DataFrame behavior). To access a value by position, use `ser.iloc[pos]`\n",
      "  trainingCrossover = trainingCrossoverRow['Crossover'][0]\n",
      "C:\\Users\\marti\\AppData\\Local\\Temp\\ipykernel_11656\\89973294.py:48: FutureWarning: Series.__getitem__ treating keys as positions is deprecated. In a future version, integer keys will always be treated as labels (consistent with DataFrame behavior). To access a value by position, use `ser.iloc[pos]`\n",
      "  latestCrossover = latestCrossoverRow['Crossover'][0]\n",
      "C:\\Users\\marti\\AppData\\Local\\Temp\\ipykernel_11656\\89973294.py:55: FutureWarning: Series.__getitem__ treating keys as positions is deprecated. In a future version, integer keys will always be treated as labels (consistent with DataFrame behavior). To access a value by position, use `ser.iloc[pos]`\n",
      "  trainingCrossover = trainingCrossoverRow['Crossover'][0]\n",
      "C:\\Users\\marti\\AppData\\Local\\Temp\\ipykernel_11656\\89973294.py:48: FutureWarning: Series.__getitem__ treating keys as positions is deprecated. In a future version, integer keys will always be treated as labels (consistent with DataFrame behavior). To access a value by position, use `ser.iloc[pos]`\n",
      "  latestCrossover = latestCrossoverRow['Crossover'][0]\n",
      "C:\\Users\\marti\\AppData\\Local\\Temp\\ipykernel_11656\\89973294.py:55: FutureWarning: Series.__getitem__ treating keys as positions is deprecated. In a future version, integer keys will always be treated as labels (consistent with DataFrame behavior). To access a value by position, use `ser.iloc[pos]`\n",
      "  trainingCrossover = trainingCrossoverRow['Crossover'][0]\n",
      "C:\\Users\\marti\\AppData\\Local\\Temp\\ipykernel_11656\\89973294.py:48: FutureWarning: Series.__getitem__ treating keys as positions is deprecated. In a future version, integer keys will always be treated as labels (consistent with DataFrame behavior). To access a value by position, use `ser.iloc[pos]`\n",
      "  latestCrossover = latestCrossoverRow['Crossover'][0]\n",
      "C:\\Users\\marti\\AppData\\Local\\Temp\\ipykernel_11656\\89973294.py:55: FutureWarning: Series.__getitem__ treating keys as positions is deprecated. In a future version, integer keys will always be treated as labels (consistent with DataFrame behavior). To access a value by position, use `ser.iloc[pos]`\n",
      "  trainingCrossover = trainingCrossoverRow['Crossover'][0]\n",
      "C:\\Users\\marti\\AppData\\Local\\Temp\\ipykernel_11656\\89973294.py:48: FutureWarning: Series.__getitem__ treating keys as positions is deprecated. In a future version, integer keys will always be treated as labels (consistent with DataFrame behavior). To access a value by position, use `ser.iloc[pos]`\n",
      "  latestCrossover = latestCrossoverRow['Crossover'][0]\n",
      "C:\\Users\\marti\\AppData\\Local\\Temp\\ipykernel_11656\\89973294.py:55: FutureWarning: Series.__getitem__ treating keys as positions is deprecated. In a future version, integer keys will always be treated as labels (consistent with DataFrame behavior). To access a value by position, use `ser.iloc[pos]`\n",
      "  trainingCrossover = trainingCrossoverRow['Crossover'][0]\n",
      "C:\\Users\\marti\\AppData\\Local\\Temp\\ipykernel_11656\\89973294.py:48: FutureWarning: Series.__getitem__ treating keys as positions is deprecated. In a future version, integer keys will always be treated as labels (consistent with DataFrame behavior). To access a value by position, use `ser.iloc[pos]`\n",
      "  latestCrossover = latestCrossoverRow['Crossover'][0]\n",
      "C:\\Users\\marti\\AppData\\Local\\Temp\\ipykernel_11656\\89973294.py:55: FutureWarning: Series.__getitem__ treating keys as positions is deprecated. In a future version, integer keys will always be treated as labels (consistent with DataFrame behavior). To access a value by position, use `ser.iloc[pos]`\n",
      "  trainingCrossover = trainingCrossoverRow['Crossover'][0]\n",
      "C:\\Users\\marti\\AppData\\Local\\Temp\\ipykernel_11656\\89973294.py:48: FutureWarning: Series.__getitem__ treating keys as positions is deprecated. In a future version, integer keys will always be treated as labels (consistent with DataFrame behavior). To access a value by position, use `ser.iloc[pos]`\n",
      "  latestCrossover = latestCrossoverRow['Crossover'][0]\n",
      "C:\\Users\\marti\\AppData\\Local\\Temp\\ipykernel_11656\\89973294.py:55: FutureWarning: Series.__getitem__ treating keys as positions is deprecated. In a future version, integer keys will always be treated as labels (consistent with DataFrame behavior). To access a value by position, use `ser.iloc[pos]`\n",
      "  trainingCrossover = trainingCrossoverRow['Crossover'][0]\n",
      "C:\\Users\\marti\\AppData\\Local\\Temp\\ipykernel_11656\\89973294.py:48: FutureWarning: Series.__getitem__ treating keys as positions is deprecated. In a future version, integer keys will always be treated as labels (consistent with DataFrame behavior). To access a value by position, use `ser.iloc[pos]`\n",
      "  latestCrossover = latestCrossoverRow['Crossover'][0]\n",
      "C:\\Users\\marti\\AppData\\Local\\Temp\\ipykernel_11656\\89973294.py:55: FutureWarning: Series.__getitem__ treating keys as positions is deprecated. In a future version, integer keys will always be treated as labels (consistent with DataFrame behavior). To access a value by position, use `ser.iloc[pos]`\n",
      "  trainingCrossover = trainingCrossoverRow['Crossover'][0]\n",
      "C:\\Users\\marti\\AppData\\Local\\Temp\\ipykernel_11656\\89973294.py:48: FutureWarning: Series.__getitem__ treating keys as positions is deprecated. In a future version, integer keys will always be treated as labels (consistent with DataFrame behavior). To access a value by position, use `ser.iloc[pos]`\n",
      "  latestCrossover = latestCrossoverRow['Crossover'][0]\n",
      "C:\\Users\\marti\\AppData\\Local\\Temp\\ipykernel_11656\\89973294.py:55: FutureWarning: Series.__getitem__ treating keys as positions is deprecated. In a future version, integer keys will always be treated as labels (consistent with DataFrame behavior). To access a value by position, use `ser.iloc[pos]`\n",
      "  trainingCrossover = trainingCrossoverRow['Crossover'][0]\n",
      "C:\\Users\\marti\\AppData\\Local\\Temp\\ipykernel_11656\\89973294.py:48: FutureWarning: Series.__getitem__ treating keys as positions is deprecated. In a future version, integer keys will always be treated as labels (consistent with DataFrame behavior). To access a value by position, use `ser.iloc[pos]`\n",
      "  latestCrossover = latestCrossoverRow['Crossover'][0]\n",
      "C:\\Users\\marti\\AppData\\Local\\Temp\\ipykernel_11656\\89973294.py:55: FutureWarning: Series.__getitem__ treating keys as positions is deprecated. In a future version, integer keys will always be treated as labels (consistent with DataFrame behavior). To access a value by position, use `ser.iloc[pos]`\n",
      "  trainingCrossover = trainingCrossoverRow['Crossover'][0]\n",
      "C:\\Users\\marti\\AppData\\Local\\Temp\\ipykernel_11656\\89973294.py:48: FutureWarning: Series.__getitem__ treating keys as positions is deprecated. In a future version, integer keys will always be treated as labels (consistent with DataFrame behavior). To access a value by position, use `ser.iloc[pos]`\n",
      "  latestCrossover = latestCrossoverRow['Crossover'][0]\n",
      "C:\\Users\\marti\\AppData\\Local\\Temp\\ipykernel_11656\\89973294.py:55: FutureWarning: Series.__getitem__ treating keys as positions is deprecated. In a future version, integer keys will always be treated as labels (consistent with DataFrame behavior). To access a value by position, use `ser.iloc[pos]`\n",
      "  trainingCrossover = trainingCrossoverRow['Crossover'][0]\n",
      "C:\\Users\\marti\\AppData\\Local\\Temp\\ipykernel_11656\\89973294.py:48: FutureWarning: Series.__getitem__ treating keys as positions is deprecated. In a future version, integer keys will always be treated as labels (consistent with DataFrame behavior). To access a value by position, use `ser.iloc[pos]`\n",
      "  latestCrossover = latestCrossoverRow['Crossover'][0]\n",
      "C:\\Users\\marti\\AppData\\Local\\Temp\\ipykernel_11656\\89973294.py:55: FutureWarning: Series.__getitem__ treating keys as positions is deprecated. In a future version, integer keys will always be treated as labels (consistent with DataFrame behavior). To access a value by position, use `ser.iloc[pos]`\n",
      "  trainingCrossover = trainingCrossoverRow['Crossover'][0]\n",
      "C:\\Users\\marti\\AppData\\Local\\Temp\\ipykernel_11656\\89973294.py:48: FutureWarning: Series.__getitem__ treating keys as positions is deprecated. In a future version, integer keys will always be treated as labels (consistent with DataFrame behavior). To access a value by position, use `ser.iloc[pos]`\n",
      "  latestCrossover = latestCrossoverRow['Crossover'][0]\n",
      "C:\\Users\\marti\\AppData\\Local\\Temp\\ipykernel_11656\\89973294.py:55: FutureWarning: Series.__getitem__ treating keys as positions is deprecated. In a future version, integer keys will always be treated as labels (consistent with DataFrame behavior). To access a value by position, use `ser.iloc[pos]`\n",
      "  trainingCrossover = trainingCrossoverRow['Crossover'][0]\n",
      "C:\\Users\\marti\\AppData\\Local\\Temp\\ipykernel_11656\\89973294.py:48: FutureWarning: Series.__getitem__ treating keys as positions is deprecated. In a future version, integer keys will always be treated as labels (consistent with DataFrame behavior). To access a value by position, use `ser.iloc[pos]`\n",
      "  latestCrossover = latestCrossoverRow['Crossover'][0]\n",
      "C:\\Users\\marti\\AppData\\Local\\Temp\\ipykernel_11656\\89973294.py:55: FutureWarning: Series.__getitem__ treating keys as positions is deprecated. In a future version, integer keys will always be treated as labels (consistent with DataFrame behavior). To access a value by position, use `ser.iloc[pos]`\n",
      "  trainingCrossover = trainingCrossoverRow['Crossover'][0]\n",
      "C:\\Users\\marti\\AppData\\Local\\Temp\\ipykernel_11656\\89973294.py:48: FutureWarning: Series.__getitem__ treating keys as positions is deprecated. In a future version, integer keys will always be treated as labels (consistent with DataFrame behavior). To access a value by position, use `ser.iloc[pos]`\n",
      "  latestCrossover = latestCrossoverRow['Crossover'][0]\n",
      "C:\\Users\\marti\\AppData\\Local\\Temp\\ipykernel_11656\\89973294.py:55: FutureWarning: Series.__getitem__ treating keys as positions is deprecated. In a future version, integer keys will always be treated as labels (consistent with DataFrame behavior). To access a value by position, use `ser.iloc[pos]`\n",
      "  trainingCrossover = trainingCrossoverRow['Crossover'][0]\n",
      "C:\\Users\\marti\\AppData\\Local\\Temp\\ipykernel_11656\\89973294.py:48: FutureWarning: Series.__getitem__ treating keys as positions is deprecated. In a future version, integer keys will always be treated as labels (consistent with DataFrame behavior). To access a value by position, use `ser.iloc[pos]`\n",
      "  latestCrossover = latestCrossoverRow['Crossover'][0]\n",
      "C:\\Users\\marti\\AppData\\Local\\Temp\\ipykernel_11656\\89973294.py:55: FutureWarning: Series.__getitem__ treating keys as positions is deprecated. In a future version, integer keys will always be treated as labels (consistent with DataFrame behavior). To access a value by position, use `ser.iloc[pos]`\n",
      "  trainingCrossover = trainingCrossoverRow['Crossover'][0]\n",
      "C:\\Users\\marti\\AppData\\Local\\Temp\\ipykernel_11656\\89973294.py:48: FutureWarning: Series.__getitem__ treating keys as positions is deprecated. In a future version, integer keys will always be treated as labels (consistent with DataFrame behavior). To access a value by position, use `ser.iloc[pos]`\n",
      "  latestCrossover = latestCrossoverRow['Crossover'][0]\n",
      "C:\\Users\\marti\\AppData\\Local\\Temp\\ipykernel_11656\\89973294.py:55: FutureWarning: Series.__getitem__ treating keys as positions is deprecated. In a future version, integer keys will always be treated as labels (consistent with DataFrame behavior). To access a value by position, use `ser.iloc[pos]`\n",
      "  trainingCrossover = trainingCrossoverRow['Crossover'][0]\n"
     ]
    }
   ],
   "source": [
    "# Initialize lists to store calculated values\n",
    "latestCrossoverList = []\n",
    "crossoverDateList = []\n",
    "daysSinceCrossoverList =[]\n",
    "trainingCrossoverList = []\n",
    "trainingCrossoverDateList = []\n",
    "daysSinceTrainingCrossoverList = []\n",
    "# Loop through each ticker in the data_frames\n",
    "for ticker, data in data_frames.items():\n",
    "    # Convert the 'Close' column to a 1D numpy array\n",
    "    close_prices = data['Close'].to_numpy().flatten()\n",
    "\n",
    "    # Ensure close_prices is 1D before passing it to MACD\n",
    "    if close_prices.ndim == 1:\n",
    "        # Calculate MACD and Signal line using talib\n",
    "        macd, macd_signal, macd_hist = talib.MACD(close_prices, fastperiod=12, slowperiod=26, signalperiod=9)\n",
    "\n",
    "        # Check for crossovers\n",
    "        crossover = []\n",
    "        trainingCrossover = []\n",
    "        for i in range(1, len(macd)):\n",
    "            if macd[i-1] < macd_signal[i-1] and macd[i] > macd_signal[i]:\n",
    "                crossover.append('Bullish')\n",
    "            elif macd[i-1] > macd_signal[i-1] and macd[i] < macd_signal[i]:\n",
    "                crossover.append('Bearish')\n",
    "            else:\n",
    "                crossover.append(None)\n",
    "\n",
    "        # Add MACD, Signal, and Crossover columns to the DataFrame\n",
    "        data['MACD'] = macd\n",
    "        data['Signal'] = macd_signal\n",
    "        data['Crossover'] = [None] + crossover\n",
    "\n",
    "        # Reverse the DataFrame\n",
    "        reversed_data = data.iloc[::-1]\n",
    "\n",
    "        # Find the last two crossovers\n",
    "        crossovers = reversed_data[reversed_data['Crossover'].notna()]\n",
    "        # To handle exceptions\n",
    "        if len(crossovers) == 0:\n",
    "            latestCrossover = None\n",
    "            previousCrossover = None\n",
    "            crossoverDate = None\n",
    "            daysSinceCrossover = None\n",
    "        # Extract neccesary data\n",
    "        else:\n",
    "            latestCrossoverRow = crossovers.iloc[0]\n",
    "            latestCrossover = latestCrossoverRow['Crossover'][0]\n",
    "            latestCrossoverDate = crossovers.iloc[0].values[0]\n",
    "            crossoverDate = latestCrossoverRow.name\n",
    "            daysSinceCrossover = (datetime.now() - pd.Timestamp(crossoverDate).to_pydatetime()).days\n",
    "        # Extract training data\n",
    "            if len(crossovers) > 1:\n",
    "                trainingCrossoverRow = crossovers.iloc[1]\n",
    "                trainingCrossover = trainingCrossoverRow['Crossover'][0]\n",
    "                trainingCrossoverDate = trainingCrossoverRow.name\n",
    "                daysSinceTrainingCrossover = (pd.Timestamp(crossoverDate) - pd.Timestamp(trainingCrossoverDate)).days\n",
    "            else:\n",
    "                trainingCrossover = None\n",
    "                daysSinceTrainingCrossover = None\n",
    "\n",
    "        # Store the results\n",
    "        latestCrossoverList.append(latestCrossover)\n",
    "        crossoverDateList.append(crossoverDate)\n",
    "        daysSinceCrossoverList.append(daysSinceCrossover)\n",
    "        trainingCrossoverList.append(trainingCrossover)\n",
    "        trainingCrossoverDateList.append(trainingCrossoverDate)\n",
    "        daysSinceTrainingCrossoverList.append(daysSinceTrainingCrossover)\n",
    "\n",
    "# Filter our data by previously screened tickers\n",
    "latestCrossoverList = [latestCrossoverList[tickers.index(ticker)] if ticker in tickers else None for ticker in filteredTickers]\n",
    "crossoverDateList = [crossoverDateList[tickers.index(ticker)] if ticker in tickers else None for ticker in filteredTickers]\n",
    "daysSinceCrossoverList = [daysSinceCrossoverList[tickers.index(ticker)] if ticker in tickers else None for ticker in filteredTickers]\n",
    "# Add results to dataframes\n",
    "screened_df[\"latestCrossover\"]= latestCrossoverList\n",
    "screened_df[\"crossoverDate\"]= crossoverDateList\n",
    "screened_df[\"daysSinceCrossover\"]= daysSinceCrossoverList\n",
    "# Add training results to dataframe\n",
    "training_df[\"trainingCrossover\"]= trainingCrossoverList\n",
    "training_df[\"trainingCrossoverDate\"]= trainingCrossoverDateList\n",
    "training_df[\"daysSinceTrainingCrossover\"]= daysSinceTrainingCrossoverList"
   ]
  },
  {
   "cell_type": "code",
   "execution_count": 10,
   "id": "09885536-3100-4264-a362-b433da8843df",
   "metadata": {},
   "outputs": [],
   "source": [
    "# List to store RSI values for each ticker\n",
    "RSI = []\n",
    "trainingRSI = []\n",
    "\n",
    "# Loop through each ticker in the data_frames\n",
    "for ticker, data in data_frames.items():\n",
    "    # Convert the 'Close' column to an array\n",
    "    close_prices = data['Close'].to_numpy().flatten() \n",
    "\n",
    "    # Calculate RSI\n",
    "    rsi = talib.RSI(close_prices, timeperiod=14)\n",
    "\n",
    "    # Add RSI to the dataframe for that ticker\n",
    "    data['RSI'] = rsi\n",
    "\n",
    "    # Store the RSI values for each ticker\n",
    "    latest_rsi = rsi[-1]\n",
    "    previous_rsi = rsi[-2]\n",
    "    RSI.append(latest_rsi)\n",
    "    trainingRSI.append(previous_rsi)\n",
    "\n",
    "\n",
    "\n",
    "# Filter our data by previously screened tickers\n",
    "RSI = [RSI[tickers.index(ticker)] if ticker in tickers else None for ticker in filteredTickers]\n",
    "\n",
    "# Add results to dataframes\n",
    "screened_df[\"RSI\"] = RSI\n",
    "training_df[\"trainingRSI\"]= trainingRSI"
   ]
  },
  {
   "cell_type": "code",
   "execution_count": 11,
   "id": "73d489dc-7c27-42f4-aabb-41c73b9e34b2",
   "metadata": {},
   "outputs": [],
   "source": [
    "# List to store the Bollinger Bands results for each ticker\n",
    "latestUpper = []\n",
    "latestMiddle = []\n",
    "latestLower = []\n",
    "trainingUpper = []\n",
    "trainingMiddle = []\n",
    "trainingLower = []\n",
    "# Loop through each ticker in your data_frames\n",
    "for ticker, data in data_frames.items():\n",
    "    # Get the closing prices\n",
    "    close_prices = data['Close'].to_numpy().flatten()\n",
    "\n",
    "    # Calculate Bollinger Bands using talib\n",
    "    upper_band, middle_band, lower_band = talib.BBANDS(close_prices, timeperiod=20, nbdevup=2, nbdevdn=2, matype=0)\n",
    "\n",
    "    # Add the Bollinger Bands to the dataframe\n",
    "    data['Upper Band'] = upper_band\n",
    "    data['Middle Band'] = middle_band\n",
    "    data['Lower Band'] = lower_band\n",
    "\n",
    "    # Store the latest values for each ticker\n",
    "    latestUpper.append(upper_band[-1])\n",
    "    latestMiddle.append(middle_band[-1])\n",
    "    latestLower.append(lower_band[-1])\n",
    "    # Store the previous values for each ticker\n",
    "    trainingUpper.append(upper_band[-2])\n",
    "    trainingMiddle.append(middle_band[-2])\n",
    "    trainingLower.append(lower_band[-2])\n",
    "\n",
    "\n",
    "# Filter our data by previously screened tickers\n",
    "latestUpper = [latestUpper[tickers.index(ticker)] if ticker in tickers else None for ticker in filteredTickers]\n",
    "latestMiddle = [latestMiddle[tickers.index(ticker)] if ticker in tickers else None for ticker in filteredTickers]\n",
    "latestLower = [latestLower[tickers.index(ticker)] if ticker in tickers else None for ticker in filteredTickers]\n",
    "\n",
    "# Add results to dataframes\n",
    "screened_df[\"latestUpper\"]= latestUpper\n",
    "screened_df[\"latestMiddle\"]= latestMiddle\n",
    "screened_df[\"latestLower\"]= latestLower\n",
    "\n",
    "training_df[\"trainingUpper\"]= trainingUpper\n",
    "training_df[\"trainingMiddle\"]= trainingMiddle\n",
    "training_df[\"trainingLower\"]= trainingLower"
   ]
  },
  {
   "cell_type": "code",
   "execution_count": 12,
   "id": "ff41b89e-7ffb-4e1a-a72d-d1476588ff55",
   "metadata": {},
   "outputs": [
    {
     "data": {
      "text/html": [
       "<div>\n",
       "<style scoped>\n",
       "    .dataframe tbody tr th:only-of-type {\n",
       "        vertical-align: middle;\n",
       "    }\n",
       "\n",
       "    .dataframe tbody tr th {\n",
       "        vertical-align: top;\n",
       "    }\n",
       "\n",
       "    .dataframe thead th {\n",
       "        text-align: right;\n",
       "    }\n",
       "</style>\n",
       "<table border=\"1\" class=\"dataframe\">\n",
       "  <thead>\n",
       "    <tr style=\"text-align: right;\">\n",
       "      <th></th>\n",
       "      <th>Ticker</th>\n",
       "      <th>outstandingShares</th>\n",
       "      <th>trainingVolume</th>\n",
       "      <th>averageTrainingVolume</th>\n",
       "      <th>relativeTrainingVolume</th>\n",
       "      <th>trainingTurnoverRatio</th>\n",
       "      <th>trainingVWAP</th>\n",
       "      <th>trainingClose</th>\n",
       "      <th>percentageChange</th>\n",
       "      <th>trainingMomentum (%)</th>\n",
       "      <th>trainingCrossover</th>\n",
       "      <th>trainingCrossoverDate</th>\n",
       "      <th>daysSinceTrainingCrossover</th>\n",
       "      <th>trainingRSI</th>\n",
       "      <th>trainingUpper</th>\n",
       "      <th>trainingMiddle</th>\n",
       "      <th>trainingLower</th>\n",
       "    </tr>\n",
       "  </thead>\n",
       "  <tbody>\n",
       "    <tr>\n",
       "      <th>0</th>\n",
       "      <td>VCIG</td>\n",
       "      <td>12508500</td>\n",
       "      <td>1122800</td>\n",
       "      <td>19884800.0</td>\n",
       "      <td>0.056465</td>\n",
       "      <td>0.089763</td>\n",
       "      <td>3.641068</td>\n",
       "      <td>1.570000</td>\n",
       "      <td>102.547768</td>\n",
       "      <td>-56.880781</td>\n",
       "      <td>Bearish</td>\n",
       "      <td>2024-12-16</td>\n",
       "      <td>4</td>\n",
       "      <td>39.700241</td>\n",
       "      <td>3.788499</td>\n",
       "      <td>2.219250</td>\n",
       "      <td>0.650001</td>\n",
       "    </tr>\n",
       "    <tr>\n",
       "      <th>1</th>\n",
       "      <td>NVDA</td>\n",
       "      <td>24490000384</td>\n",
       "      <td>209719200</td>\n",
       "      <td>221437525.0</td>\n",
       "      <td>0.947081</td>\n",
       "      <td>0.008563</td>\n",
       "      <td>124.745299</td>\n",
       "      <td>130.679993</td>\n",
       "      <td>103.076220</td>\n",
       "      <td>4.757449</td>\n",
       "      <td>Bullish</td>\n",
       "      <td>2024-11-07</td>\n",
       "      <td>8</td>\n",
       "      <td>40.030050</td>\n",
       "      <td>147.495070</td>\n",
       "      <td>137.671999</td>\n",
       "      <td>127.848928</td>\n",
       "    </tr>\n",
       "    <tr>\n",
       "      <th>2</th>\n",
       "      <td>MARA</td>\n",
       "      <td>339382016</td>\n",
       "      <td>47800000</td>\n",
       "      <td>79004335.0</td>\n",
       "      <td>0.605030</td>\n",
       "      <td>0.140844</td>\n",
       "      <td>20.482381</td>\n",
       "      <td>20.370001</td>\n",
       "      <td>97.987228</td>\n",
       "      <td>-0.548665</td>\n",
       "      <td>Bullish</td>\n",
       "      <td>2024-11-20</td>\n",
       "      <td>19</td>\n",
       "      <td>42.380103</td>\n",
       "      <td>28.129151</td>\n",
       "      <td>24.513500</td>\n",
       "      <td>20.897849</td>\n",
       "    </tr>\n",
       "    <tr>\n",
       "      <th>3</th>\n",
       "      <td>BBD</td>\n",
       "      <td>5295830016</td>\n",
       "      <td>35584900</td>\n",
       "      <td>40671840.0</td>\n",
       "      <td>0.874927</td>\n",
       "      <td>0.006719</td>\n",
       "      <td>2.459081</td>\n",
       "      <td>1.880000</td>\n",
       "      <td>102.659572</td>\n",
       "      <td>-23.548660</td>\n",
       "      <td>Bullish</td>\n",
       "      <td>2024-11-18</td>\n",
       "      <td>11</td>\n",
       "      <td>28.882800</td>\n",
       "      <td>2.421039</td>\n",
       "      <td>2.115000</td>\n",
       "      <td>1.808961</td>\n",
       "    </tr>\n",
       "    <tr>\n",
       "      <th>4</th>\n",
       "      <td>SMCI</td>\n",
       "      <td>585564992</td>\n",
       "      <td>39138300</td>\n",
       "      <td>99416705.0</td>\n",
       "      <td>0.393679</td>\n",
       "      <td>0.066839</td>\n",
       "      <td>48.352549</td>\n",
       "      <td>31.240000</td>\n",
       "      <td>101.120360</td>\n",
       "      <td>-35.391204</td>\n",
       "      <td>Bullish</td>\n",
       "      <td>2024-11-19</td>\n",
       "      <td>27</td>\n",
       "      <td>42.662865</td>\n",
       "      <td>45.613385</td>\n",
       "      <td>37.028500</td>\n",
       "      <td>28.443615</td>\n",
       "    </tr>\n",
       "  </tbody>\n",
       "</table>\n",
       "</div>"
      ],
      "text/plain": [
       "  Ticker  outstandingShares  trainingVolume  averageTrainingVolume  \\\n",
       "0   VCIG           12508500         1122800             19884800.0   \n",
       "1   NVDA        24490000384       209719200            221437525.0   \n",
       "2   MARA          339382016        47800000             79004335.0   \n",
       "3    BBD         5295830016        35584900             40671840.0   \n",
       "4   SMCI          585564992        39138300             99416705.0   \n",
       "\n",
       "   relativeTrainingVolume  trainingTurnoverRatio  trainingVWAP  trainingClose  \\\n",
       "0                0.056465               0.089763      3.641068       1.570000   \n",
       "1                0.947081               0.008563    124.745299     130.679993   \n",
       "2                0.605030               0.140844     20.482381      20.370001   \n",
       "3                0.874927               0.006719      2.459081       1.880000   \n",
       "4                0.393679               0.066839     48.352549      31.240000   \n",
       "\n",
       "   percentageChange  trainingMomentum (%) trainingCrossover  \\\n",
       "0        102.547768            -56.880781           Bearish   \n",
       "1        103.076220              4.757449           Bullish   \n",
       "2         97.987228             -0.548665           Bullish   \n",
       "3        102.659572            -23.548660           Bullish   \n",
       "4        101.120360            -35.391204           Bullish   \n",
       "\n",
       "  trainingCrossoverDate  daysSinceTrainingCrossover  trainingRSI  \\\n",
       "0            2024-12-16                           4    39.700241   \n",
       "1            2024-11-07                           8    40.030050   \n",
       "2            2024-11-20                          19    42.380103   \n",
       "3            2024-11-18                          11    28.882800   \n",
       "4            2024-11-19                          27    42.662865   \n",
       "\n",
       "   trainingUpper  trainingMiddle  trainingLower  \n",
       "0       3.788499        2.219250       0.650001  \n",
       "1     147.495070      137.671999     127.848928  \n",
       "2      28.129151       24.513500      20.897849  \n",
       "3       2.421039        2.115000       1.808961  \n",
       "4      45.613385       37.028500      28.443615  "
      ]
     },
     "execution_count": 12,
     "metadata": {},
     "output_type": "execute_result"
    }
   ],
   "source": [
    "# Test\n",
    "training_df.head()"
   ]
  },
  {
   "cell_type": "code",
   "execution_count": 13,
   "id": "4763dce9-d36e-488b-a0e0-1b6ba64cc9d5",
   "metadata": {},
   "outputs": [
    {
     "data": {
      "text/html": [
       "<div>\n",
       "<style scoped>\n",
       "    .dataframe tbody tr th:only-of-type {\n",
       "        vertical-align: middle;\n",
       "    }\n",
       "\n",
       "    .dataframe tbody tr th {\n",
       "        vertical-align: top;\n",
       "    }\n",
       "\n",
       "    .dataframe thead th {\n",
       "        text-align: right;\n",
       "    }\n",
       "</style>\n",
       "<table border=\"1\" class=\"dataframe\">\n",
       "  <thead>\n",
       "    <tr style=\"text-align: right;\">\n",
       "      <th></th>\n",
       "      <th>Ticker</th>\n",
       "      <th>outstandingShares</th>\n",
       "      <th>volume</th>\n",
       "      <th>averageVolume</th>\n",
       "      <th>relativeVolume</th>\n",
       "      <th>turnoverRatio</th>\n",
       "      <th>VWAP</th>\n",
       "      <th>recentClose</th>\n",
       "      <th>momentum (%)</th>\n",
       "      <th>latestCrossover</th>\n",
       "      <th>crossoverDate</th>\n",
       "      <th>daysSinceCrossover</th>\n",
       "      <th>RSI</th>\n",
       "      <th>latestUpper</th>\n",
       "      <th>latestMiddle</th>\n",
       "      <th>latestLower</th>\n",
       "    </tr>\n",
       "  </thead>\n",
       "  <tbody>\n",
       "    <tr>\n",
       "      <th>0</th>\n",
       "      <td>BITF</td>\n",
       "      <td>472551008</td>\n",
       "      <td>55713400</td>\n",
       "      <td>53430860.0</td>\n",
       "      <td>1.042720</td>\n",
       "      <td>0.117899</td>\n",
       "      <td>2.202832</td>\n",
       "      <td>1.680000</td>\n",
       "      <td>-23.734548</td>\n",
       "      <td>Bearish</td>\n",
       "      <td>2024-12-10</td>\n",
       "      <td>12</td>\n",
       "      <td>38.201608</td>\n",
       "      <td>2.320127</td>\n",
       "      <td>2.025000</td>\n",
       "      <td>1.729873</td>\n",
       "    </tr>\n",
       "    <tr>\n",
       "      <th>1</th>\n",
       "      <td>TSLA</td>\n",
       "      <td>3210060032</td>\n",
       "      <td>131374800</td>\n",
       "      <td>90593340.0</td>\n",
       "      <td>1.450160</td>\n",
       "      <td>0.040926</td>\n",
       "      <td>269.558909</td>\n",
       "      <td>421.059998</td>\n",
       "      <td>56.203332</td>\n",
       "      <td>Bullish</td>\n",
       "      <td>2024-12-06</td>\n",
       "      <td>16</td>\n",
       "      <td>60.755475</td>\n",
       "      <td>480.678629</td>\n",
       "      <td>392.135001</td>\n",
       "      <td>303.591373</td>\n",
       "    </tr>\n",
       "    <tr>\n",
       "      <th>2</th>\n",
       "      <td>PLUG</td>\n",
       "      <td>911196992</td>\n",
       "      <td>83794200</td>\n",
       "      <td>67047365.0</td>\n",
       "      <td>1.249776</td>\n",
       "      <td>0.091961</td>\n",
       "      <td>2.231900</td>\n",
       "      <td>2.560000</td>\n",
       "      <td>14.700474</td>\n",
       "      <td>Bullish</td>\n",
       "      <td>2024-12-20</td>\n",
       "      <td>2</td>\n",
       "      <td>58.562971</td>\n",
       "      <td>2.701765</td>\n",
       "      <td>2.317000</td>\n",
       "      <td>1.932235</td>\n",
       "    </tr>\n",
       "    <tr>\n",
       "      <th>3</th>\n",
       "      <td>INTC</td>\n",
       "      <td>4312999936</td>\n",
       "      <td>108060900</td>\n",
       "      <td>84181360.0</td>\n",
       "      <td>1.283668</td>\n",
       "      <td>0.025055</td>\n",
       "      <td>23.551201</td>\n",
       "      <td>19.520000</td>\n",
       "      <td>-17.116750</td>\n",
       "      <td>Bearish</td>\n",
       "      <td>2024-11-19</td>\n",
       "      <td>33</td>\n",
       "      <td>34.702595</td>\n",
       "      <td>25.312213</td>\n",
       "      <td>21.628000</td>\n",
       "      <td>17.943787</td>\n",
       "    </tr>\n",
       "    <tr>\n",
       "      <th>4</th>\n",
       "      <td>LCID</td>\n",
       "      <td>3011689984</td>\n",
       "      <td>156730300</td>\n",
       "      <td>91698230.0</td>\n",
       "      <td>1.709197</td>\n",
       "      <td>0.052041</td>\n",
       "      <td>2.858728</td>\n",
       "      <td>3.020000</td>\n",
       "      <td>5.641390</td>\n",
       "      <td>Bullish</td>\n",
       "      <td>2024-11-11</td>\n",
       "      <td>41</td>\n",
       "      <td>68.425017</td>\n",
       "      <td>2.915009</td>\n",
       "      <td>2.381250</td>\n",
       "      <td>1.847491</td>\n",
       "    </tr>\n",
       "  </tbody>\n",
       "</table>\n",
       "</div>"
      ],
      "text/plain": [
       "  Ticker  outstandingShares     volume  averageVolume  relativeVolume  \\\n",
       "0   BITF          472551008   55713400     53430860.0        1.042720   \n",
       "1   TSLA         3210060032  131374800     90593340.0        1.450160   \n",
       "2   PLUG          911196992   83794200     67047365.0        1.249776   \n",
       "3   INTC         4312999936  108060900     84181360.0        1.283668   \n",
       "4   LCID         3011689984  156730300     91698230.0        1.709197   \n",
       "\n",
       "   turnoverRatio        VWAP  recentClose  momentum (%) latestCrossover  \\\n",
       "0       0.117899    2.202832     1.680000    -23.734548         Bearish   \n",
       "1       0.040926  269.558909   421.059998     56.203332         Bullish   \n",
       "2       0.091961    2.231900     2.560000     14.700474         Bullish   \n",
       "3       0.025055   23.551201    19.520000    -17.116750         Bearish   \n",
       "4       0.052041    2.858728     3.020000      5.641390         Bullish   \n",
       "\n",
       "  crossoverDate  daysSinceCrossover        RSI  latestUpper  latestMiddle  \\\n",
       "0    2024-12-10                  12  38.201608     2.320127      2.025000   \n",
       "1    2024-12-06                  16  60.755475   480.678629    392.135001   \n",
       "2    2024-12-20                   2  58.562971     2.701765      2.317000   \n",
       "3    2024-11-19                  33  34.702595    25.312213     21.628000   \n",
       "4    2024-11-11                  41  68.425017     2.915009      2.381250   \n",
       "\n",
       "   latestLower  \n",
       "0     1.729873  \n",
       "1   303.591373  \n",
       "2     1.932235  \n",
       "3    17.943787  \n",
       "4     1.847491  "
      ]
     },
     "execution_count": 13,
     "metadata": {},
     "output_type": "execute_result"
    }
   ],
   "source": [
    "# Test\n",
    "screened_df.head()"
   ]
  },
  {
   "cell_type": "code",
   "execution_count": 15,
   "id": "e15cab74-2267-43db-930b-8f58871e6733",
   "metadata": {},
   "outputs": [],
   "source": [
    "screened_df.to_csv('../Resources/ForPredictivePurposes.csv', index=False, mode='w')\n",
    "training_df.to_csv('../Resources/ForPredictiveModels.csv', index=False,mode='w')"
   ]
  },
  {
   "cell_type": "markdown",
   "id": "4054909f-d757-46dc-8516-3fb6b7c69247",
   "metadata": {},
   "source": [
    "# PyMongo"
   ]
  },
  {
   "cell_type": "code",
   "execution_count": null,
   "id": "bb76846e-b2dc-4682-8173-3883bdc0ad3b",
   "metadata": {},
   "outputs": [],
   "source": [
    "# from pymongo import MongoClient\n",
    "\n",
    "# # MongoDB connection\n",
    "# client = MongoClient('mongodb://localhost:27017/')\n",
    "\n",
    "# # Connect to the stockValues database\n",
    "# db = client['stockValues']\n",
    "\n",
    "# # Explicitly select the collection for firstRound\n",
    "# first_round_collection = db['firstRound']\n",
    "\n",
    "# # Explicitly select the collection for stockPrices\n",
    "# stockPriceCollection = db['stockPrices']\n",
    "\n",
    "# # Assuming you already have merged_df for the first insertion into 'firstRound'\n",
    "# data_dict = merged_df.to_dict(orient='records')\n",
    "# first_round_collection.insert_many(data_dict)\n",
    "\n",
    "# # Now loop through the tickers and insert data into stockPriceCollection\n",
    "# for ticker, data in data_frames.items():\n",
    "#     # Reset the index and ensure column names are strings\n",
    "#     data_reset = data.reset_index()\n",
    "    \n",
    "#     # Ensure column names are strings (fix any issues with non-string or empty names)\n",
    "#     data_reset.columns = [str(col) if col != '' else 'Unnamed_Column' for col in data_reset.columns]\n",
    "    \n",
    "#     # Convert to dictionary format suitable for MongoDB\n",
    "#     data_dict = data_reset.to_dict(orient='records')\n",
    "    \n",
    "#     # Insert into stockPriceCollection\n",
    "#     stockPriceCollection.insert_many(data_dict)"
   ]
  }
 ],
 "metadata": {
  "kernelspec": {
   "display_name": "dev",
   "language": "python",
   "name": "dev"
  },
  "language_info": {
   "codemirror_mode": {
    "name": "ipython",
    "version": 3
   },
   "file_extension": ".py",
   "mimetype": "text/x-python",
   "name": "python",
   "nbconvert_exporter": "python",
   "pygments_lexer": "ipython3",
   "version": "3.10.14"
  },
  "widgets": {
   "application/vnd.jupyter.widget-state+json": {
    "state": {},
    "version_major": 2,
    "version_minor": 0
   }
  }
 },
 "nbformat": 4,
 "nbformat_minor": 5
}
